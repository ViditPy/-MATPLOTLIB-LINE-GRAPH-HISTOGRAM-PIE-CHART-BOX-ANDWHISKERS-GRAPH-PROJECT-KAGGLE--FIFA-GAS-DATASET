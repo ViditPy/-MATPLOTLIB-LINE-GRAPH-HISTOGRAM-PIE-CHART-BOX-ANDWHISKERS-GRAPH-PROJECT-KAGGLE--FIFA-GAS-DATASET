{
  "nbformat": 4,
  "nbformat_minor": 0,
  "metadata": {
    "colab": {
      "name": "Welcome To Colaboratory",
      "provenance": [],
      "collapsed_sections": [],
      "toc_visible": true,
      "include_colab_link": true
    },
    "kernelspec": {
      "display_name": "Python 3",
      "name": "python3"
    }
  },
  "cells": [
    {
      "cell_type": "markdown",
      "metadata": {
        "id": "view-in-github",
        "colab_type": "text"
      },
      "source": [
        "<a href=\"https://colab.research.google.com/github/ViditPy/-MATPLOTLIB-LINE-GRAPH-HISTOGRAM-PIE-CHART-BOX-ANDWHISKERS-GRAPH-PROJECT-KAGGLE--FIFA-GAS-DATASET/blob/master/Welcome_To_Colaboratory.ipynb\" target=\"_parent\"><img src=\"https://colab.research.google.com/assets/colab-badge.svg\" alt=\"Open In Colab\"/></a>"
      ]
    },
    {
      "cell_type": "markdown",
      "metadata": {
        "id": "WdcpBQr29nLX",
        "colab_type": "text"
      },
      "source": [
        "\"Credit Card Fraud Detection\"\n",
        "Anonymized credit card transactions labeled as fraudulent or genuine\n",
        "\n",
        "This Dataset has been downloaded from (https://www.kaggle.com/mlg-ulb/creditcardfraud)\n",
        "\n",
        "\n",
        "![alt text](https://drive.google.com/uc?id=1ZfTcc7JdVfztZsAwqAc1IhVKj2EZ1SMX)\n",
        "\n",
        "\n",
        "Credit Card Fraud Detection Predictive Models:\n",
        "\n",
        "Content\n",
        "Introduction\n",
        "Load packages\n",
        "Read the data\n",
        "Check the data\n",
        "Glimpse the data\n",
        "Check missing data\n",
        "Check data unbalance\n",
        "Data exploration\n",
        "Predictive models\n",
        "RandomForrestClassifier\n",
        "AdaBoostClassifier\n",
        "CatBoostClassifier\n",
        "XGBoost\n",
        "LightGBM\n",
        "Conclusions\n",
        "References"
      ]
    },
    {
      "cell_type": "markdown",
      "metadata": {
        "id": "aK7JBW5qAP_D",
        "colab_type": "text"
      },
      "source": [
        "                 \"INTRODUCTION\"\n",
        "                \n",
        "\n",
        "The datasets contains transactions made by credit cards in September 2013 by european cardholders. This dataset presents transactions that occurred in two days, where we have 492 frauds out of 284,807 transactions. The dataset is highly unbalanced, the positive class (frauds) account for 0.172% of all transactions.\n",
        "\n",
        "It contains only numerical input variables which are the result of a PCA transformation.\n",
        "\n",
        "Due to confidentiality issues, there are not provided the original features and more background information about the data.\n",
        "\n",
        "Features V1, V2, ... V28 are the principal components obtained with PCA;\n",
        "The only features which have not been transformed with PCA are Time and Amount. Feature Time contains the seconds elapsed between each transaction and the first transaction in the dataset. The feature Amount is the transaction Amount, this feature can be used for example-dependant cost-senstive learning.\n",
        "Feature Class is the response variable and it takes value 1 in case of fraud and 0 otherwise."
      ]
    },
    {
      "cell_type": "code",
      "metadata": {
        "id": "kTluilPlAI5m",
        "colab_type": "code",
        "colab": {}
      },
      "source": [
        "## LOADING PACKAGES\n"
      ],
      "execution_count": 0,
      "outputs": []
    },
    {
      "cell_type": "code",
      "metadata": {
        "id": "DiMElv6D9lqd",
        "colab_type": "code",
        "colab": {
          "base_uri": "https://localhost:8080/",
          "height": 71
        },
        "outputId": "a3c9c962-cf4b-4c9f-ec24-b89348630494"
      },
      "source": [
        "import pandas as pd \n",
        "import numpy as np\n",
        "import matplotlib\n",
        "import matplotlib.pyplot as plt\n",
        "import seaborn as sns\n",
        "%matplotlib inline \n",
        "import plotly.graph_objs as go\n",
        "import plotly.figure_factory as ff\n",
        "from plotly import tools\n",
        "from plotly.offline import download_plotlyjs, init_notebook_mode, plot, iplot\n",
        "init_notebook_mode(connected=True)\n"
      ],
      "execution_count": 1,
      "outputs": [
        {
          "output_type": "stream",
          "text": [
            "/usr/local/lib/python3.6/dist-packages/statsmodels/tools/_testing.py:19: FutureWarning: pandas.util.testing is deprecated. Use the functions in the public API at pandas.testing instead.\n",
            "  import pandas.util.testing as tm\n"
          ],
          "name": "stderr"
        },
        {
          "output_type": "display_data",
          "data": {
            "text/html": [
              "        <script type=\"text/javascript\">\n",
              "        window.PlotlyConfig = {MathJaxConfig: 'local'};\n",
              "        if (window.MathJax) {MathJax.Hub.Config({SVG: {font: \"STIX-Web\"}});}\n",
              "        if (typeof require !== 'undefined') {\n",
              "        require.undef(\"plotly\");\n",
              "        requirejs.config({\n",
              "            paths: {\n",
              "                'plotly': ['https://cdn.plot.ly/plotly-latest.min']\n",
              "            }\n",
              "        });\n",
              "        require(['plotly'], function(Plotly) {\n",
              "            window._Plotly = Plotly;\n",
              "        });\n",
              "        }\n",
              "        </script>\n",
              "        "
            ]
          },
          "metadata": {
            "tags": []
          }
        }
      ]
    },
    {
      "cell_type": "code",
      "metadata": {
        "id": "5w6moDkHBV3T",
        "colab_type": "code",
        "colab": {}
      },
      "source": [
        "import gc\n",
        "from datetime import datetime \n",
        "from sklearn.model_selection import train_test_split\n",
        "from sklearn.model_selection import KFold\n",
        "from sklearn.metrics import roc_auc_score\n",
        "from sklearn.ensemble import RandomForestClassifier\n",
        "from sklearn.ensemble import AdaBoostClassifier\n",
        "from sklearn import svm\n",
        "import lightgbm as lgb\n",
        "from lightgbm import LGBMClassifier\n",
        "import xgboost as xgb\n",
        "pd.set_option('display.max_columns', 100)\n"
      ],
      "execution_count": 0,
      "outputs": []
    },
    {
      "cell_type": "markdown",
      "metadata": {
        "id": "2OhJNhdvF84q",
        "colab_type": "text"
      },
      "source": [
        "READ THE DATA\n"
      ]
    },
    {
      "cell_type": "code",
      "metadata": {
        "id": "JOyuJC14GAyF",
        "colab_type": "code",
        "colab": {}
      },
      "source": [
        "df = pd.read_csv('creditcard.csv')"
      ],
      "execution_count": 0,
      "outputs": []
    },
    {
      "cell_type": "code",
      "metadata": {
        "id": "HeJkLQ0HF8Bf",
        "colab_type": "code",
        "colab": {
          "base_uri": "https://localhost:8080/",
          "height": 224
        },
        "outputId": "953dd295-9944-414e-93c7-2b7215c82002"
      },
      "source": [
        "df.head()"
      ],
      "execution_count": 31,
      "outputs": [
        {
          "output_type": "execute_result",
          "data": {
            "text/html": [
              "<div>\n",
              "<style scoped>\n",
              "    .dataframe tbody tr th:only-of-type {\n",
              "        vertical-align: middle;\n",
              "    }\n",
              "\n",
              "    .dataframe tbody tr th {\n",
              "        vertical-align: top;\n",
              "    }\n",
              "\n",
              "    .dataframe thead th {\n",
              "        text-align: right;\n",
              "    }\n",
              "</style>\n",
              "<table border=\"1\" class=\"dataframe\">\n",
              "  <thead>\n",
              "    <tr style=\"text-align: right;\">\n",
              "      <th></th>\n",
              "      <th>Time</th>\n",
              "      <th>V1</th>\n",
              "      <th>V2</th>\n",
              "      <th>V3</th>\n",
              "      <th>V4</th>\n",
              "      <th>V5</th>\n",
              "      <th>V6</th>\n",
              "      <th>V7</th>\n",
              "      <th>V8</th>\n",
              "      <th>V9</th>\n",
              "      <th>V10</th>\n",
              "      <th>V11</th>\n",
              "      <th>V12</th>\n",
              "      <th>V13</th>\n",
              "      <th>V14</th>\n",
              "      <th>V15</th>\n",
              "      <th>V16</th>\n",
              "      <th>V17</th>\n",
              "      <th>V18</th>\n",
              "      <th>V19</th>\n",
              "      <th>V20</th>\n",
              "      <th>V21</th>\n",
              "      <th>V22</th>\n",
              "      <th>V23</th>\n",
              "      <th>V24</th>\n",
              "      <th>V25</th>\n",
              "      <th>V26</th>\n",
              "      <th>V27</th>\n",
              "      <th>V28</th>\n",
              "      <th>Amount</th>\n",
              "      <th>Class</th>\n",
              "    </tr>\n",
              "  </thead>\n",
              "  <tbody>\n",
              "    <tr>\n",
              "      <th>0</th>\n",
              "      <td>0.0</td>\n",
              "      <td>-1.359807</td>\n",
              "      <td>-0.072781</td>\n",
              "      <td>2.536347</td>\n",
              "      <td>1.378155</td>\n",
              "      <td>-0.338321</td>\n",
              "      <td>0.462388</td>\n",
              "      <td>0.239599</td>\n",
              "      <td>0.098698</td>\n",
              "      <td>0.363787</td>\n",
              "      <td>0.090794</td>\n",
              "      <td>-0.551600</td>\n",
              "      <td>-0.617801</td>\n",
              "      <td>-0.991390</td>\n",
              "      <td>-0.311169</td>\n",
              "      <td>1.468177</td>\n",
              "      <td>-0.470401</td>\n",
              "      <td>0.207971</td>\n",
              "      <td>0.025791</td>\n",
              "      <td>0.403993</td>\n",
              "      <td>0.251412</td>\n",
              "      <td>-0.018307</td>\n",
              "      <td>0.277838</td>\n",
              "      <td>-0.110474</td>\n",
              "      <td>0.066928</td>\n",
              "      <td>0.128539</td>\n",
              "      <td>-0.189115</td>\n",
              "      <td>0.133558</td>\n",
              "      <td>-0.021053</td>\n",
              "      <td>149.62</td>\n",
              "      <td>0.0</td>\n",
              "    </tr>\n",
              "    <tr>\n",
              "      <th>1</th>\n",
              "      <td>0.0</td>\n",
              "      <td>1.191857</td>\n",
              "      <td>0.266151</td>\n",
              "      <td>0.166480</td>\n",
              "      <td>0.448154</td>\n",
              "      <td>0.060018</td>\n",
              "      <td>-0.082361</td>\n",
              "      <td>-0.078803</td>\n",
              "      <td>0.085102</td>\n",
              "      <td>-0.255425</td>\n",
              "      <td>-0.166974</td>\n",
              "      <td>1.612727</td>\n",
              "      <td>1.065235</td>\n",
              "      <td>0.489095</td>\n",
              "      <td>-0.143772</td>\n",
              "      <td>0.635558</td>\n",
              "      <td>0.463917</td>\n",
              "      <td>-0.114805</td>\n",
              "      <td>-0.183361</td>\n",
              "      <td>-0.145783</td>\n",
              "      <td>-0.069083</td>\n",
              "      <td>-0.225775</td>\n",
              "      <td>-0.638672</td>\n",
              "      <td>0.101288</td>\n",
              "      <td>-0.339846</td>\n",
              "      <td>0.167170</td>\n",
              "      <td>0.125895</td>\n",
              "      <td>-0.008983</td>\n",
              "      <td>0.014724</td>\n",
              "      <td>2.69</td>\n",
              "      <td>0.0</td>\n",
              "    </tr>\n",
              "    <tr>\n",
              "      <th>2</th>\n",
              "      <td>1.0</td>\n",
              "      <td>-1.358354</td>\n",
              "      <td>-1.340163</td>\n",
              "      <td>1.773209</td>\n",
              "      <td>0.379780</td>\n",
              "      <td>-0.503198</td>\n",
              "      <td>1.800499</td>\n",
              "      <td>0.791461</td>\n",
              "      <td>0.247676</td>\n",
              "      <td>-1.514654</td>\n",
              "      <td>0.207643</td>\n",
              "      <td>0.624501</td>\n",
              "      <td>0.066084</td>\n",
              "      <td>0.717293</td>\n",
              "      <td>-0.165946</td>\n",
              "      <td>2.345865</td>\n",
              "      <td>-2.890083</td>\n",
              "      <td>1.109969</td>\n",
              "      <td>-0.121359</td>\n",
              "      <td>-2.261857</td>\n",
              "      <td>0.524980</td>\n",
              "      <td>0.247998</td>\n",
              "      <td>0.771679</td>\n",
              "      <td>0.909412</td>\n",
              "      <td>-0.689281</td>\n",
              "      <td>-0.327642</td>\n",
              "      <td>-0.139097</td>\n",
              "      <td>-0.055353</td>\n",
              "      <td>-0.059752</td>\n",
              "      <td>378.66</td>\n",
              "      <td>0.0</td>\n",
              "    </tr>\n",
              "    <tr>\n",
              "      <th>3</th>\n",
              "      <td>1.0</td>\n",
              "      <td>-0.966272</td>\n",
              "      <td>-0.185226</td>\n",
              "      <td>1.792993</td>\n",
              "      <td>-0.863291</td>\n",
              "      <td>-0.010309</td>\n",
              "      <td>1.247203</td>\n",
              "      <td>0.237609</td>\n",
              "      <td>0.377436</td>\n",
              "      <td>-1.387024</td>\n",
              "      <td>-0.054952</td>\n",
              "      <td>-0.226487</td>\n",
              "      <td>0.178228</td>\n",
              "      <td>0.507757</td>\n",
              "      <td>-0.287924</td>\n",
              "      <td>-0.631418</td>\n",
              "      <td>-1.059647</td>\n",
              "      <td>-0.684093</td>\n",
              "      <td>1.965775</td>\n",
              "      <td>-1.232622</td>\n",
              "      <td>-0.208038</td>\n",
              "      <td>-0.108300</td>\n",
              "      <td>0.005274</td>\n",
              "      <td>-0.190321</td>\n",
              "      <td>-1.175575</td>\n",
              "      <td>0.647376</td>\n",
              "      <td>-0.221929</td>\n",
              "      <td>0.062723</td>\n",
              "      <td>0.061458</td>\n",
              "      <td>123.50</td>\n",
              "      <td>0.0</td>\n",
              "    </tr>\n",
              "    <tr>\n",
              "      <th>4</th>\n",
              "      <td>2.0</td>\n",
              "      <td>-1.158233</td>\n",
              "      <td>0.877737</td>\n",
              "      <td>1.548718</td>\n",
              "      <td>0.403034</td>\n",
              "      <td>-0.407193</td>\n",
              "      <td>0.095921</td>\n",
              "      <td>0.592941</td>\n",
              "      <td>-0.270533</td>\n",
              "      <td>0.817739</td>\n",
              "      <td>0.753074</td>\n",
              "      <td>-0.822843</td>\n",
              "      <td>0.538196</td>\n",
              "      <td>1.345852</td>\n",
              "      <td>-1.119670</td>\n",
              "      <td>0.175121</td>\n",
              "      <td>-0.451449</td>\n",
              "      <td>-0.237033</td>\n",
              "      <td>-0.038195</td>\n",
              "      <td>0.803487</td>\n",
              "      <td>0.408542</td>\n",
              "      <td>-0.009431</td>\n",
              "      <td>0.798278</td>\n",
              "      <td>-0.137458</td>\n",
              "      <td>0.141267</td>\n",
              "      <td>-0.206010</td>\n",
              "      <td>0.502292</td>\n",
              "      <td>0.219422</td>\n",
              "      <td>0.215153</td>\n",
              "      <td>69.99</td>\n",
              "      <td>0.0</td>\n",
              "    </tr>\n",
              "  </tbody>\n",
              "</table>\n",
              "</div>"
            ],
            "text/plain": [
              "   Time        V1        V2        V3        V4        V5        V6        V7  \\\n",
              "0   0.0 -1.359807 -0.072781  2.536347  1.378155 -0.338321  0.462388  0.239599   \n",
              "1   0.0  1.191857  0.266151  0.166480  0.448154  0.060018 -0.082361 -0.078803   \n",
              "2   1.0 -1.358354 -1.340163  1.773209  0.379780 -0.503198  1.800499  0.791461   \n",
              "3   1.0 -0.966272 -0.185226  1.792993 -0.863291 -0.010309  1.247203  0.237609   \n",
              "4   2.0 -1.158233  0.877737  1.548718  0.403034 -0.407193  0.095921  0.592941   \n",
              "\n",
              "         V8        V9       V10       V11       V12       V13       V14  \\\n",
              "0  0.098698  0.363787  0.090794 -0.551600 -0.617801 -0.991390 -0.311169   \n",
              "1  0.085102 -0.255425 -0.166974  1.612727  1.065235  0.489095 -0.143772   \n",
              "2  0.247676 -1.514654  0.207643  0.624501  0.066084  0.717293 -0.165946   \n",
              "3  0.377436 -1.387024 -0.054952 -0.226487  0.178228  0.507757 -0.287924   \n",
              "4 -0.270533  0.817739  0.753074 -0.822843  0.538196  1.345852 -1.119670   \n",
              "\n",
              "        V15       V16       V17       V18       V19       V20       V21  \\\n",
              "0  1.468177 -0.470401  0.207971  0.025791  0.403993  0.251412 -0.018307   \n",
              "1  0.635558  0.463917 -0.114805 -0.183361 -0.145783 -0.069083 -0.225775   \n",
              "2  2.345865 -2.890083  1.109969 -0.121359 -2.261857  0.524980  0.247998   \n",
              "3 -0.631418 -1.059647 -0.684093  1.965775 -1.232622 -0.208038 -0.108300   \n",
              "4  0.175121 -0.451449 -0.237033 -0.038195  0.803487  0.408542 -0.009431   \n",
              "\n",
              "        V22       V23       V24       V25       V26       V27       V28  \\\n",
              "0  0.277838 -0.110474  0.066928  0.128539 -0.189115  0.133558 -0.021053   \n",
              "1 -0.638672  0.101288 -0.339846  0.167170  0.125895 -0.008983  0.014724   \n",
              "2  0.771679  0.909412 -0.689281 -0.327642 -0.139097 -0.055353 -0.059752   \n",
              "3  0.005274 -0.190321 -1.175575  0.647376 -0.221929  0.062723  0.061458   \n",
              "4  0.798278 -0.137458  0.141267 -0.206010  0.502292  0.219422  0.215153   \n",
              "\n",
              "   Amount  Class  \n",
              "0  149.62    0.0  \n",
              "1    2.69    0.0  \n",
              "2  378.66    0.0  \n",
              "3  123.50    0.0  \n",
              "4   69.99    0.0  "
            ]
          },
          "metadata": {
            "tags": []
          },
          "execution_count": 31
        }
      ]
    },
    {
      "cell_type": "code",
      "metadata": {
        "id": "BThFH0LMRa2R",
        "colab_type": "code",
        "colab": {
          "base_uri": "https://localhost:8080/",
          "height": 224
        },
        "outputId": "3024150a-91ee-4934-a9df-bf19420c432b"
      },
      "source": [
        "df.tail()"
      ],
      "execution_count": 32,
      "outputs": [
        {
          "output_type": "execute_result",
          "data": {
            "text/html": [
              "<div>\n",
              "<style scoped>\n",
              "    .dataframe tbody tr th:only-of-type {\n",
              "        vertical-align: middle;\n",
              "    }\n",
              "\n",
              "    .dataframe tbody tr th {\n",
              "        vertical-align: top;\n",
              "    }\n",
              "\n",
              "    .dataframe thead th {\n",
              "        text-align: right;\n",
              "    }\n",
              "</style>\n",
              "<table border=\"1\" class=\"dataframe\">\n",
              "  <thead>\n",
              "    <tr style=\"text-align: right;\">\n",
              "      <th></th>\n",
              "      <th>Time</th>\n",
              "      <th>V1</th>\n",
              "      <th>V2</th>\n",
              "      <th>V3</th>\n",
              "      <th>V4</th>\n",
              "      <th>V5</th>\n",
              "      <th>V6</th>\n",
              "      <th>V7</th>\n",
              "      <th>V8</th>\n",
              "      <th>V9</th>\n",
              "      <th>V10</th>\n",
              "      <th>V11</th>\n",
              "      <th>V12</th>\n",
              "      <th>V13</th>\n",
              "      <th>V14</th>\n",
              "      <th>V15</th>\n",
              "      <th>V16</th>\n",
              "      <th>V17</th>\n",
              "      <th>V18</th>\n",
              "      <th>V19</th>\n",
              "      <th>V20</th>\n",
              "      <th>V21</th>\n",
              "      <th>V22</th>\n",
              "      <th>V23</th>\n",
              "      <th>V24</th>\n",
              "      <th>V25</th>\n",
              "      <th>V26</th>\n",
              "      <th>V27</th>\n",
              "      <th>V28</th>\n",
              "      <th>Amount</th>\n",
              "      <th>Class</th>\n",
              "    </tr>\n",
              "  </thead>\n",
              "  <tbody>\n",
              "    <tr>\n",
              "      <th>162552</th>\n",
              "      <td>115210.0</td>\n",
              "      <td>2.114128</td>\n",
              "      <td>-1.104488</td>\n",
              "      <td>0.415559</td>\n",
              "      <td>-0.749874</td>\n",
              "      <td>-1.717262</td>\n",
              "      <td>-0.387432</td>\n",
              "      <td>-1.560780</td>\n",
              "      <td>-0.004930</td>\n",
              "      <td>0.436754</td>\n",
              "      <td>0.645260</td>\n",
              "      <td>-0.635782</td>\n",
              "      <td>0.264381</td>\n",
              "      <td>1.738666</td>\n",
              "      <td>-1.146472</td>\n",
              "      <td>0.475146</td>\n",
              "      <td>1.590927</td>\n",
              "      <td>-0.173932</td>\n",
              "      <td>-0.850725</td>\n",
              "      <td>0.167184</td>\n",
              "      <td>0.070612</td>\n",
              "      <td>0.441625</td>\n",
              "      <td>1.448872</td>\n",
              "      <td>0.180504</td>\n",
              "      <td>0.118535</td>\n",
              "      <td>-0.375367</td>\n",
              "      <td>-0.098409</td>\n",
              "      <td>0.065220</td>\n",
              "      <td>-0.028177</td>\n",
              "      <td>9.99</td>\n",
              "      <td>0.0</td>\n",
              "    </tr>\n",
              "    <tr>\n",
              "      <th>162553</th>\n",
              "      <td>115211.0</td>\n",
              "      <td>1.972488</td>\n",
              "      <td>0.052897</td>\n",
              "      <td>-1.960439</td>\n",
              "      <td>1.080410</td>\n",
              "      <td>0.922172</td>\n",
              "      <td>-0.136797</td>\n",
              "      <td>0.498360</td>\n",
              "      <td>-0.142762</td>\n",
              "      <td>-0.011417</td>\n",
              "      <td>0.412747</td>\n",
              "      <td>0.264839</td>\n",
              "      <td>0.711723</td>\n",
              "      <td>-0.447591</td>\n",
              "      <td>0.735657</td>\n",
              "      <td>-1.115100</td>\n",
              "      <td>-0.368542</td>\n",
              "      <td>-0.555395</td>\n",
              "      <td>0.051463</td>\n",
              "      <td>0.242403</td>\n",
              "      <td>-0.199770</td>\n",
              "      <td>0.080830</td>\n",
              "      <td>0.313451</td>\n",
              "      <td>-0.057854</td>\n",
              "      <td>0.220695</td>\n",
              "      <td>0.490273</td>\n",
              "      <td>-0.515163</td>\n",
              "      <td>-0.030846</td>\n",
              "      <td>-0.065219</td>\n",
              "      <td>37.40</td>\n",
              "      <td>0.0</td>\n",
              "    </tr>\n",
              "    <tr>\n",
              "      <th>162554</th>\n",
              "      <td>115211.0</td>\n",
              "      <td>1.957099</td>\n",
              "      <td>-0.564585</td>\n",
              "      <td>-0.336281</td>\n",
              "      <td>0.229964</td>\n",
              "      <td>-0.691445</td>\n",
              "      <td>-0.115662</td>\n",
              "      <td>-0.769791</td>\n",
              "      <td>0.098782</td>\n",
              "      <td>1.052559</td>\n",
              "      <td>0.163237</td>\n",
              "      <td>0.427894</td>\n",
              "      <td>0.927132</td>\n",
              "      <td>0.119871</td>\n",
              "      <td>-0.096096</td>\n",
              "      <td>-0.320551</td>\n",
              "      <td>0.601581</td>\n",
              "      <td>-0.833908</td>\n",
              "      <td>0.624392</td>\n",
              "      <td>0.146190</td>\n",
              "      <td>-0.148638</td>\n",
              "      <td>0.247960</td>\n",
              "      <td>0.897746</td>\n",
              "      <td>0.074085</td>\n",
              "      <td>-0.261071</td>\n",
              "      <td>-0.246790</td>\n",
              "      <td>0.741045</td>\n",
              "      <td>-0.033620</td>\n",
              "      <td>-0.061522</td>\n",
              "      <td>17.90</td>\n",
              "      <td>0.0</td>\n",
              "    </tr>\n",
              "    <tr>\n",
              "      <th>162555</th>\n",
              "      <td>115211.0</td>\n",
              "      <td>1.850556</td>\n",
              "      <td>-0.850150</td>\n",
              "      <td>-1.826873</td>\n",
              "      <td>-0.526510</td>\n",
              "      <td>1.710747</td>\n",
              "      <td>3.824289</td>\n",
              "      <td>-1.112847</td>\n",
              "      <td>0.998865</td>\n",
              "      <td>0.863568</td>\n",
              "      <td>0.083832</td>\n",
              "      <td>-0.056634</td>\n",
              "      <td>0.281774</td>\n",
              "      <td>0.059193</td>\n",
              "      <td>0.143507</td>\n",
              "      <td>1.274465</td>\n",
              "      <td>0.448966</td>\n",
              "      <td>-0.763780</td>\n",
              "      <td>0.014344</td>\n",
              "      <td>-0.618841</td>\n",
              "      <td>0.022673</td>\n",
              "      <td>0.229472</td>\n",
              "      <td>0.534459</td>\n",
              "      <td>0.156911</td>\n",
              "      <td>0.742622</td>\n",
              "      <td>-0.274273</td>\n",
              "      <td>0.369661</td>\n",
              "      <td>-0.006685</td>\n",
              "      <td>-0.038230</td>\n",
              "      <td>76.50</td>\n",
              "      <td>0.0</td>\n",
              "    </tr>\n",
              "    <tr>\n",
              "      <th>162556</th>\n",
              "      <td>115211.0</td>\n",
              "      <td>-0.694980</td>\n",
              "      <td>0.247120</td>\n",
              "      <td>2.074755</td>\n",
              "      <td>-0.017298</td>\n",
              "      <td>-0.215007</td>\n",
              "      <td>-0.235263</td>\n",
              "      <td>-0.037201</td>\n",
              "      <td>0.164253</td>\n",
              "      <td>0.247815</td>\n",
              "      <td>-0.632305</td>\n",
              "      <td>-1.381501</td>\n",
              "      <td>-0.932513</td>\n",
              "      <td>-1.180512</td>\n",
              "      <td>-0.040421</td>\n",
              "      <td>0.913613</td>\n",
              "      <td>-0.068070</td>\n",
              "      <td>-0.020050</td>\n",
              "      <td>0.540717</td>\n",
              "      <td>0.947337</td>\n",
              "      <td>0.114871</td>\n",
              "      <td>0.220919</td>\n",
              "      <td>0.645922</td>\n",
              "      <td>-0.408868</td>\n",
              "      <td>-0.055975</td>\n",
              "      <td>0.384300</td>\n",
              "      <td>1.057126</td>\n",
              "      <td>0.000000</td>\n",
              "      <td>NaN</td>\n",
              "      <td>NaN</td>\n",
              "      <td>NaN</td>\n",
              "    </tr>\n",
              "  </tbody>\n",
              "</table>\n",
              "</div>"
            ],
            "text/plain": [
              "            Time        V1        V2        V3        V4        V5        V6  \\\n",
              "162552  115210.0  2.114128 -1.104488  0.415559 -0.749874 -1.717262 -0.387432   \n",
              "162553  115211.0  1.972488  0.052897 -1.960439  1.080410  0.922172 -0.136797   \n",
              "162554  115211.0  1.957099 -0.564585 -0.336281  0.229964 -0.691445 -0.115662   \n",
              "162555  115211.0  1.850556 -0.850150 -1.826873 -0.526510  1.710747  3.824289   \n",
              "162556  115211.0 -0.694980  0.247120  2.074755 -0.017298 -0.215007 -0.235263   \n",
              "\n",
              "              V7        V8        V9       V10       V11       V12       V13  \\\n",
              "162552 -1.560780 -0.004930  0.436754  0.645260 -0.635782  0.264381  1.738666   \n",
              "162553  0.498360 -0.142762 -0.011417  0.412747  0.264839  0.711723 -0.447591   \n",
              "162554 -0.769791  0.098782  1.052559  0.163237  0.427894  0.927132  0.119871   \n",
              "162555 -1.112847  0.998865  0.863568  0.083832 -0.056634  0.281774  0.059193   \n",
              "162556 -0.037201  0.164253  0.247815 -0.632305 -1.381501 -0.932513 -1.180512   \n",
              "\n",
              "             V14       V15       V16       V17       V18       V19       V20  \\\n",
              "162552 -1.146472  0.475146  1.590927 -0.173932 -0.850725  0.167184  0.070612   \n",
              "162553  0.735657 -1.115100 -0.368542 -0.555395  0.051463  0.242403 -0.199770   \n",
              "162554 -0.096096 -0.320551  0.601581 -0.833908  0.624392  0.146190 -0.148638   \n",
              "162555  0.143507  1.274465  0.448966 -0.763780  0.014344 -0.618841  0.022673   \n",
              "162556 -0.040421  0.913613 -0.068070 -0.020050  0.540717  0.947337  0.114871   \n",
              "\n",
              "             V21       V22       V23       V24       V25       V26       V27  \\\n",
              "162552  0.441625  1.448872  0.180504  0.118535 -0.375367 -0.098409  0.065220   \n",
              "162553  0.080830  0.313451 -0.057854  0.220695  0.490273 -0.515163 -0.030846   \n",
              "162554  0.247960  0.897746  0.074085 -0.261071 -0.246790  0.741045 -0.033620   \n",
              "162555  0.229472  0.534459  0.156911  0.742622 -0.274273  0.369661 -0.006685   \n",
              "162556  0.220919  0.645922 -0.408868 -0.055975  0.384300  1.057126  0.000000   \n",
              "\n",
              "             V28  Amount  Class  \n",
              "162552 -0.028177    9.99    0.0  \n",
              "162553 -0.065219   37.40    0.0  \n",
              "162554 -0.061522   17.90    0.0  \n",
              "162555 -0.038230   76.50    0.0  \n",
              "162556       NaN     NaN    NaN  "
            ]
          },
          "metadata": {
            "tags": []
          },
          "execution_count": 32
        }
      ]
    },
    {
      "cell_type": "code",
      "metadata": {
        "id": "OUYQz6kQReqQ",
        "colab_type": "code",
        "colab": {
          "base_uri": "https://localhost:8080/",
          "height": 317
        },
        "outputId": "5ad3e5d9-e158-4027-e063-2591849d5140"
      },
      "source": [
        "df.describe()"
      ],
      "execution_count": 33,
      "outputs": [
        {
          "output_type": "execute_result",
          "data": {
            "text/html": [
              "<div>\n",
              "<style scoped>\n",
              "    .dataframe tbody tr th:only-of-type {\n",
              "        vertical-align: middle;\n",
              "    }\n",
              "\n",
              "    .dataframe tbody tr th {\n",
              "        vertical-align: top;\n",
              "    }\n",
              "\n",
              "    .dataframe thead th {\n",
              "        text-align: right;\n",
              "    }\n",
              "</style>\n",
              "<table border=\"1\" class=\"dataframe\">\n",
              "  <thead>\n",
              "    <tr style=\"text-align: right;\">\n",
              "      <th></th>\n",
              "      <th>Time</th>\n",
              "      <th>V1</th>\n",
              "      <th>V2</th>\n",
              "      <th>V3</th>\n",
              "      <th>V4</th>\n",
              "      <th>V5</th>\n",
              "      <th>V6</th>\n",
              "      <th>V7</th>\n",
              "      <th>V8</th>\n",
              "      <th>V9</th>\n",
              "      <th>V10</th>\n",
              "      <th>V11</th>\n",
              "      <th>V12</th>\n",
              "      <th>V13</th>\n",
              "      <th>V14</th>\n",
              "      <th>V15</th>\n",
              "      <th>V16</th>\n",
              "      <th>V17</th>\n",
              "      <th>V18</th>\n",
              "      <th>V19</th>\n",
              "      <th>V20</th>\n",
              "      <th>V21</th>\n",
              "      <th>V22</th>\n",
              "      <th>V23</th>\n",
              "      <th>V24</th>\n",
              "      <th>V25</th>\n",
              "      <th>V26</th>\n",
              "      <th>V27</th>\n",
              "      <th>V28</th>\n",
              "      <th>Amount</th>\n",
              "      <th>Class</th>\n",
              "    </tr>\n",
              "  </thead>\n",
              "  <tbody>\n",
              "    <tr>\n",
              "      <th>count</th>\n",
              "      <td>162557.000000</td>\n",
              "      <td>162557.000000</td>\n",
              "      <td>162557.000000</td>\n",
              "      <td>162557.000000</td>\n",
              "      <td>162557.000000</td>\n",
              "      <td>162557.000000</td>\n",
              "      <td>162557.000000</td>\n",
              "      <td>162557.000000</td>\n",
              "      <td>162557.000000</td>\n",
              "      <td>162557.000000</td>\n",
              "      <td>162557.000000</td>\n",
              "      <td>162557.000000</td>\n",
              "      <td>162557.000000</td>\n",
              "      <td>162557.000000</td>\n",
              "      <td>162557.000000</td>\n",
              "      <td>162557.000000</td>\n",
              "      <td>162557.000000</td>\n",
              "      <td>162557.000000</td>\n",
              "      <td>162557.000000</td>\n",
              "      <td>162557.000000</td>\n",
              "      <td>162557.000000</td>\n",
              "      <td>162557.000000</td>\n",
              "      <td>162557.000000</td>\n",
              "      <td>162557.000000</td>\n",
              "      <td>162557.000000</td>\n",
              "      <td>162557.000000</td>\n",
              "      <td>162557.000000</td>\n",
              "      <td>162557.000000</td>\n",
              "      <td>162556.000000</td>\n",
              "      <td>162556.000000</td>\n",
              "      <td>162556.000000</td>\n",
              "    </tr>\n",
              "    <tr>\n",
              "      <th>mean</th>\n",
              "      <td>58171.885363</td>\n",
              "      <td>-0.198303</td>\n",
              "      <td>0.051721</td>\n",
              "      <td>0.550907</td>\n",
              "      <td>0.134962</td>\n",
              "      <td>-0.200534</td>\n",
              "      <td>0.064280</td>\n",
              "      <td>-0.091888</td>\n",
              "      <td>0.040514</td>\n",
              "      <td>0.021173</td>\n",
              "      <td>-0.038126</td>\n",
              "      <td>0.214700</td>\n",
              "      <td>-0.106567</td>\n",
              "      <td>0.074095</td>\n",
              "      <td>0.097029</td>\n",
              "      <td>0.150706</td>\n",
              "      <td>-0.011574</td>\n",
              "      <td>0.048372</td>\n",
              "      <td>-0.053401</td>\n",
              "      <td>-0.022933</td>\n",
              "      <td>0.033590</td>\n",
              "      <td>-0.034248</td>\n",
              "      <td>-0.095982</td>\n",
              "      <td>-0.025385</td>\n",
              "      <td>0.010325</td>\n",
              "      <td>0.103639</td>\n",
              "      <td>0.014138</td>\n",
              "      <td>0.002265</td>\n",
              "      <td>0.002533</td>\n",
              "      <td>86.984757</td>\n",
              "      <td>0.002190</td>\n",
              "    </tr>\n",
              "    <tr>\n",
              "      <th>std</th>\n",
              "      <td>25278.368459</td>\n",
              "      <td>1.844868</td>\n",
              "      <td>1.612322</td>\n",
              "      <td>1.361511</td>\n",
              "      <td>1.363530</td>\n",
              "      <td>1.334221</td>\n",
              "      <td>1.291914</td>\n",
              "      <td>1.207970</td>\n",
              "      <td>1.234985</td>\n",
              "      <td>1.158806</td>\n",
              "      <td>1.096555</td>\n",
              "      <td>1.049017</td>\n",
              "      <td>1.160813</td>\n",
              "      <td>1.056532</td>\n",
              "      <td>0.980483</td>\n",
              "      <td>0.954048</td>\n",
              "      <td>0.882360</td>\n",
              "      <td>0.920818</td>\n",
              "      <td>0.834377</td>\n",
              "      <td>0.811553</td>\n",
              "      <td>0.722585</td>\n",
              "      <td>0.744550</td>\n",
              "      <td>0.658072</td>\n",
              "      <td>0.584067</td>\n",
              "      <td>0.597236</td>\n",
              "      <td>0.457095</td>\n",
              "      <td>0.492238</td>\n",
              "      <td>0.392052</td>\n",
              "      <td>0.309178</td>\n",
              "      <td>244.368678</td>\n",
              "      <td>0.046746</td>\n",
              "    </tr>\n",
              "    <tr>\n",
              "      <th>min</th>\n",
              "      <td>0.000000</td>\n",
              "      <td>-56.407510</td>\n",
              "      <td>-72.715728</td>\n",
              "      <td>-33.680984</td>\n",
              "      <td>-5.519697</td>\n",
              "      <td>-42.147898</td>\n",
              "      <td>-26.160506</td>\n",
              "      <td>-43.557242</td>\n",
              "      <td>-73.216718</td>\n",
              "      <td>-13.434066</td>\n",
              "      <td>-24.588262</td>\n",
              "      <td>-4.049895</td>\n",
              "      <td>-18.683715</td>\n",
              "      <td>-5.791881</td>\n",
              "      <td>-19.214325</td>\n",
              "      <td>-4.498945</td>\n",
              "      <td>-14.129855</td>\n",
              "      <td>-25.162799</td>\n",
              "      <td>-9.498746</td>\n",
              "      <td>-7.213527</td>\n",
              "      <td>-22.838548</td>\n",
              "      <td>-34.830382</td>\n",
              "      <td>-10.933144</td>\n",
              "      <td>-44.807735</td>\n",
              "      <td>-2.836627</td>\n",
              "      <td>-10.295397</td>\n",
              "      <td>-2.604551</td>\n",
              "      <td>-22.565679</td>\n",
              "      <td>-11.710896</td>\n",
              "      <td>0.000000</td>\n",
              "      <td>0.000000</td>\n",
              "    </tr>\n",
              "    <tr>\n",
              "      <th>25%</th>\n",
              "      <td>40328.000000</td>\n",
              "      <td>-1.001231</td>\n",
              "      <td>-0.527555</td>\n",
              "      <td>0.018160</td>\n",
              "      <td>-0.721627</td>\n",
              "      <td>-0.846009</td>\n",
              "      <td>-0.683013</td>\n",
              "      <td>-0.590102</td>\n",
              "      <td>-0.154922</td>\n",
              "      <td>-0.661376</td>\n",
              "      <td>-0.520902</td>\n",
              "      <td>-0.542751</td>\n",
              "      <td>-0.521936</td>\n",
              "      <td>-0.624341</td>\n",
              "      <td>-0.324209</td>\n",
              "      <td>-0.429717</td>\n",
              "      <td>-0.472088</td>\n",
              "      <td>-0.409240</td>\n",
              "      <td>-0.523228</td>\n",
              "      <td>-0.502520</td>\n",
              "      <td>-0.181054</td>\n",
              "      <td>-0.231574</td>\n",
              "      <td>-0.549142</td>\n",
              "      <td>-0.170926</td>\n",
              "      <td>-0.329331</td>\n",
              "      <td>-0.177899</td>\n",
              "      <td>-0.330780</td>\n",
              "      <td>-0.064320</td>\n",
              "      <td>-0.018924</td>\n",
              "      <td>5.370000</td>\n",
              "      <td>0.000000</td>\n",
              "    </tr>\n",
              "    <tr>\n",
              "      <th>50%</th>\n",
              "      <td>58863.000000</td>\n",
              "      <td>-0.221015</td>\n",
              "      <td>0.118986</td>\n",
              "      <td>0.665016</td>\n",
              "      <td>0.142555</td>\n",
              "      <td>-0.246039</td>\n",
              "      <td>-0.195770</td>\n",
              "      <td>-0.039476</td>\n",
              "      <td>0.062614</td>\n",
              "      <td>-0.081610</td>\n",
              "      <td>-0.115318</td>\n",
              "      <td>0.135752</td>\n",
              "      <td>0.110874</td>\n",
              "      <td>0.038786</td>\n",
              "      <td>0.100953</td>\n",
              "      <td>0.266868</td>\n",
              "      <td>0.061548</td>\n",
              "      <td>-0.012179</td>\n",
              "      <td>-0.053661</td>\n",
              "      <td>-0.027056</td>\n",
              "      <td>-0.034456</td>\n",
              "      <td>-0.058051</td>\n",
              "      <td>-0.076351</td>\n",
              "      <td>-0.038982</td>\n",
              "      <td>0.061618</td>\n",
              "      <td>0.146610</td>\n",
              "      <td>-0.060070</td>\n",
              "      <td>0.009644</td>\n",
              "      <td>0.021914</td>\n",
              "      <td>21.300000</td>\n",
              "      <td>0.000000</td>\n",
              "    </tr>\n",
              "    <tr>\n",
              "      <th>75%</th>\n",
              "      <td>76367.000000</td>\n",
              "      <td>1.175741</td>\n",
              "      <td>0.811027</td>\n",
              "      <td>1.320090</td>\n",
              "      <td>0.957397</td>\n",
              "      <td>0.340677</td>\n",
              "      <td>0.452854</td>\n",
              "      <td>0.449267</td>\n",
              "      <td>0.357911</td>\n",
              "      <td>0.649631</td>\n",
              "      <td>0.396295</td>\n",
              "      <td>1.025638</td>\n",
              "      <td>0.621213</td>\n",
              "      <td>0.757507</td>\n",
              "      <td>0.536064</td>\n",
              "      <td>0.847539</td>\n",
              "      <td>0.525511</td>\n",
              "      <td>0.440563</td>\n",
              "      <td>0.426707</td>\n",
              "      <td>0.466148</td>\n",
              "      <td>0.157193</td>\n",
              "      <td>0.120266</td>\n",
              "      <td>0.344013</td>\n",
              "      <td>0.093512</td>\n",
              "      <td>0.413860</td>\n",
              "      <td>0.405170</td>\n",
              "      <td>0.277149</td>\n",
              "      <td>0.089625</td>\n",
              "      <td>0.078156</td>\n",
              "      <td>76.130000</td>\n",
              "      <td>0.000000</td>\n",
              "    </tr>\n",
              "    <tr>\n",
              "      <th>max</th>\n",
              "      <td>115211.000000</td>\n",
              "      <td>2.439207</td>\n",
              "      <td>22.057729</td>\n",
              "      <td>9.382558</td>\n",
              "      <td>16.875344</td>\n",
              "      <td>34.801666</td>\n",
              "      <td>22.529298</td>\n",
              "      <td>36.677268</td>\n",
              "      <td>20.007208</td>\n",
              "      <td>15.594995</td>\n",
              "      <td>23.745136</td>\n",
              "      <td>12.018913</td>\n",
              "      <td>7.848392</td>\n",
              "      <td>4.569009</td>\n",
              "      <td>10.526766</td>\n",
              "      <td>5.784514</td>\n",
              "      <td>6.098529</td>\n",
              "      <td>9.253526</td>\n",
              "      <td>5.041069</td>\n",
              "      <td>5.228342</td>\n",
              "      <td>39.420904</td>\n",
              "      <td>27.202839</td>\n",
              "      <td>10.503090</td>\n",
              "      <td>19.002942</td>\n",
              "      <td>4.022866</td>\n",
              "      <td>7.519589</td>\n",
              "      <td>3.517346</td>\n",
              "      <td>12.152401</td>\n",
              "      <td>33.847808</td>\n",
              "      <td>19656.530000</td>\n",
              "      <td>1.000000</td>\n",
              "    </tr>\n",
              "  </tbody>\n",
              "</table>\n",
              "</div>"
            ],
            "text/plain": [
              "                Time             V1             V2             V3  \\\n",
              "count  162557.000000  162557.000000  162557.000000  162557.000000   \n",
              "mean    58171.885363      -0.198303       0.051721       0.550907   \n",
              "std     25278.368459       1.844868       1.612322       1.361511   \n",
              "min         0.000000     -56.407510     -72.715728     -33.680984   \n",
              "25%     40328.000000      -1.001231      -0.527555       0.018160   \n",
              "50%     58863.000000      -0.221015       0.118986       0.665016   \n",
              "75%     76367.000000       1.175741       0.811027       1.320090   \n",
              "max    115211.000000       2.439207      22.057729       9.382558   \n",
              "\n",
              "                  V4             V5             V6             V7  \\\n",
              "count  162557.000000  162557.000000  162557.000000  162557.000000   \n",
              "mean        0.134962      -0.200534       0.064280      -0.091888   \n",
              "std         1.363530       1.334221       1.291914       1.207970   \n",
              "min        -5.519697     -42.147898     -26.160506     -43.557242   \n",
              "25%        -0.721627      -0.846009      -0.683013      -0.590102   \n",
              "50%         0.142555      -0.246039      -0.195770      -0.039476   \n",
              "75%         0.957397       0.340677       0.452854       0.449267   \n",
              "max        16.875344      34.801666      22.529298      36.677268   \n",
              "\n",
              "                  V8             V9            V10            V11  \\\n",
              "count  162557.000000  162557.000000  162557.000000  162557.000000   \n",
              "mean        0.040514       0.021173      -0.038126       0.214700   \n",
              "std         1.234985       1.158806       1.096555       1.049017   \n",
              "min       -73.216718     -13.434066     -24.588262      -4.049895   \n",
              "25%        -0.154922      -0.661376      -0.520902      -0.542751   \n",
              "50%         0.062614      -0.081610      -0.115318       0.135752   \n",
              "75%         0.357911       0.649631       0.396295       1.025638   \n",
              "max        20.007208      15.594995      23.745136      12.018913   \n",
              "\n",
              "                 V12            V13            V14            V15  \\\n",
              "count  162557.000000  162557.000000  162557.000000  162557.000000   \n",
              "mean       -0.106567       0.074095       0.097029       0.150706   \n",
              "std         1.160813       1.056532       0.980483       0.954048   \n",
              "min       -18.683715      -5.791881     -19.214325      -4.498945   \n",
              "25%        -0.521936      -0.624341      -0.324209      -0.429717   \n",
              "50%         0.110874       0.038786       0.100953       0.266868   \n",
              "75%         0.621213       0.757507       0.536064       0.847539   \n",
              "max         7.848392       4.569009      10.526766       5.784514   \n",
              "\n",
              "                 V16            V17            V18            V19  \\\n",
              "count  162557.000000  162557.000000  162557.000000  162557.000000   \n",
              "mean       -0.011574       0.048372      -0.053401      -0.022933   \n",
              "std         0.882360       0.920818       0.834377       0.811553   \n",
              "min       -14.129855     -25.162799      -9.498746      -7.213527   \n",
              "25%        -0.472088      -0.409240      -0.523228      -0.502520   \n",
              "50%         0.061548      -0.012179      -0.053661      -0.027056   \n",
              "75%         0.525511       0.440563       0.426707       0.466148   \n",
              "max         6.098529       9.253526       5.041069       5.228342   \n",
              "\n",
              "                 V20            V21            V22            V23  \\\n",
              "count  162557.000000  162557.000000  162557.000000  162557.000000   \n",
              "mean        0.033590      -0.034248      -0.095982      -0.025385   \n",
              "std         0.722585       0.744550       0.658072       0.584067   \n",
              "min       -22.838548     -34.830382     -10.933144     -44.807735   \n",
              "25%        -0.181054      -0.231574      -0.549142      -0.170926   \n",
              "50%        -0.034456      -0.058051      -0.076351      -0.038982   \n",
              "75%         0.157193       0.120266       0.344013       0.093512   \n",
              "max        39.420904      27.202839      10.503090      19.002942   \n",
              "\n",
              "                 V24            V25            V26            V27  \\\n",
              "count  162557.000000  162557.000000  162557.000000  162557.000000   \n",
              "mean        0.010325       0.103639       0.014138       0.002265   \n",
              "std         0.597236       0.457095       0.492238       0.392052   \n",
              "min        -2.836627     -10.295397      -2.604551     -22.565679   \n",
              "25%        -0.329331      -0.177899      -0.330780      -0.064320   \n",
              "50%         0.061618       0.146610      -0.060070       0.009644   \n",
              "75%         0.413860       0.405170       0.277149       0.089625   \n",
              "max         4.022866       7.519589       3.517346      12.152401   \n",
              "\n",
              "                 V28         Amount          Class  \n",
              "count  162556.000000  162556.000000  162556.000000  \n",
              "mean        0.002533      86.984757       0.002190  \n",
              "std         0.309178     244.368678       0.046746  \n",
              "min       -11.710896       0.000000       0.000000  \n",
              "25%        -0.018924       5.370000       0.000000  \n",
              "50%         0.021914      21.300000       0.000000  \n",
              "75%         0.078156      76.130000       0.000000  \n",
              "max        33.847808   19656.530000       1.000000  "
            ]
          },
          "metadata": {
            "tags": []
          },
          "execution_count": 33
        }
      ]
    },
    {
      "cell_type": "code",
      "metadata": {
        "id": "Cz3XVe7fRht7",
        "colab_type": "code",
        "colab": {}
      },
      "source": [
        "## CHECK MISSING DATA"
      ],
      "execution_count": 0,
      "outputs": []
    },
    {
      "cell_type": "code",
      "metadata": {
        "id": "ItZmY7TZTjhD",
        "colab_type": "code",
        "colab": {
          "base_uri": "https://localhost:8080/",
          "height": 131
        },
        "outputId": "2e8c00e7-c667-4e49-8820-5490765d4357"
      },
      "source": [
        "total = df.isnull().sum().sort_values(ascending = False)\n",
        "percent = (df.isnull().sum()/df.isnull().count()*100).sort_values(ascending=False)\n",
        "pd.concat([total, percent], axis=1, keys=['Total', 'Percent']).transpose()\n"
      ],
      "execution_count": 13,
      "outputs": [
        {
          "output_type": "execute_result",
          "data": {
            "text/html": [
              "<div>\n",
              "<style scoped>\n",
              "    .dataframe tbody tr th:only-of-type {\n",
              "        vertical-align: middle;\n",
              "    }\n",
              "\n",
              "    .dataframe tbody tr th {\n",
              "        vertical-align: top;\n",
              "    }\n",
              "\n",
              "    .dataframe thead th {\n",
              "        text-align: right;\n",
              "    }\n",
              "</style>\n",
              "<table border=\"1\" class=\"dataframe\">\n",
              "  <thead>\n",
              "    <tr style=\"text-align: right;\">\n",
              "      <th></th>\n",
              "      <th>Class</th>\n",
              "      <th>V17</th>\n",
              "      <th>V6</th>\n",
              "      <th>V7</th>\n",
              "      <th>V8</th>\n",
              "      <th>V9</th>\n",
              "      <th>V10</th>\n",
              "      <th>V11</th>\n",
              "      <th>V12</th>\n",
              "      <th>V13</th>\n",
              "      <th>V14</th>\n",
              "      <th>Amount</th>\n",
              "      <th>V16</th>\n",
              "      <th>V15</th>\n",
              "      <th>V18</th>\n",
              "      <th>V24</th>\n",
              "      <th>V28</th>\n",
              "      <th>V27</th>\n",
              "      <th>V19</th>\n",
              "      <th>V25</th>\n",
              "      <th>V26</th>\n",
              "      <th>V23</th>\n",
              "      <th>V22</th>\n",
              "      <th>V21</th>\n",
              "      <th>V20</th>\n",
              "      <th>V5</th>\n",
              "      <th>V4</th>\n",
              "      <th>V3</th>\n",
              "      <th>V2</th>\n",
              "      <th>V1</th>\n",
              "      <th>Time</th>\n",
              "    </tr>\n",
              "  </thead>\n",
              "  <tbody>\n",
              "    <tr>\n",
              "      <th>Total</th>\n",
              "      <td>1.000000</td>\n",
              "      <td>1.000000</td>\n",
              "      <td>1.000000</td>\n",
              "      <td>1.000000</td>\n",
              "      <td>1.000000</td>\n",
              "      <td>1.000000</td>\n",
              "      <td>1.000000</td>\n",
              "      <td>1.000000</td>\n",
              "      <td>1.000000</td>\n",
              "      <td>1.000000</td>\n",
              "      <td>1.000000</td>\n",
              "      <td>1.000000</td>\n",
              "      <td>1.000000</td>\n",
              "      <td>1.000000</td>\n",
              "      <td>1.000000</td>\n",
              "      <td>1.000000</td>\n",
              "      <td>1.000000</td>\n",
              "      <td>1.000000</td>\n",
              "      <td>1.000000</td>\n",
              "      <td>1.000000</td>\n",
              "      <td>1.000000</td>\n",
              "      <td>1.000000</td>\n",
              "      <td>1.000000</td>\n",
              "      <td>1.000000</td>\n",
              "      <td>1.000000</td>\n",
              "      <td>0.0</td>\n",
              "      <td>0.0</td>\n",
              "      <td>0.0</td>\n",
              "      <td>0.0</td>\n",
              "      <td>0.0</td>\n",
              "      <td>0.0</td>\n",
              "    </tr>\n",
              "    <tr>\n",
              "      <th>Percent</th>\n",
              "      <td>0.000358</td>\n",
              "      <td>0.000358</td>\n",
              "      <td>0.000358</td>\n",
              "      <td>0.000358</td>\n",
              "      <td>0.000358</td>\n",
              "      <td>0.000358</td>\n",
              "      <td>0.000358</td>\n",
              "      <td>0.000358</td>\n",
              "      <td>0.000358</td>\n",
              "      <td>0.000358</td>\n",
              "      <td>0.000358</td>\n",
              "      <td>0.000358</td>\n",
              "      <td>0.000358</td>\n",
              "      <td>0.000358</td>\n",
              "      <td>0.000358</td>\n",
              "      <td>0.000358</td>\n",
              "      <td>0.000358</td>\n",
              "      <td>0.000358</td>\n",
              "      <td>0.000358</td>\n",
              "      <td>0.000358</td>\n",
              "      <td>0.000358</td>\n",
              "      <td>0.000358</td>\n",
              "      <td>0.000358</td>\n",
              "      <td>0.000358</td>\n",
              "      <td>0.000358</td>\n",
              "      <td>0.0</td>\n",
              "      <td>0.0</td>\n",
              "      <td>0.0</td>\n",
              "      <td>0.0</td>\n",
              "      <td>0.0</td>\n",
              "      <td>0.0</td>\n",
              "    </tr>\n",
              "  </tbody>\n",
              "</table>\n",
              "</div>"
            ],
            "text/plain": [
              "            Class       V17        V6        V7        V8        V9       V10  \\\n",
              "Total    1.000000  1.000000  1.000000  1.000000  1.000000  1.000000  1.000000   \n",
              "Percent  0.000358  0.000358  0.000358  0.000358  0.000358  0.000358  0.000358   \n",
              "\n",
              "              V11       V12       V13       V14    Amount       V16       V15  \\\n",
              "Total    1.000000  1.000000  1.000000  1.000000  1.000000  1.000000  1.000000   \n",
              "Percent  0.000358  0.000358  0.000358  0.000358  0.000358  0.000358  0.000358   \n",
              "\n",
              "              V18       V24       V28       V27       V19       V25       V26  \\\n",
              "Total    1.000000  1.000000  1.000000  1.000000  1.000000  1.000000  1.000000   \n",
              "Percent  0.000358  0.000358  0.000358  0.000358  0.000358  0.000358  0.000358   \n",
              "\n",
              "              V23       V22       V21       V20   V5   V4   V3   V2   V1  Time  \n",
              "Total    1.000000  1.000000  1.000000  1.000000  0.0  0.0  0.0  0.0  0.0   0.0  \n",
              "Percent  0.000358  0.000358  0.000358  0.000358  0.0  0.0  0.0  0.0  0.0   0.0  "
            ]
          },
          "metadata": {
            "tags": []
          },
          "execution_count": 13
        }
      ]
    },
    {
      "cell_type": "markdown",
      "metadata": {
        "id": "i1fgB9F5VGTy",
        "colab_type": "text"
      },
      "source": [
        "\"DATA UNBALANCE\"\n"
      ]
    },
    {
      "cell_type": "code",
      "metadata": {
        "id": "PsHD6JWLVKoq",
        "colab_type": "code",
        "colab": {
          "base_uri": "https://localhost:8080/",
          "height": 542
        },
        "outputId": "ce0266bf-53e9-4543-cb81-4f4841810f02"
      },
      "source": [
        "temp = df[\"Class\"].value_counts()\n",
        "df1 = pd.DataFrame({'Class': temp.index,'values': temp.values})\n",
        "\n",
        "trace = go.Bar(\n",
        "    x = df1['Class'],y = df1['values'],\n",
        "    name=\"Credit Card Fraud Class - data unbalance (Not fraud = 0, Fraud = 1)\",\n",
        "    marker=dict(color=\"Red\"),\n",
        "    text=df1['values'])\n",
        "data = [trace]\n",
        "layout = dict(title = 'Credit Card Fraud Class - data unbalance (Not fraud = 0, Fraud = 1)',\n",
        "          xaxis = dict(title = 'Class', showticklabels=True), \n",
        "          yaxis = dict(title = 'Number of transactions'),\n",
        "          hovermode = 'closest',width=600)\n",
        "         \n",
        "fig = dict(data=data, layout=layout)\n",
        "iplot(fig, filename='class')\n"
      ],
      "execution_count": 35,
      "outputs": [
        {
          "output_type": "display_data",
          "data": {
            "text/html": [
              "<div>\n",
              "        \n",
              "        \n",
              "            <div id=\"cb482a3d-3fa0-4690-bee5-7f9b9da8189d\" class=\"plotly-graph-div\" style=\"height:525px; width:600px;\"></div>\n",
              "            <script type=\"text/javascript\">\n",
              "                require([\"plotly\"], function(Plotly) {\n",
              "                    window.PLOTLYENV=window.PLOTLYENV || {};\n",
              "                    \n",
              "                if (document.getElementById(\"cb482a3d-3fa0-4690-bee5-7f9b9da8189d\")) {\n",
              "                    Plotly.newPlot(\n",
              "                        'cb482a3d-3fa0-4690-bee5-7f9b9da8189d',\n",
              "                        [{\"marker\": {\"color\": \"Red\"}, \"name\": \"Credit Card Fraud Class - data unbalance (Not fraud = 0, Fraud = 1)\", \"text\": [162200.0, 356.0], \"type\": \"bar\", \"x\": [0.0, 1.0], \"y\": [162200, 356]}],\n",
              "                        {\"hovermode\": \"closest\", \"template\": {\"data\": {\"bar\": [{\"error_x\": {\"color\": \"#2a3f5f\"}, \"error_y\": {\"color\": \"#2a3f5f\"}, \"marker\": {\"line\": {\"color\": \"#E5ECF6\", \"width\": 0.5}}, \"type\": \"bar\"}], \"barpolar\": [{\"marker\": {\"line\": {\"color\": \"#E5ECF6\", \"width\": 0.5}}, \"type\": \"barpolar\"}], \"carpet\": [{\"aaxis\": {\"endlinecolor\": \"#2a3f5f\", \"gridcolor\": \"white\", \"linecolor\": \"white\", \"minorgridcolor\": \"white\", \"startlinecolor\": \"#2a3f5f\"}, \"baxis\": {\"endlinecolor\": \"#2a3f5f\", \"gridcolor\": \"white\", \"linecolor\": \"white\", \"minorgridcolor\": \"white\", \"startlinecolor\": \"#2a3f5f\"}, \"type\": \"carpet\"}], \"choropleth\": [{\"colorbar\": {\"outlinewidth\": 0, \"ticks\": \"\"}, \"type\": \"choropleth\"}], \"contour\": [{\"colorbar\": {\"outlinewidth\": 0, \"ticks\": \"\"}, \"colorscale\": [[0.0, \"#0d0887\"], [0.1111111111111111, \"#46039f\"], [0.2222222222222222, \"#7201a8\"], [0.3333333333333333, \"#9c179e\"], [0.4444444444444444, \"#bd3786\"], [0.5555555555555556, \"#d8576b\"], [0.6666666666666666, \"#ed7953\"], [0.7777777777777778, \"#fb9f3a\"], [0.8888888888888888, \"#fdca26\"], [1.0, \"#f0f921\"]], \"type\": \"contour\"}], \"contourcarpet\": [{\"colorbar\": {\"outlinewidth\": 0, \"ticks\": \"\"}, \"type\": \"contourcarpet\"}], \"heatmap\": [{\"colorbar\": {\"outlinewidth\": 0, \"ticks\": \"\"}, \"colorscale\": [[0.0, \"#0d0887\"], [0.1111111111111111, \"#46039f\"], [0.2222222222222222, \"#7201a8\"], [0.3333333333333333, \"#9c179e\"], [0.4444444444444444, \"#bd3786\"], [0.5555555555555556, \"#d8576b\"], [0.6666666666666666, \"#ed7953\"], [0.7777777777777778, \"#fb9f3a\"], [0.8888888888888888, \"#fdca26\"], [1.0, \"#f0f921\"]], \"type\": \"heatmap\"}], \"heatmapgl\": [{\"colorbar\": {\"outlinewidth\": 0, \"ticks\": \"\"}, \"colorscale\": [[0.0, \"#0d0887\"], [0.1111111111111111, \"#46039f\"], [0.2222222222222222, \"#7201a8\"], [0.3333333333333333, \"#9c179e\"], [0.4444444444444444, \"#bd3786\"], [0.5555555555555556, \"#d8576b\"], [0.6666666666666666, \"#ed7953\"], [0.7777777777777778, \"#fb9f3a\"], [0.8888888888888888, \"#fdca26\"], [1.0, \"#f0f921\"]], \"type\": \"heatmapgl\"}], \"histogram\": [{\"marker\": {\"colorbar\": {\"outlinewidth\": 0, \"ticks\": \"\"}}, \"type\": \"histogram\"}], \"histogram2d\": [{\"colorbar\": {\"outlinewidth\": 0, \"ticks\": \"\"}, \"colorscale\": [[0.0, \"#0d0887\"], [0.1111111111111111, \"#46039f\"], [0.2222222222222222, \"#7201a8\"], [0.3333333333333333, \"#9c179e\"], [0.4444444444444444, \"#bd3786\"], [0.5555555555555556, \"#d8576b\"], [0.6666666666666666, \"#ed7953\"], [0.7777777777777778, \"#fb9f3a\"], [0.8888888888888888, \"#fdca26\"], [1.0, \"#f0f921\"]], \"type\": \"histogram2d\"}], \"histogram2dcontour\": [{\"colorbar\": {\"outlinewidth\": 0, \"ticks\": \"\"}, \"colorscale\": [[0.0, \"#0d0887\"], [0.1111111111111111, \"#46039f\"], [0.2222222222222222, \"#7201a8\"], [0.3333333333333333, \"#9c179e\"], [0.4444444444444444, \"#bd3786\"], [0.5555555555555556, \"#d8576b\"], [0.6666666666666666, \"#ed7953\"], [0.7777777777777778, \"#fb9f3a\"], [0.8888888888888888, \"#fdca26\"], [1.0, \"#f0f921\"]], \"type\": \"histogram2dcontour\"}], \"mesh3d\": [{\"colorbar\": {\"outlinewidth\": 0, \"ticks\": \"\"}, \"type\": \"mesh3d\"}], \"parcoords\": [{\"line\": {\"colorbar\": {\"outlinewidth\": 0, \"ticks\": \"\"}}, \"type\": \"parcoords\"}], \"pie\": [{\"automargin\": true, \"type\": \"pie\"}], \"scatter\": [{\"marker\": {\"colorbar\": {\"outlinewidth\": 0, \"ticks\": \"\"}}, \"type\": \"scatter\"}], \"scatter3d\": [{\"line\": {\"colorbar\": {\"outlinewidth\": 0, \"ticks\": \"\"}}, \"marker\": {\"colorbar\": {\"outlinewidth\": 0, \"ticks\": \"\"}}, \"type\": \"scatter3d\"}], \"scattercarpet\": [{\"marker\": {\"colorbar\": {\"outlinewidth\": 0, \"ticks\": \"\"}}, \"type\": \"scattercarpet\"}], \"scattergeo\": [{\"marker\": {\"colorbar\": {\"outlinewidth\": 0, \"ticks\": \"\"}}, \"type\": \"scattergeo\"}], \"scattergl\": [{\"marker\": {\"colorbar\": {\"outlinewidth\": 0, \"ticks\": \"\"}}, \"type\": \"scattergl\"}], \"scattermapbox\": [{\"marker\": {\"colorbar\": {\"outlinewidth\": 0, \"ticks\": \"\"}}, \"type\": \"scattermapbox\"}], \"scatterpolar\": [{\"marker\": {\"colorbar\": {\"outlinewidth\": 0, \"ticks\": \"\"}}, \"type\": \"scatterpolar\"}], \"scatterpolargl\": [{\"marker\": {\"colorbar\": {\"outlinewidth\": 0, \"ticks\": \"\"}}, \"type\": \"scatterpolargl\"}], \"scatterternary\": [{\"marker\": {\"colorbar\": {\"outlinewidth\": 0, \"ticks\": \"\"}}, \"type\": \"scatterternary\"}], \"surface\": [{\"colorbar\": {\"outlinewidth\": 0, \"ticks\": \"\"}, \"colorscale\": [[0.0, \"#0d0887\"], [0.1111111111111111, \"#46039f\"], [0.2222222222222222, \"#7201a8\"], [0.3333333333333333, \"#9c179e\"], [0.4444444444444444, \"#bd3786\"], [0.5555555555555556, \"#d8576b\"], [0.6666666666666666, \"#ed7953\"], [0.7777777777777778, \"#fb9f3a\"], [0.8888888888888888, \"#fdca26\"], [1.0, \"#f0f921\"]], \"type\": \"surface\"}], \"table\": [{\"cells\": {\"fill\": {\"color\": \"#EBF0F8\"}, \"line\": {\"color\": \"white\"}}, \"header\": {\"fill\": {\"color\": \"#C8D4E3\"}, \"line\": {\"color\": \"white\"}}, \"type\": \"table\"}]}, \"layout\": {\"annotationdefaults\": {\"arrowcolor\": \"#2a3f5f\", \"arrowhead\": 0, \"arrowwidth\": 1}, \"coloraxis\": {\"colorbar\": {\"outlinewidth\": 0, \"ticks\": \"\"}}, \"colorscale\": {\"diverging\": [[0, \"#8e0152\"], [0.1, \"#c51b7d\"], [0.2, \"#de77ae\"], [0.3, \"#f1b6da\"], [0.4, \"#fde0ef\"], [0.5, \"#f7f7f7\"], [0.6, \"#e6f5d0\"], [0.7, \"#b8e186\"], [0.8, \"#7fbc41\"], [0.9, \"#4d9221\"], [1, \"#276419\"]], \"sequential\": [[0.0, \"#0d0887\"], [0.1111111111111111, \"#46039f\"], [0.2222222222222222, \"#7201a8\"], [0.3333333333333333, \"#9c179e\"], [0.4444444444444444, \"#bd3786\"], [0.5555555555555556, \"#d8576b\"], [0.6666666666666666, \"#ed7953\"], [0.7777777777777778, \"#fb9f3a\"], [0.8888888888888888, \"#fdca26\"], [1.0, \"#f0f921\"]], \"sequentialminus\": [[0.0, \"#0d0887\"], [0.1111111111111111, \"#46039f\"], [0.2222222222222222, \"#7201a8\"], [0.3333333333333333, \"#9c179e\"], [0.4444444444444444, \"#bd3786\"], [0.5555555555555556, \"#d8576b\"], [0.6666666666666666, \"#ed7953\"], [0.7777777777777778, \"#fb9f3a\"], [0.8888888888888888, \"#fdca26\"], [1.0, \"#f0f921\"]]}, \"colorway\": [\"#636efa\", \"#EF553B\", \"#00cc96\", \"#ab63fa\", \"#FFA15A\", \"#19d3f3\", \"#FF6692\", \"#B6E880\", \"#FF97FF\", \"#FECB52\"], \"font\": {\"color\": \"#2a3f5f\"}, \"geo\": {\"bgcolor\": \"white\", \"lakecolor\": \"white\", \"landcolor\": \"#E5ECF6\", \"showlakes\": true, \"showland\": true, \"subunitcolor\": \"white\"}, \"hoverlabel\": {\"align\": \"left\"}, \"hovermode\": \"closest\", \"mapbox\": {\"style\": \"light\"}, \"paper_bgcolor\": \"white\", \"plot_bgcolor\": \"#E5ECF6\", \"polar\": {\"angularaxis\": {\"gridcolor\": \"white\", \"linecolor\": \"white\", \"ticks\": \"\"}, \"bgcolor\": \"#E5ECF6\", \"radialaxis\": {\"gridcolor\": \"white\", \"linecolor\": \"white\", \"ticks\": \"\"}}, \"scene\": {\"xaxis\": {\"backgroundcolor\": \"#E5ECF6\", \"gridcolor\": \"white\", \"gridwidth\": 2, \"linecolor\": \"white\", \"showbackground\": true, \"ticks\": \"\", \"zerolinecolor\": \"white\"}, \"yaxis\": {\"backgroundcolor\": \"#E5ECF6\", \"gridcolor\": \"white\", \"gridwidth\": 2, \"linecolor\": \"white\", \"showbackground\": true, \"ticks\": \"\", \"zerolinecolor\": \"white\"}, \"zaxis\": {\"backgroundcolor\": \"#E5ECF6\", \"gridcolor\": \"white\", \"gridwidth\": 2, \"linecolor\": \"white\", \"showbackground\": true, \"ticks\": \"\", \"zerolinecolor\": \"white\"}}, \"shapedefaults\": {\"line\": {\"color\": \"#2a3f5f\"}}, \"ternary\": {\"aaxis\": {\"gridcolor\": \"white\", \"linecolor\": \"white\", \"ticks\": \"\"}, \"baxis\": {\"gridcolor\": \"white\", \"linecolor\": \"white\", \"ticks\": \"\"}, \"bgcolor\": \"#E5ECF6\", \"caxis\": {\"gridcolor\": \"white\", \"linecolor\": \"white\", \"ticks\": \"\"}}, \"title\": {\"x\": 0.05}, \"xaxis\": {\"automargin\": true, \"gridcolor\": \"white\", \"linecolor\": \"white\", \"ticks\": \"\", \"title\": {\"standoff\": 15}, \"zerolinecolor\": \"white\", \"zerolinewidth\": 2}, \"yaxis\": {\"automargin\": true, \"gridcolor\": \"white\", \"linecolor\": \"white\", \"ticks\": \"\", \"title\": {\"standoff\": 15}, \"zerolinecolor\": \"white\", \"zerolinewidth\": 2}}}, \"title\": {\"text\": \"Credit Card Fraud Class - data unbalance (Not fraud = 0, Fraud = 1)\"}, \"width\": 600, \"xaxis\": {\"showticklabels\": true, \"title\": {\"text\": \"Class\"}}, \"yaxis\": {\"title\": {\"text\": \"Number of transactions\"}}},\n",
              "                        {\"responsive\": true}\n",
              "                    ).then(function(){\n",
              "                            \n",
              "var gd = document.getElementById('cb482a3d-3fa0-4690-bee5-7f9b9da8189d');\n",
              "var x = new MutationObserver(function (mutations, observer) {{\n",
              "        var display = window.getComputedStyle(gd).display;\n",
              "        if (!display || display === 'none') {{\n",
              "            console.log([gd, 'removed!']);\n",
              "            Plotly.purge(gd);\n",
              "            observer.disconnect();\n",
              "        }}\n",
              "}});\n",
              "\n",
              "// Listen for the removal of the full notebook cells\n",
              "var notebookContainer = gd.closest('#notebook-container');\n",
              "if (notebookContainer) {{\n",
              "    x.observe(notebookContainer, {childList: true});\n",
              "}}\n",
              "\n",
              "// Listen for the clearing of the current output cell\n",
              "var outputEl = gd.closest('.output');\n",
              "if (outputEl) {{\n",
              "    x.observe(outputEl, {childList: true});\n",
              "}}\n",
              "\n",
              "                        })\n",
              "                };\n",
              "                });\n",
              "            </script>\n",
              "        </div>"
            ],
            "application/vnd.plotly.v1+json": {
              "data": [
                {
                  "name": "Credit Card Fraud Class - data unbalance (Not fraud = 0, Fraud = 1)",
                  "text": [
                    162200,
                    356
                  ],
                  "y": [
                    162200,
                    356
                  ],
                  "marker": {
                    "color": "Red"
                  },
                  "x": [
                    0,
                    1
                  ],
                  "type": "bar"
                }
              ],
              "config": {
                "plotlyServerURL": "https://plot.ly",
                "linkText": "Export to plot.ly",
                "showLink": false
              },
              "layout": {
                "template": {
                  "layout": {
                    "shapedefaults": {
                      "line": {
                        "color": "#2a3f5f"
                      }
                    },
                    "polar": {
                      "radialaxis": {
                        "ticks": "",
                        "gridcolor": "white",
                        "linecolor": "white"
                      },
                      "bgcolor": "#E5ECF6",
                      "angularaxis": {
                        "ticks": "",
                        "gridcolor": "white",
                        "linecolor": "white"
                      }
                    },
                    "colorway": [
                      "#636efa",
                      "#EF553B",
                      "#00cc96",
                      "#ab63fa",
                      "#FFA15A",
                      "#19d3f3",
                      "#FF6692",
                      "#B6E880",
                      "#FF97FF",
                      "#FECB52"
                    ],
                    "xaxis": {
                      "automargin": true,
                      "title": {
                        "standoff": 15
                      },
                      "zerolinewidth": 2,
                      "ticks": "",
                      "zerolinecolor": "white",
                      "gridcolor": "white",
                      "linecolor": "white"
                    },
                    "colorscale": {
                      "diverging": [
                        [
                          0,
                          "#8e0152"
                        ],
                        [
                          0.1,
                          "#c51b7d"
                        ],
                        [
                          0.2,
                          "#de77ae"
                        ],
                        [
                          0.3,
                          "#f1b6da"
                        ],
                        [
                          0.4,
                          "#fde0ef"
                        ],
                        [
                          0.5,
                          "#f7f7f7"
                        ],
                        [
                          0.6,
                          "#e6f5d0"
                        ],
                        [
                          0.7,
                          "#b8e186"
                        ],
                        [
                          0.8,
                          "#7fbc41"
                        ],
                        [
                          0.9,
                          "#4d9221"
                        ],
                        [
                          1,
                          "#276419"
                        ]
                      ],
                      "sequential": [
                        [
                          0,
                          "#0d0887"
                        ],
                        [
                          0.1111111111111111,
                          "#46039f"
                        ],
                        [
                          0.2222222222222222,
                          "#7201a8"
                        ],
                        [
                          0.3333333333333333,
                          "#9c179e"
                        ],
                        [
                          0.4444444444444444,
                          "#bd3786"
                        ],
                        [
                          0.5555555555555556,
                          "#d8576b"
                        ],
                        [
                          0.6666666666666666,
                          "#ed7953"
                        ],
                        [
                          0.7777777777777778,
                          "#fb9f3a"
                        ],
                        [
                          0.8888888888888888,
                          "#fdca26"
                        ],
                        [
                          1,
                          "#f0f921"
                        ]
                      ],
                      "sequentialminus": [
                        [
                          0,
                          "#0d0887"
                        ],
                        [
                          0.1111111111111111,
                          "#46039f"
                        ],
                        [
                          0.2222222222222222,
                          "#7201a8"
                        ],
                        [
                          0.3333333333333333,
                          "#9c179e"
                        ],
                        [
                          0.4444444444444444,
                          "#bd3786"
                        ],
                        [
                          0.5555555555555556,
                          "#d8576b"
                        ],
                        [
                          0.6666666666666666,
                          "#ed7953"
                        ],
                        [
                          0.7777777777777778,
                          "#fb9f3a"
                        ],
                        [
                          0.8888888888888888,
                          "#fdca26"
                        ],
                        [
                          1,
                          "#f0f921"
                        ]
                      ]
                    },
                    "paper_bgcolor": "white",
                    "plot_bgcolor": "#E5ECF6",
                    "title": {
                      "x": 0.05
                    },
                    "scene": {
                      "zaxis": {
                        "backgroundcolor": "#E5ECF6",
                        "ticks": "",
                        "gridwidth": 2,
                        "showbackground": true,
                        "zerolinecolor": "white",
                        "gridcolor": "white",
                        "linecolor": "white"
                      },
                      "xaxis": {
                        "backgroundcolor": "#E5ECF6",
                        "ticks": "",
                        "gridwidth": 2,
                        "showbackground": true,
                        "zerolinecolor": "white",
                        "gridcolor": "white",
                        "linecolor": "white"
                      },
                      "yaxis": {
                        "backgroundcolor": "#E5ECF6",
                        "ticks": "",
                        "gridwidth": 2,
                        "showbackground": true,
                        "zerolinecolor": "white",
                        "gridcolor": "white",
                        "linecolor": "white"
                      }
                    },
                    "yaxis": {
                      "automargin": true,
                      "title": {
                        "standoff": 15
                      },
                      "zerolinewidth": 2,
                      "ticks": "",
                      "zerolinecolor": "white",
                      "gridcolor": "white",
                      "linecolor": "white"
                    },
                    "annotationdefaults": {
                      "arrowwidth": 1,
                      "arrowhead": 0,
                      "arrowcolor": "#2a3f5f"
                    },
                    "hoverlabel": {
                      "align": "left"
                    },
                    "ternary": {
                      "bgcolor": "#E5ECF6",
                      "baxis": {
                        "ticks": "",
                        "gridcolor": "white",
                        "linecolor": "white"
                      },
                      "caxis": {
                        "ticks": "",
                        "gridcolor": "white",
                        "linecolor": "white"
                      },
                      "aaxis": {
                        "ticks": "",
                        "gridcolor": "white",
                        "linecolor": "white"
                      }
                    },
                    "mapbox": {
                      "style": "light"
                    },
                    "hovermode": "closest",
                    "font": {
                      "color": "#2a3f5f"
                    },
                    "geo": {
                      "showland": true,
                      "landcolor": "#E5ECF6",
                      "showlakes": true,
                      "bgcolor": "white",
                      "subunitcolor": "white",
                      "lakecolor": "white"
                    },
                    "coloraxis": {
                      "colorbar": {
                        "outlinewidth": 0,
                        "ticks": ""
                      }
                    }
                  },
                  "data": {
                    "mesh3d": [
                      {
                        "colorbar": {
                          "outlinewidth": 0,
                          "ticks": ""
                        },
                        "type": "mesh3d"
                      }
                    ],
                    "scattercarpet": [
                      {
                        "marker": {
                          "colorbar": {
                            "outlinewidth": 0,
                            "ticks": ""
                          }
                        },
                        "type": "scattercarpet"
                      }
                    ],
                    "pie": [
                      {
                        "automargin": true,
                        "type": "pie"
                      }
                    ],
                    "surface": [
                      {
                        "colorbar": {
                          "outlinewidth": 0,
                          "ticks": ""
                        },
                        "type": "surface",
                        "colorscale": [
                          [
                            0,
                            "#0d0887"
                          ],
                          [
                            0.1111111111111111,
                            "#46039f"
                          ],
                          [
                            0.2222222222222222,
                            "#7201a8"
                          ],
                          [
                            0.3333333333333333,
                            "#9c179e"
                          ],
                          [
                            0.4444444444444444,
                            "#bd3786"
                          ],
                          [
                            0.5555555555555556,
                            "#d8576b"
                          ],
                          [
                            0.6666666666666666,
                            "#ed7953"
                          ],
                          [
                            0.7777777777777778,
                            "#fb9f3a"
                          ],
                          [
                            0.8888888888888888,
                            "#fdca26"
                          ],
                          [
                            1,
                            "#f0f921"
                          ]
                        ]
                      }
                    ],
                    "table": [
                      {
                        "header": {
                          "line": {
                            "color": "white"
                          },
                          "fill": {
                            "color": "#C8D4E3"
                          }
                        },
                        "cells": {
                          "line": {
                            "color": "white"
                          },
                          "fill": {
                            "color": "#EBF0F8"
                          }
                        },
                        "type": "table"
                      }
                    ],
                    "scatterpolargl": [
                      {
                        "marker": {
                          "colorbar": {
                            "outlinewidth": 0,
                            "ticks": ""
                          }
                        },
                        "type": "scatterpolargl"
                      }
                    ],
                    "contour": [
                      {
                        "colorbar": {
                          "outlinewidth": 0,
                          "ticks": ""
                        },
                        "type": "contour",
                        "colorscale": [
                          [
                            0,
                            "#0d0887"
                          ],
                          [
                            0.1111111111111111,
                            "#46039f"
                          ],
                          [
                            0.2222222222222222,
                            "#7201a8"
                          ],
                          [
                            0.3333333333333333,
                            "#9c179e"
                          ],
                          [
                            0.4444444444444444,
                            "#bd3786"
                          ],
                          [
                            0.5555555555555556,
                            "#d8576b"
                          ],
                          [
                            0.6666666666666666,
                            "#ed7953"
                          ],
                          [
                            0.7777777777777778,
                            "#fb9f3a"
                          ],
                          [
                            0.8888888888888888,
                            "#fdca26"
                          ],
                          [
                            1,
                            "#f0f921"
                          ]
                        ]
                      }
                    ],
                    "carpet": [
                      {
                        "type": "carpet",
                        "baxis": {
                          "minorgridcolor": "white",
                          "gridcolor": "white",
                          "linecolor": "white",
                          "endlinecolor": "#2a3f5f",
                          "startlinecolor": "#2a3f5f"
                        },
                        "aaxis": {
                          "minorgridcolor": "white",
                          "gridcolor": "white",
                          "linecolor": "white",
                          "endlinecolor": "#2a3f5f",
                          "startlinecolor": "#2a3f5f"
                        }
                      }
                    ],
                    "contourcarpet": [
                      {
                        "colorbar": {
                          "outlinewidth": 0,
                          "ticks": ""
                        },
                        "type": "contourcarpet"
                      }
                    ],
                    "heatmap": [
                      {
                        "colorbar": {
                          "outlinewidth": 0,
                          "ticks": ""
                        },
                        "type": "heatmap",
                        "colorscale": [
                          [
                            0,
                            "#0d0887"
                          ],
                          [
                            0.1111111111111111,
                            "#46039f"
                          ],
                          [
                            0.2222222222222222,
                            "#7201a8"
                          ],
                          [
                            0.3333333333333333,
                            "#9c179e"
                          ],
                          [
                            0.4444444444444444,
                            "#bd3786"
                          ],
                          [
                            0.5555555555555556,
                            "#d8576b"
                          ],
                          [
                            0.6666666666666666,
                            "#ed7953"
                          ],
                          [
                            0.7777777777777778,
                            "#fb9f3a"
                          ],
                          [
                            0.8888888888888888,
                            "#fdca26"
                          ],
                          [
                            1,
                            "#f0f921"
                          ]
                        ]
                      }
                    ],
                    "scattermapbox": [
                      {
                        "marker": {
                          "colorbar": {
                            "outlinewidth": 0,
                            "ticks": ""
                          }
                        },
                        "type": "scattermapbox"
                      }
                    ],
                    "scatter3d": [
                      {
                        "marker": {
                          "colorbar": {
                            "outlinewidth": 0,
                            "ticks": ""
                          }
                        },
                        "line": {
                          "colorbar": {
                            "outlinewidth": 0,
                            "ticks": ""
                          }
                        },
                        "type": "scatter3d"
                      }
                    ],
                    "scattergl": [
                      {
                        "marker": {
                          "colorbar": {
                            "outlinewidth": 0,
                            "ticks": ""
                          }
                        },
                        "type": "scattergl"
                      }
                    ],
                    "scatterternary": [
                      {
                        "marker": {
                          "colorbar": {
                            "outlinewidth": 0,
                            "ticks": ""
                          }
                        },
                        "type": "scatterternary"
                      }
                    ],
                    "histogram": [
                      {
                        "marker": {
                          "colorbar": {
                            "outlinewidth": 0,
                            "ticks": ""
                          }
                        },
                        "type": "histogram"
                      }
                    ],
                    "heatmapgl": [
                      {
                        "colorbar": {
                          "outlinewidth": 0,
                          "ticks": ""
                        },
                        "type": "heatmapgl",
                        "colorscale": [
                          [
                            0,
                            "#0d0887"
                          ],
                          [
                            0.1111111111111111,
                            "#46039f"
                          ],
                          [
                            0.2222222222222222,
                            "#7201a8"
                          ],
                          [
                            0.3333333333333333,
                            "#9c179e"
                          ],
                          [
                            0.4444444444444444,
                            "#bd3786"
                          ],
                          [
                            0.5555555555555556,
                            "#d8576b"
                          ],
                          [
                            0.6666666666666666,
                            "#ed7953"
                          ],
                          [
                            0.7777777777777778,
                            "#fb9f3a"
                          ],
                          [
                            0.8888888888888888,
                            "#fdca26"
                          ],
                          [
                            1,
                            "#f0f921"
                          ]
                        ]
                      }
                    ],
                    "scatterpolar": [
                      {
                        "marker": {
                          "colorbar": {
                            "outlinewidth": 0,
                            "ticks": ""
                          }
                        },
                        "type": "scatterpolar"
                      }
                    ],
                    "histogram2d": [
                      {
                        "colorbar": {
                          "outlinewidth": 0,
                          "ticks": ""
                        },
                        "type": "histogram2d",
                        "colorscale": [
                          [
                            0,
                            "#0d0887"
                          ],
                          [
                            0.1111111111111111,
                            "#46039f"
                          ],
                          [
                            0.2222222222222222,
                            "#7201a8"
                          ],
                          [
                            0.3333333333333333,
                            "#9c179e"
                          ],
                          [
                            0.4444444444444444,
                            "#bd3786"
                          ],
                          [
                            0.5555555555555556,
                            "#d8576b"
                          ],
                          [
                            0.6666666666666666,
                            "#ed7953"
                          ],
                          [
                            0.7777777777777778,
                            "#fb9f3a"
                          ],
                          [
                            0.8888888888888888,
                            "#fdca26"
                          ],
                          [
                            1,
                            "#f0f921"
                          ]
                        ]
                      }
                    ],
                    "scattergeo": [
                      {
                        "marker": {
                          "colorbar": {
                            "outlinewidth": 0,
                            "ticks": ""
                          }
                        },
                        "type": "scattergeo"
                      }
                    ],
                    "bar": [
                      {
                        "marker": {
                          "line": {
                            "color": "#E5ECF6",
                            "width": 0.5
                          }
                        },
                        "type": "bar",
                        "error_x": {
                          "color": "#2a3f5f"
                        },
                        "error_y": {
                          "color": "#2a3f5f"
                        }
                      }
                    ],
                    "choropleth": [
                      {
                        "colorbar": {
                          "outlinewidth": 0,
                          "ticks": ""
                        },
                        "type": "choropleth"
                      }
                    ],
                    "parcoords": [
                      {
                        "line": {
                          "colorbar": {
                            "outlinewidth": 0,
                            "ticks": ""
                          }
                        },
                        "type": "parcoords"
                      }
                    ],
                    "barpolar": [
                      {
                        "marker": {
                          "line": {
                            "color": "#E5ECF6",
                            "width": 0.5
                          }
                        },
                        "type": "barpolar"
                      }
                    ],
                    "histogram2dcontour": [
                      {
                        "colorbar": {
                          "outlinewidth": 0,
                          "ticks": ""
                        },
                        "type": "histogram2dcontour",
                        "colorscale": [
                          [
                            0,
                            "#0d0887"
                          ],
                          [
                            0.1111111111111111,
                            "#46039f"
                          ],
                          [
                            0.2222222222222222,
                            "#7201a8"
                          ],
                          [
                            0.3333333333333333,
                            "#9c179e"
                          ],
                          [
                            0.4444444444444444,
                            "#bd3786"
                          ],
                          [
                            0.5555555555555556,
                            "#d8576b"
                          ],
                          [
                            0.6666666666666666,
                            "#ed7953"
                          ],
                          [
                            0.7777777777777778,
                            "#fb9f3a"
                          ],
                          [
                            0.8888888888888888,
                            "#fdca26"
                          ],
                          [
                            1,
                            "#f0f921"
                          ]
                        ]
                      }
                    ],
                    "scatter": [
                      {
                        "marker": {
                          "colorbar": {
                            "outlinewidth": 0,
                            "ticks": ""
                          }
                        },
                        "type": "scatter"
                      }
                    ]
                  }
                },
                "yaxis": {
                  "title": {
                    "text": "Number of transactions"
                  }
                },
                "title": {
                  "text": "Credit Card Fraud Class - data unbalance (Not fraud = 0, Fraud = 1)"
                },
                "width": 600,
                "xaxis": {
                  "showticklabels": true,
                  "title": {
                    "text": "Class"
                  }
                },
                "hovermode": "closest"
              }
            }
          },
          "metadata": {
            "tags": []
          }
        }
      ]
    },
    {
      "cell_type": "markdown",
      "metadata": {
        "id": "Cw6Vv_IHXuZ2",
        "colab_type": "text"
      },
      "source": [
        ""
      ]
    },
    {
      "cell_type": "code",
      "metadata": {
        "id": "Z_qlqm5YXvvq",
        "colab_type": "code",
        "colab": {
          "base_uri": "https://localhost:8080/",
          "height": 542
        },
        "outputId": "eb1743e4-0fb4-463c-9931-9aedef2d4fb3"
      },
      "source": [
        "class_0 = df.loc[df['Class'] == 0][\"Time\"]\n",
        "class_1 = df.loc[df['Class'] == 1][\"Time\"]\n",
        "#plt.figure(figsize = (14,4))\n",
        "#plt.title('Credit Card Transactions Time Density Plot')\n",
        "#sns.set_color_codes(\"pastel\")\n",
        "#sns.distplot(class_0,kde=True,bins=480)\n",
        "#sns.distplot(class_1,kde=True,bins=480)\n",
        "#plt.show()\n",
        "hist_data = [class_0, class_1]\n",
        "group_labels = ['Not Fraud', 'Fraud']\n",
        "\n",
        "fig = ff.create_distplot(hist_data, group_labels, show_hist=False, show_rug=False)\n",
        "fig['layout'].update(title='Credit Card Transactions Time Density Plot', xaxis=dict(title='Time [s]'))\n",
        "iplot(fig, filename='dist_only')\n"
      ],
      "execution_count": 36,
      "outputs": [
        {
          "output_type": "display_data",
          "data": {
            "text/html": [
              "<div>\n",
              "        \n",
              "        \n",
              "            <div id=\"d65824f3-9c2a-4c94-9919-11a9a15e67e6\" class=\"plotly-graph-div\" style=\"height:525px; width:100%;\"></div>\n",
              "            <script type=\"text/javascript\">\n",
              "                require([\"plotly\"], function(Plotly) {\n",
              "                    window.PLOTLYENV=window.PLOTLYENV || {};\n",
              "                    \n",
              "                if (document.getElementById(\"d65824f3-9c2a-4c94-9919-11a9a15e67e6\")) {\n",
              "                    Plotly.newPlot(\n",
              "                        'd65824f3-9c2a-4c94-9919-11a9a15e67e6',\n",
              "                        [{\"legendgroup\": \"Not Fraud\", \"marker\": {\"color\": \"rgb(31, 119, 180)\"}, \"mode\": \"lines\", \"name\": \"Not Fraud\", \"showlegend\": true, \"type\": \"scatter\", \"x\": [0.0, 230.422, 460.844, 691.266, 921.688, 1152.11, 1382.532, 1612.954, 1843.376, 2073.798, 2304.22, 2534.642, 2765.064, 2995.486, 3225.908, 3456.33, 3686.752, 3917.174, 4147.596, 4378.018, 4608.44, 4838.862, 5069.284, 5299.706, 5530.128, 5760.55, 5990.972, 6221.394, 6451.816, 6682.238, 6912.66, 7143.082, 7373.504, 7603.926, 7834.348, 8064.77, 8295.192, 8525.614, 8756.036, 8986.458, 9216.88, 9447.302, 9677.724, 9908.146, 10138.568, 10368.99, 10599.412, 10829.834, 11060.256, 11290.678, 11521.1, 11751.522, 11981.944, 12212.366, 12442.788, 12673.21, 12903.632, 13134.054, 13364.476, 13594.898, 13825.32, 14055.742, 14286.164, 14516.586, 14747.008, 14977.43, 15207.852, 15438.274, 15668.696, 15899.118, 16129.54, 16359.962, 16590.384, 16820.806, 17051.228, 17281.65, 17512.072, 17742.494, 17972.916, 18203.338, 18433.76, 18664.182, 18894.604, 19125.026, 19355.448, 19585.87, 19816.292, 20046.714, 20277.136, 20507.558, 20737.98, 20968.402, 21198.824, 21429.246, 21659.668, 21890.09, 22120.512, 22350.934, 22581.356, 22811.778, 23042.2, 23272.622, 23503.044, 23733.466, 23963.888, 24194.31, 24424.732, 24655.154, 24885.576, 25115.998, 25346.42, 25576.842, 25807.264, 26037.686, 26268.108, 26498.53, 26728.952, 26959.374, 27189.796, 27420.218, 27650.64, 27881.062, 28111.484, 28341.906, 28572.328, 28802.75, 29033.172, 29263.594, 29494.016, 29724.438, 29954.86, 30185.282, 30415.704, 30646.126, 30876.548, 31106.97, 31337.392, 31567.814, 31798.236, 32028.658, 32259.08, 32489.502, 32719.924, 32950.346, 33180.768, 33411.19, 33641.612, 33872.034, 34102.456, 34332.878, 34563.3, 34793.722, 35024.144, 35254.566, 35484.988, 35715.41, 35945.832, 36176.254, 36406.676, 36637.098, 36867.52, 37097.942, 37328.364, 37558.786, 37789.208, 38019.63, 38250.052, 38480.474, 38710.896, 38941.318, 39171.74, 39402.162, 39632.584, 39863.006, 40093.428, 40323.85, 40554.272, 40784.694, 41015.116, 41245.538, 41475.96, 41706.382, 41936.804, 42167.226, 42397.648, 42628.07, 42858.492, 43088.914, 43319.336, 43549.758, 43780.18, 44010.602, 44241.024, 44471.446, 44701.868, 44932.29, 45162.712, 45393.134, 45623.556, 45853.978, 46084.4, 46314.822, 46545.244, 46775.666, 47006.088, 47236.51, 47466.932, 47697.354, 47927.776, 48158.198, 48388.62, 48619.042, 48849.464, 49079.886, 49310.308, 49540.73, 49771.152, 50001.574, 50231.996, 50462.418, 50692.84, 50923.262, 51153.684, 51384.106, 51614.528, 51844.95, 52075.372, 52305.794, 52536.216, 52766.638, 52997.06, 53227.482, 53457.904, 53688.326, 53918.748, 54149.17, 54379.592, 54610.014, 54840.436, 55070.858, 55301.28, 55531.702, 55762.124, 55992.546, 56222.968, 56453.39, 56683.812, 56914.234, 57144.656, 57375.078, 57605.5, 57835.922, 58066.344, 58296.766, 58527.188, 58757.61, 58988.032, 59218.454, 59448.876, 59679.298, 59909.72, 60140.142, 60370.564, 60600.986, 60831.408, 61061.83, 61292.252, 61522.674, 61753.096, 61983.518, 62213.94, 62444.362, 62674.784, 62905.206, 63135.628, 63366.05, 63596.472, 63826.894, 64057.316, 64287.738, 64518.16, 64748.582, 64979.004, 65209.426, 65439.848, 65670.27, 65900.692, 66131.114, 66361.536, 66591.958, 66822.38, 67052.802, 67283.224, 67513.646, 67744.068, 67974.49, 68204.912, 68435.334, 68665.756, 68896.178, 69126.6, 69357.022, 69587.444, 69817.866, 70048.288, 70278.71, 70509.132, 70739.554, 70969.976, 71200.398, 71430.82, 71661.242, 71891.664, 72122.086, 72352.508, 72582.93, 72813.352, 73043.774, 73274.196, 73504.618, 73735.04, 73965.462, 74195.884, 74426.306, 74656.728, 74887.15, 75117.572, 75347.994, 75578.416, 75808.838, 76039.26, 76269.682, 76500.104, 76730.526, 76960.948, 77191.37, 77421.792, 77652.214, 77882.636, 78113.058, 78343.48, 78573.902, 78804.324, 79034.746, 79265.168, 79495.59, 79726.012, 79956.434, 80186.856, 80417.278, 80647.7, 80878.122, 81108.544, 81338.966, 81569.388, 81799.81, 82030.232, 82260.654, 82491.076, 82721.498, 82951.92, 83182.342, 83412.764, 83643.186, 83873.608, 84104.03, 84334.452, 84564.874, 84795.296, 85025.718, 85256.14, 85486.562, 85716.984, 85947.406, 86177.828, 86408.25, 86638.672, 86869.094, 87099.516, 87329.938, 87560.36, 87790.782, 88021.204, 88251.626, 88482.048, 88712.47, 88942.892, 89173.314, 89403.736, 89634.158, 89864.58, 90095.002, 90325.424, 90555.846, 90786.268, 91016.69, 91247.112, 91477.534, 91707.956, 91938.378, 92168.8, 92399.222, 92629.644, 92860.066, 93090.488, 93320.91, 93551.332, 93781.754, 94012.176, 94242.598, 94473.02, 94703.442, 94933.864, 95164.286, 95394.708, 95625.13, 95855.552, 96085.974, 96316.396, 96546.818, 96777.24, 97007.662, 97238.084, 97468.506, 97698.928, 97929.35, 98159.772, 98390.194, 98620.616, 98851.038, 99081.46, 99311.882, 99542.304, 99772.726, 100003.148, 100233.57, 100463.992, 100694.414, 100924.836, 101155.258, 101385.68, 101616.102, 101846.524, 102076.946, 102307.368, 102537.79, 102768.212, 102998.634, 103229.056, 103459.478, 103689.9, 103920.322, 104150.744, 104381.166, 104611.588, 104842.01, 105072.432, 105302.854, 105533.276, 105763.698, 105994.12, 106224.542, 106454.964, 106685.386, 106915.808, 107146.23, 107376.652, 107607.074, 107837.496, 108067.918, 108298.34, 108528.762, 108759.184, 108989.606, 109220.028, 109450.45, 109680.872, 109911.294, 110141.716, 110372.138, 110602.56, 110832.982, 111063.404, 111293.826, 111524.248, 111754.67, 111985.092, 112215.514, 112445.936, 112676.358, 112906.78, 113137.202, 113367.624, 113598.046, 113828.468, 114058.89, 114289.312, 114519.734, 114750.156, 114980.578], \"xaxis\": \"x\", \"y\": [3.4732183011290385e-06, 3.7132248131293783e-06, 3.94212562962608e-06, 4.156630450115312e-06, 4.353704116723349e-06, 4.530655006087705e-06, 4.685210602111162e-06, 4.815577387454126e-06, 4.92048311736413e-06, 4.9992005160056295e-06, 5.051552389005671e-06, 5.077899012526585e-06, 5.079109389989082e-06, 5.056518531707952e-06, 5.01187329752551e-06, 4.947269551716685e-06, 4.865083429431746e-06, 4.767899429492047e-06, 4.658437858031304e-06, 4.539483879817573e-06, 4.413820114893223e-06, 4.284164369117324e-06, 4.1531137257649595e-06, 4.023095865641316e-06, 3.896328137253801e-06, 3.774784577694331e-06, 3.660170800210818e-06, 3.5539064271263863e-06, 3.4571145670193186e-06, 3.370617720688499e-06, 3.294939454880976e-06, 3.230311203506838e-06, 3.176683633424725e-06, 3.13374212890951e-06, 3.1009260825514284e-06, 3.077451803780365e-06, 3.0623389423115378e-06, 3.0544403490398928e-06, 3.0524752452968464e-06, 3.055065437759226e-06, 3.0607741082707626e-06, 3.068146445997943e-06, 3.075751105559233e-06, 3.082221208591801e-06, 3.0862933998410955e-06, 3.086843361229639e-06, 3.0829162083320764e-06, 3.0737503590092036e-06, 3.0587937719812286e-06, 3.0377118837385663e-06, 3.0103870883214945e-06, 2.976910156054129e-06, 2.9375645171196662e-06, 2.8928047868155948e-06, 2.8432312318057e-06, 2.7895620351378398e-06, 2.7326051955958654e-06, 2.6732316988074906e-06, 2.6123512490796726e-06, 2.550891395598598e-06, 2.4897803801264775e-06, 2.4299335366153117e-06, 2.372242644811851e-06, 2.317567328928004e-06, 2.2667274323558417e-06, 2.2204953046229937e-06, 2.1795871013403535e-06, 2.1446524967704663e-06, 2.1162626013816274e-06, 2.094896312765439e-06, 2.0809257531582677e-06, 2.074601808683716e-06, 2.0760410408876316e-06, 2.0852153596831243e-06, 2.1019458137794137e-06, 2.1259016721163675e-06, 2.156605655696169e-06, 2.193445764718701e-06, 2.23569367179399e-06, 2.282529163824279e-06, 2.3330696585728933e-06, 2.386403438081184e-06, 2.4416249626425746e-06, 2.4978704774076467e-06, 2.5543521074653206e-06, 2.61038875201421e-06, 2.665432317767251e-06, 2.7190881502853763e-06, 2.7711288974748155e-06, 2.821501437355629e-06, 2.8703268888920515e-06, 2.917894071146569e-06, 2.9646470603918866e-06, 3.011167703949396e-06, 3.0581540794867625e-06, 3.106395943890144e-06, 3.1567482080735154e-06, 3.210103419140369e-06, 3.2673641469202674e-06, 3.3294160749885598e-06, 3.397102500723201e-06, 3.4712008640569584e-06, 3.5524018543556507e-06, 3.6412915881507165e-06, 3.7383373018599866e-06, 3.84387695486679e-06, 3.958113079949634e-06, 4.081111141161556e-06, 4.212802556985739e-06, 4.352992415232581e-06, 4.501371745788128e-06, 4.657534032054033e-06, 4.8209954395608054e-06, 4.9912180317971415e-06, 5.167635042180258e-06, 5.349677092170909e-06, 5.53679810416202e-06, 5.728499568738836e-06, 5.9243518024000755e-06, 6.12401088432997e-06, 6.327230096034844e-06, 6.533864907516453e-06, 6.743870854364658e-06, 6.957294021590588e-06, 7.174254275472718e-06, 7.394921841122209e-06, 7.619488282450311e-06, 7.8481333704783e-06, 8.080989691615916e-06, 8.31810711694594e-06, 8.559419398184195e-06, 8.804715154567484e-06, 9.053615356136434e-06, 9.305559093388255e-06, 9.559798964773862e-06, 9.81540683860036e-06, 1.0071290092626706e-05, 1.032621774982907e-05, 1.0578855264296958e-05, 1.082780611935466e-05, 1.1071657928863438e-05, 1.1309030421444079e-05, 1.1538622562473835e-05, 1.1759256141003282e-05, 1.19699134122079e-05, 1.2169766818169126e-05, 1.2358199373771162e-05, 1.25348149524852e-05, 1.2699438384663436e-05, 1.2852105933463107e-05, 1.2993047289605582e-05, 1.3122660683656127e-05, 1.3241483023723006e-05, 1.3350157112525983e-05, 1.344939798116677e-05, 1.3539960212530592e-05, 1.3622607841911549e-05, 1.3698088051513348e-05, 1.3767109458635378e-05, 1.3830325374483561e-05, 1.3888322017843903e-05, 1.3941611334775423e-05, 1.3990627822667497e-05, 1.403572859540251e-05, 1.4077195857376459e-05, 1.4115240970763657e-05, 1.4150009389061706e-05, 1.4181585872584222e-05, 1.4209999577958303e-05, 1.4235228803489349e-05, 1.4257205356705559e-05, 1.4275818673504401e-05, 1.4290919947619973e-05, 1.430232661593419e-05, 1.430982758452822e-05, 1.4313189570851906e-05, 1.4312164880640024e-05, 1.430650083865573e-05, 1.4295950956896178e-05, 1.4280287761676874e-05, 1.425931702313323e-05, 1.4232892949940051e-05, 1.4200933742494818e-05, 1.4163436754060953e-05, 1.4120492405707096e-05, 1.4072295950107496e-05, 1.4019156191397526e-05, 1.396150034921018e-05, 1.389987440539814e-05, 1.3834938486369189e-05, 1.3767457100741798e-05, 1.3698284353628846e-05, 1.3628344573070029e-05, 1.355860908591553e-05, 1.3490070144302372e-05, 1.342371320639875e-05, 1.3360488897676338e-05, 1.330128600984459e-05, 1.3246906830334646e-05, 1.3198045941322269e-05, 1.315527339757527e-05, 1.3119022907608835e-05, 1.3089585327974327e-05, 1.306710746291296e-05, 1.30515958666842e-05, 1.3042925095201323e-05, 1.3040849662615343e-05, 1.3045018835303942e-05, 1.3054993340989752e-05, 1.3070263078448622e-05, 1.3090264972545765e-05, 1.3114400216477289e-05, 1.314205026401439e-05, 1.3172591066851034e-05, 1.3205405186640938e-05, 1.3239891542657465e-05, 1.3275472682584637e-05, 1.3311599586781848e-05, 1.3347754137571405e-05, 1.338344950604039e-05, 1.3418228828470601e-05, 1.3451662658190451e-05, 1.3483345777857049e-05, 1.3512894030120274e-05, 1.3539941857744725e-05, 1.35641412245352e-05, 1.3585162505920808e-05, 1.3602697788557792e-05, 1.3616466805206743e-05, 1.3626225466483277e-05, 1.363177665538058e-05, 1.3632982651138291e-05, 1.3629778277680922e-05, 1.3622183660605146e-05, 1.3610315354182963e-05, 1.3594394587270443e-05, 1.3574751484949717e-05, 1.3551824349126801e-05, 1.3526153410971784e-05, 1.3498368873844637e-05, 1.3469173510718869e-05, 1.3439320523206238e-05, 1.3409587767430123e-05, 1.3380749766519079e-05, 1.3353549130038447e-05, 1.3328669068531928e-05, 1.3306708621373745e-05, 1.3288162017114057e-05, 1.3273403278849801e-05, 1.3262676804234314e-05, 1.3256094228131797e-05, 1.3253637455132035e-05, 1.325516736627098e-05, 1.3260437390208233e-05, 1.326911090545941e-05, 1.3280781317808166e-05, 1.3294993635149012e-05, 1.331126642975946e-05, 1.3329113216051e-05, 1.334806245543467e-05, 1.33676756021705e-05, 1.338756279931146e-05, 1.3407396000703709e-05, 1.3426919418617208e-05, 1.3445957270024729e-05, 1.3464418819156007e-05, 1.3482300698636083e-05, 1.349968645119005e-05, 1.351674318725082e-05, 1.3533715220704251e-05, 1.3550914543807012e-05, 1.3568708047445515e-05, 1.3587501492911726e-05, 1.3607720397632958e-05, 1.3629788203508709e-05, 1.3654102338980907e-05, 1.3681009044623088e-05, 1.3710778082088976e-05, 1.374357866035902e-05, 1.3779458063924525e-05, 1.3818324529947744e-05, 1.3859935875743165e-05, 1.3903895211807367e-05, 1.3949654786120205e-05, 1.3996528600245316e-05, 1.4043713935709944e-05, 1.4090321359751141e-05, 1.4135412181445258e-05, 1.4178041747758022e-05, 1.4217306452539876e-05, 1.4252391927228991e-05, 1.4282619631659267e-05, 1.4307488998468164e-05, 1.4326712422808916e-05, 1.4340240731391765e-05, 1.4348277294432186e-05, 1.435127962666968e-05, 1.4349948110105092e-05, 1.4345202301491442e-05, 1.4338146096415888e-05, 1.4330023744166504e-05, 1.4322169285437892e-05, 1.4315952372632076e-05, 1.4312723601100001e-05, 1.4313762419490649e-05, 1.4320230408669381e-05, 1.4333132250126833e-05, 1.4353286090307905e-05, 1.4381304301247457e-05, 1.441758489970808e-05, 1.4462313175353046e-05, 1.4515472445997587e-05, 1.457686234692642e-05, 1.4646122700544608e-05, 1.4722760816382714e-05, 1.4806180039297076e-05, 1.4895707482294276e-05, 1.4990619126356354e-05, 1.5090160812911078e-05, 1.519356406219975e-05, 1.5300056090264048e-05, 1.540886383941197e-05, 1.5519212257779903e-05, 1.5630317444868858e-05, 1.574137560928452e-05, 1.585154905457081e-05, 1.5959950614252592e-05, 1.6065628094561546e-05, 1.6167550349233636e-05, 1.626459660066618e-05, 1.635555053006192e-05, 1.643910048037448e-05, 1.651384684602525e-05, 1.65783173626137e-05, 1.6630990564727965e-05, 1.6670327165454404e-05, 1.6694808551839e-05, 1.6702981020374148e-05, 1.6693503837389247e-05, 1.6665198747488706e-05, 1.661709821563143e-05, 1.654848951685191e-05, 1.6458951813468368e-05, 1.634838359936974e-05, 1.6217018342643733e-05, 1.606542679944517e-05, 1.589450526236751e-05, 1.570544988811395e-05, 1.5499718153091487e-05, 1.5278979337955778e-05, 1.5045056671787464e-05, 1.4799864311677425e-05, 1.4545342647963013e-05, 1.4283395483423744e-05, 1.401583243341647e-05, 1.374431945307692e-05, 1.3470339757890136e-05, 1.3195166622169399e-05, 1.2919848684118998e-05, 1.2645207528280852e-05, 1.2371846525887187e-05, 1.2100169251837693e-05, 1.1830405310604855e-05, 1.1562641121572434e-05, 1.1296853146722322e-05, 1.1032941180096004e-05, 1.0770759631095943e-05, 1.0510145180062468e-05, 1.025093971262411e-05, 9.99300799295573e-06, 9.736250060915403e-06, 9.480608786902446e-06, 9.22607335571122e-06, 8.972679655948019e-06, 8.720508620060451e-06, 8.469683502445782e-06, 8.220366923200893e-06, 7.972758275742358e-06, 7.727091835060434e-06, 7.48363564650008e-06, 7.242691054306295e-06, 7.004592567754708e-06, 6.769707672897424e-06, 6.538436181149414e-06, 6.311208753616516e-06, 6.088484336264159e-06, 5.870746365522761e-06, 5.658497735603822e-06, 5.452254638712071e-06, 5.2525394829809564e-06, 5.0598731515709715e-06, 4.874766887165659e-06, 4.697714071600778e-06, 4.529182127123761e-06, 4.369604702826148e-06, 4.219374237127094e-06, 4.078834914595019e-06, 3.948275971681299e-06, 3.8279252585647196e-06, 3.71794293930754e-06, 3.6184152145382825e-06, 3.5293479830355846e-06, 3.450660422201706e-06, 3.38217856138005e-06, 3.3236290420161804e-06, 3.2746333966320983e-06, 3.234703322038842e-06, 3.2032375546150477e-06, 3.1795210571799367e-06, 3.162727277086312e-06, 3.1519242141365754e-06, 3.14608492977786e-06, 3.1441029284432923e-06, 3.1448125509265595e-06, 3.147014153364737e-06, 3.1495034309657332e-06, 3.151103820773162e-06, 3.150700527337157e-06, 3.1472744061644477e-06, 3.139933755587289e-06, 3.127942041830234e-06, 3.110739733111821e-06, 3.0879587462732736e-06, 3.0594284929205604e-06, 3.0251731112668673e-06, 2.985400128986779e-06, 2.940481456033297e-06, 2.890928187095612e-06, 2.8373611399350514e-06, 2.780479320824611e-06, 2.7210285642628328e-06, 2.6597724371191977e-06, 2.597467147664278e-06, 2.5348416995214204e-06, 2.472583937883137e-06, 2.4113325179480588e-06, 2.35167425181162e-06, 2.2941458208256458e-06, 2.2392385219178127e-06, 2.187404575020786e-06, 2.1390635590060123e-06, 2.0946077481508917e-06, 2.054405454560873e-06, 2.0188018953568366e-06, 1.9881175415716643e-06, 1.962644313886848e-06, 1.942640320996362e-06, 1.9283240542782127e-06, 1.919869038087317e-06, 1.917399885838092e-06, 1.9209905416931756e-06, 1.9306652230391598e-06, 1.9464022561783752e-06, 1.968140657335039e-06, 1.995788993073664e-06, 2.029235793304471e-06, 2.0683606122026275e-06, 2.113044752527102e-06, 2.1631806899638723e-06, 2.218679347761009e-06, 2.2794745598956582e-06, 2.345524298152204e-06, 2.4168084959622463e-06, 2.4933235506956974e-06, 2.5750738005858884e-06, 2.662060433045882e-06, 2.7542683764538446e-06, 2.8516517555751245e-06, 2.9541184590537484e-06, 3.0615142915510594e-06, 3.1736070850487863e-06, 3.2900710487792407e-06, 3.41047157026545e-06, 3.5342506623599006e-06, 3.660713297135951e-06, 3.789014981325088e-06, 3.9181511024704445e-06, 4.046948790958501e-06, 4.1740622707657645e-06, 4.2979728732902235e-06, 4.416995022291453e-06, 4.529289523150907e-06, 4.632885372486048e-06, 4.725711022732191e-06, 4.805635585253157e-06, 4.870519848868583e-06, 4.918276262663874e-06, 4.9469362356005754e-06, 4.954722308620662e-06, 4.940122034258846e-06, 4.901959831995582e-06, 4.839462745167118e-06, 4.752315962136465e-06, 4.64070421295823e-06, 4.505335717682925e-06, 4.347446218669347e-06, 4.168781722870788e-06, 3.971559832369698e-06, 3.758410856031833e-06, 3.5323011669130624e-06], \"yaxis\": \"y\"}, {\"legendgroup\": \"Fraud\", \"marker\": {\"color\": \"rgb(255, 127, 14)\"}, \"mode\": \"lines\", \"name\": \"Fraud\", \"showlegend\": true, \"type\": \"scatter\", \"x\": [406.0, 626.422, 846.844, 1067.266, 1287.688, 1508.11, 1728.532, 1948.954, 2169.376, 2389.798, 2610.22, 2830.642, 3051.064, 3271.486, 3491.908, 3712.33, 3932.752, 4153.174, 4373.596, 4594.018, 4814.44, 5034.862, 5255.284, 5475.706, 5696.128, 5916.55, 6136.972, 6357.394, 6577.816, 6798.238, 7018.66, 7239.082, 7459.504, 7679.926, 7900.348, 8120.77, 8341.192, 8561.614, 8782.036, 9002.458, 9222.88, 9443.302, 9663.724, 9884.146, 10104.568, 10324.99, 10545.412, 10765.834, 10986.256, 11206.678, 11427.1, 11647.522, 11867.944, 12088.366, 12308.788, 12529.21, 12749.632, 12970.054, 13190.476, 13410.898, 13631.32, 13851.742, 14072.164, 14292.586, 14513.008, 14733.43, 14953.852, 15174.274, 15394.696, 15615.118, 15835.54, 16055.962, 16276.384, 16496.806, 16717.228, 16937.65, 17158.072, 17378.494, 17598.916, 17819.338, 18039.76, 18260.182, 18480.604, 18701.026, 18921.448, 19141.87, 19362.292, 19582.714, 19803.136, 20023.558, 20243.98, 20464.402, 20684.824, 20905.246, 21125.668, 21346.09, 21566.512, 21786.934, 22007.356, 22227.778, 22448.2, 22668.622, 22889.044, 23109.466, 23329.888, 23550.31, 23770.732, 23991.154, 24211.576, 24431.998, 24652.42, 24872.842, 25093.264, 25313.686, 25534.108, 25754.53, 25974.952, 26195.374, 26415.796, 26636.218, 26856.64, 27077.062, 27297.484, 27517.906, 27738.328, 27958.75, 28179.172, 28399.594, 28620.016, 28840.438, 29060.86, 29281.282, 29501.704, 29722.126, 29942.548, 30162.97, 30383.392, 30603.814, 30824.236, 31044.658, 31265.08, 31485.502, 31705.924, 31926.346, 32146.768, 32367.19, 32587.612, 32808.034, 33028.456, 33248.878, 33469.3, 33689.722, 33910.144, 34130.566, 34350.988, 34571.41, 34791.832, 35012.254, 35232.676, 35453.098, 35673.52, 35893.942, 36114.364, 36334.786, 36555.208, 36775.63, 36996.052, 37216.474, 37436.896, 37657.318, 37877.74, 38098.162, 38318.584, 38539.006, 38759.428, 38979.85, 39200.272, 39420.694, 39641.116, 39861.538, 40081.96, 40302.382, 40522.804, 40743.226, 40963.648, 41184.07, 41404.492, 41624.914, 41845.336, 42065.758, 42286.18, 42506.602, 42727.024, 42947.446, 43167.868, 43388.29, 43608.712, 43829.134, 44049.556, 44269.978, 44490.4, 44710.822, 44931.244, 45151.666, 45372.088, 45592.51, 45812.932, 46033.354, 46253.776, 46474.198, 46694.62, 46915.042, 47135.464, 47355.886, 47576.308, 47796.73, 48017.152, 48237.574, 48457.996, 48678.418, 48898.84, 49119.262, 49339.684, 49560.106, 49780.528, 50000.95, 50221.372, 50441.794, 50662.216, 50882.638, 51103.06, 51323.482, 51543.904, 51764.326, 51984.748, 52205.17, 52425.592, 52646.014, 52866.436, 53086.858, 53307.28, 53527.702, 53748.124, 53968.546, 54188.968, 54409.39, 54629.812, 54850.234, 55070.656, 55291.078, 55511.5, 55731.922, 55952.344, 56172.766, 56393.188, 56613.61, 56834.032, 57054.454, 57274.876, 57495.298, 57715.72, 57936.142, 58156.564, 58376.986, 58597.408, 58817.83, 59038.252, 59258.674, 59479.096, 59699.518, 59919.94, 60140.362, 60360.784, 60581.206, 60801.628, 61022.05, 61242.472, 61462.894, 61683.316, 61903.738, 62124.16, 62344.582, 62565.004, 62785.426, 63005.848, 63226.27, 63446.692, 63667.114, 63887.536, 64107.958, 64328.38, 64548.802, 64769.224, 64989.646, 65210.068, 65430.49, 65650.912, 65871.334, 66091.756, 66312.178, 66532.6, 66753.022, 66973.444, 67193.866, 67414.288, 67634.71, 67855.132, 68075.554, 68295.976, 68516.398, 68736.82, 68957.242, 69177.664, 69398.086, 69618.508, 69838.93, 70059.352, 70279.774, 70500.196, 70720.618, 70941.04, 71161.462, 71381.884, 71602.306, 71822.728, 72043.15, 72263.572, 72483.994, 72704.416, 72924.838, 73145.26, 73365.682, 73586.104, 73806.526, 74026.948, 74247.37, 74467.792, 74688.214, 74908.636, 75129.058, 75349.48, 75569.902, 75790.324, 76010.746, 76231.168, 76451.59, 76672.012, 76892.434, 77112.856, 77333.278, 77553.7, 77774.122, 77994.544, 78214.966, 78435.388, 78655.81, 78876.232, 79096.654, 79317.076, 79537.498, 79757.92, 79978.342, 80198.764, 80419.186, 80639.608, 80860.03, 81080.452, 81300.874, 81521.296, 81741.718, 81962.14, 82182.562, 82402.984, 82623.406, 82843.828, 83064.25, 83284.672, 83505.094, 83725.516, 83945.938, 84166.36, 84386.782, 84607.204, 84827.626, 85048.048, 85268.47, 85488.892, 85709.314, 85929.736, 86150.158, 86370.58, 86591.002, 86811.424, 87031.846, 87252.268, 87472.69, 87693.112, 87913.534, 88133.956, 88354.378, 88574.8, 88795.222, 89015.644, 89236.066, 89456.488, 89676.91, 89897.332, 90117.754, 90338.176, 90558.598, 90779.02, 90999.442, 91219.864, 91440.286, 91660.708, 91881.13, 92101.552, 92321.974, 92542.396, 92762.818, 92983.24, 93203.662, 93424.084, 93644.506, 93864.928, 94085.35, 94305.772, 94526.194, 94746.616, 94967.038, 95187.46, 95407.882, 95628.304, 95848.726, 96069.148, 96289.57, 96509.992, 96730.414, 96950.836, 97171.258, 97391.68, 97612.102, 97832.524, 98052.946, 98273.368, 98493.79, 98714.212, 98934.634, 99155.056, 99375.478, 99595.9, 99816.322, 100036.744, 100257.166, 100477.588, 100698.01, 100918.432, 101138.854, 101359.276, 101579.698, 101800.12, 102020.542, 102240.964, 102461.386, 102681.808, 102902.23, 103122.652, 103343.074, 103563.496, 103783.918, 104004.34, 104224.762, 104445.184, 104665.606, 104886.028, 105106.45, 105326.872, 105547.294, 105767.716, 105988.138, 106208.56, 106428.982, 106649.404, 106869.826, 107090.248, 107310.67, 107531.092, 107751.514, 107971.936, 108192.358, 108412.78, 108633.202, 108853.624, 109074.046, 109294.468, 109514.89, 109735.312, 109955.734, 110176.156, 110396.578], \"xaxis\": \"x\", \"y\": [3.269230734809342e-06, 3.3478951589037682e-06, 3.4269933912420734e-06, 3.50647477946781e-06, 3.5862877541100255e-06, 3.666379929670401e-06, 3.746698209519798e-06, 3.827188894315363e-06, 3.907797793630271e-06, 3.9884703404702545e-06, 4.06915170833465e-06, 4.149786930463655e-06, 4.2303210209000085e-06, 4.310699096980248e-06, 4.39086650286005e-06, 4.470768933668226e-06, 4.550352559876965e-06, 4.629564151469261e-06, 4.708351201481162e-06, 4.786662048493652e-06, 4.864445997649267e-06, 4.941653439769919e-06, 5.018235968156425e-06, 5.094146492655543e-06, 5.169339350588248e-06, 5.2437704141425354e-06, 5.317397193845411e-06, 5.390178937742256e-06, 5.462076725927003e-06, 5.533053560083356e-06, 5.60307444771628e-06, 5.672106480772904e-06, 5.740118908374154e-06, 5.807083203401288e-06, 5.8729731227062815e-06, 5.937764760740455e-06, 6.001436596422525e-06, 6.06396953309499e-06, 6.125346931445751e-06, 6.185554635301353e-06, 6.244580990227083e-06, 6.302416854899364e-06, 6.359055605245566e-06, 6.414493131375805e-06, 6.468727827361913e-06, 6.521760573946779e-06, 6.5735947142973375e-06, 6.624236022941458e-06, 6.673692668057196e-06, 6.721975167308732e-06, 6.769096337448556e-06, 6.815071237929575e-06, 6.85991710879344e-06, 6.903653303122143e-06, 6.946301214359898e-06, 6.987884198829434e-06, 7.02842749378337e-06, 7.067958131344916e-06, 7.106504848704222e-06, 7.144097994946997e-06, 7.180769434899673e-06, 7.216552450381027e-06, 7.251481639254607e-06, 7.285592812676772e-06, 7.318922890935666e-06, 7.3515097982729e-06, 7.3833923570751975e-06, 7.414610181817012e-06, 7.44520357312506e-06, 7.475213412326613e-06, 7.504681056829498e-06, 7.533648236668295e-06, 7.562156952535359e-06, 7.5902493755974935e-06, 7.617967749380957e-06, 7.64535429398708e-06, 7.672451112879985e-06, 7.699300102465953e-06, 7.725942864660789e-06, 7.752420622618832e-06, 7.778774139772703e-06, 7.805043642309224e-06, 7.831268745182246e-06, 7.857488381739399e-06, 7.883740737015056e-06, 7.91006318471887e-06, 7.936492227925613e-06, 7.963063443449887e-06, 7.989811429867618e-06, 8.016769759125804e-06, 8.043970931662388e-06, 8.071446334940434e-06, 8.099226205283334e-06, 8.127339592883343e-06, 8.155814329841698e-06, 8.18467700108655e-06, 8.213952918005445e-06, 8.243666094620137e-06, 8.273839226125124e-06, 8.304493669607926e-06, 8.335649426764899e-06, 8.36732512842723e-06, 8.399538020712655e-06, 8.43230395262124e-06, 8.465637364899847e-06, 8.499551280005763e-06, 8.53405729300959e-06, 8.569165563287425e-06, 8.604884806864596e-06, 8.64122228928666e-06, 8.678183818908214e-06, 8.715773740506104e-06, 8.753994929140765e-06, 8.792848784207334e-06, 8.832335223637363e-06, 8.872452678230759e-06, 8.913198086118052e-06, 8.954566887372476e-06, 8.99655301881206e-06, 9.03914890905139e-06, 9.08234547388271e-06, 9.126132112084944e-06, 9.170496701777685e-06, 9.215425597455169e-06, 9.260903627851056e-06, 9.306914094800794e-06, 9.353438773282329e-06, 9.40045791282771e-06, 9.447950240509567e-06, 9.49589296571538e-06, 9.544261786928773e-06, 9.593030900743264e-06, 9.642173013335804e-06, 9.691659354628807e-06, 9.741459695367638e-06, 9.791542367336887e-06, 9.841874286932553e-06, 9.892420982299195e-06, 9.943146624229942e-06, 9.99401406101505e-06, 1.0044984857408815e-05, 1.0096019337868124e-05, 1.0147076634195974e-05, 1.0198114737702632e-05, 1.0249090555973484e-05, 1.0299959974308244e-05, 1.035067792186979e-05, 1.0401198442553039e-05, 1.0451474770555762e-05, 1.0501459410602894e-05, 1.0551104222745727e-05, 1.0600360511625918e-05, 1.0649179120062272e-05, 1.0697510526787462e-05, 1.0745304948129028e-05, 1.0792512443398553e-05, 1.0839083023721772e-05, 1.0884966764012421e-05, 1.0930113917763705e-05, 1.0974475034303741e-05, 1.101800107813469e-05, 1.1060643549951267e-05, 1.110235460891142e-05, 1.1143087195711123e-05, 1.1182795155997847e-05, 1.1221433363640081e-05, 1.125895784335838e-05, 1.1295325892211952e-05, 1.1330496199427189e-05, 1.1364428964050047e-05, 1.1397086009902667e-05, 1.1428430897324694e-05, 1.1458429031185728e-05, 1.1487047764661467e-05, 1.1514256498278304e-05, 1.154002677374255e-05, 1.1564332362089966e-05, 1.1587149345708554e-05, 1.160845619381177e-05, 1.1628233830964009e-05, 1.1646465698287792e-05, 1.166313780701383e-05, 1.1678238784066065e-05, 1.169175990941033e-05, 1.170369514493099e-05, 1.1714041154638806e-05, 1.1722797316053186e-05, 1.1729965722642551e-05, 1.1735551177250417e-05, 1.1739561176474875e-05, 1.1742005886015481e-05, 1.1742898107042996e-05, 1.174225323369161e-05, 1.1740089201816446e-05, 1.1736426429202043e-05, 1.1731287747447765e-05, 1.1724698325798676e-05, 1.1716685587227845e-05, 1.1707279117114532e-05, 1.1696510564898095e-05, 1.1684413539121538e-05, 1.1671023496309525e-05, 1.1656377624154929e-05, 1.1640514719514818e-05, 1.1623475061739611e-05, 1.1605300281880443e-05, 1.1586033228337513e-05, 1.1565717829526609e-05, 1.1544398954152866e-05, 1.1522122269688492e-05, 1.1498934099656729e-05, 1.147488128032636e-05, 1.1450011017418354e-05, 1.1424370743423262e-05, 1.1398007976118396e-05, 1.137097017886452e-05, 1.1343304623246515e-05, 1.1315058254606542e-05, 1.128627756099825e-05, 1.1257008446068593e-05, 1.1227296106349253e-05, 1.1197184913412678e-05, 1.1166718301318815e-05, 1.1135938659747771e-05, 1.1104887233181462e-05, 1.1073604026462545e-05, 1.1042127717024833e-05, 1.1010495574051903e-05, 1.0978743384784569e-05, 1.0946905388160062e-05, 1.091501421592743e-05, 1.0883100841346389e-05, 1.0851194535538179e-05, 1.0819322831520428e-05, 1.0787511495919903e-05, 1.0755784508322106e-05, 1.0724164048180282e-05, 1.0692670489173172e-05, 1.0661322400867764e-05, 1.0630136557511894e-05, 1.0599127953752423e-05, 1.0568309827046347e-05, 1.0537693686506775e-05, 1.0507289347901373e-05, 1.0477104974499506e-05, 1.0447147123444195e-05, 1.041742079730811e-05, 1.0387929500477501e-05, 1.0358675299995046e-05, 1.0329658890482389e-05, 1.0300879662754932e-05, 1.0272335775735605e-05, 1.0244024231270684e-05, 1.021594095144962e-05, 1.0188080858031506e-05, 1.0160437953583785e-05, 1.0133005403943903e-05, 1.0105775621621318e-05, 1.007874034976593e-05, 1.0051890746339692e-05, 1.002521746813978e-05, 9.998710754335363e-06, 9.972360509194712e-06, 9.94615638369533e-06, 9.920087855726708e-06, 9.89414430861344e-06, 9.868315107704586e-06, 9.842589674795104e-06, 9.816957560164225e-06, 9.791408512036232e-06, 9.765932543288942e-06, 9.740519995255622e-06, 9.71516159848636e-06, 9.689848530354824e-06, 9.664572469415718e-06, 9.639325646437957e-06, 9.614100892056843e-06, 9.588891681006495e-06, 9.563692172911447e-06, 9.538497249632157e-06, 9.513302549175027e-06, 9.488104496192133e-06, 9.462900329109136e-06, 9.437688123932253e-06, 9.412466814796881e-06, 9.387236211330105e-06, 9.36199701290882e-06, 9.336750819902665e-06, 9.311500141997878e-06, 9.286248403703716e-06, 9.260999947147109e-06, 9.235760032264941e-06, 9.210534834505197e-06, 9.185331440149051e-06, 9.16015783936698e-06, 9.135022917119477e-06, 9.109936442013145e-06, 9.08490905321843e-06, 9.059952245553017e-06, 9.035078352830415e-06, 9.010300529568094e-06, 8.985632731145018e-06, 8.96108969249173e-06, 8.936686905390306e-06, 8.912440594455055e-06, 8.88836769185762e-06, 8.864485810853567e-06, 8.840813218159936e-06, 8.817368805226956e-06, 8.794172058439039e-06, 8.771243028274396e-06, 8.748602297445064e-06, 8.726270948033254e-06, 8.70427052763379e-06, 8.682623014506712e-06, 8.661350781739094e-06, 8.640476560410407e-06, 8.620023401751774e-06, 8.600014638286152e-06, 8.580473843933411e-06, 8.561424793062606e-06, 8.542891418472116e-06, 8.524897768277801e-06, 8.507467961689662e-06, 8.490626143658035e-06, 8.474396438372788e-06, 8.458802901600458e-06, 8.443869471848874e-06, 8.429619920351531e-06, 8.416077799869923e-06, 8.40326639231671e-06, 8.39120865520972e-06, 8.379927166972598e-06, 8.369444071106687e-06, 8.359781019265972e-06, 8.350959113275833e-06, 8.342998846145911e-06, 8.335920042136422e-06, 8.329741795947648e-06, 8.32448241111264e-06, 8.320159337683286e-06, 8.316789109311502e-06, 8.314387279837174e-06, 8.312968359505896e-06, 8.312545750950805e-06, 8.313131685082328e-06, 8.314737157041723e-06, 8.317371862383187e-06, 8.321044133660423e-06, 8.32576087760207e-06, 8.331527513070255e-06, 8.33834791000415e-06, 8.346224329559046e-06, 8.355157365657884e-06, 8.365145888178591e-06, 8.37618698800637e-06, 8.388275924184014e-06, 8.401406073397331e-06, 8.415568882035029e-06, 8.430753821063773e-06, 8.446948343959683e-06, 8.464137847936388e-06, 8.48230563870784e-06, 8.501432899020803e-06, 8.521498661187169e-06, 8.542479783840946e-06, 8.564350933136964e-06, 8.587084568600735e-06, 8.610650933828747e-06, 8.63501805222796e-06, 8.66015172797089e-06, 8.68601555232957e-06, 8.712570915537123e-06, 8.739777024310223e-06, 8.76759092514866e-06, 8.795967533510971e-06, 8.824859668946317e-06, 8.854218096243033e-06, 8.883991572634058e-06, 8.914126901078692e-06, 8.944568989617666e-06, 8.975260916777067e-06, 9.006144002973323e-06, 9.037157887848744e-06, 9.068240613443556e-06, 9.099328713087308e-06, 9.13035730586864e-06, 9.161260196519249e-06, 9.191969980525063e-06, 9.222418154254089e-06, 9.252535229868981e-06, 9.282250854769706e-06, 9.311493935291298e-06, 9.340192764360938e-06, 9.368275152799346e-06, 9.395668563933184e-06, 9.42230025116775e-06, 9.448097398153328e-06, 9.472987261163776e-06, 9.49689731329262e-06, 9.519755390060046e-06, 9.54148983601411e-06, 9.562029651900438e-06, 9.58130464196817e-06, 9.599245560974308e-06, 9.615784260445477e-06, 9.630853833754108e-06, 9.644388759566713e-06, 9.656325043223496e-06, 9.666600355612832e-06, 9.675154169109483e-06, 9.681927890153455e-06, 9.686864988055404e-06, 9.689911119625693e-06, 9.691014249237406e-06, 9.69012476394752e-06, 9.687195583317295e-06, 9.682182263590027e-06, 9.67504309590378e-06, 9.66573919823698e-06, 9.654234600806707e-06, 9.64049632466213e-06, 9.624494453239943e-06, 9.606202196672892e-06, 9.58559594866906e-06, 9.562655335805076e-06, 9.537363259104095e-06, 9.509705927796572e-06, 9.479672885189278e-06, 9.447257026596561e-06, 9.412454609315118e-06, 9.37526525465178e-06, 9.335691942041358e-06, 9.293740995318895e-06, 9.249422061237241e-06, 9.202748080347515e-06, 9.153735250384971e-06, 9.102402982327841e-06, 9.04877384932035e-06, 8.99287352867347e-06, 8.934730737179086e-06, 8.874377159992922e-06, 8.811847373361194e-06, 8.747178761483117e-06, 8.680411427817892e-06, 8.61158810115943e-06, 8.540754036815181e-06, 8.467956913237234e-06, 8.393246724463565e-06, 8.316675668735903e-06, 8.238298033667584e-06, 8.158170078339259e-06, 8.076349912704648e-06, 7.992897374689723e-06, 7.907873905369372e-06, 7.82134242260419e-06, 7.733367193517275e-06, 7.64401370618681e-06, 7.5533485409242845e-06, 7.461439241501376e-06, 7.3683541866803895e-06, 7.2741624623930844e-06, 7.178933734902782e-06, 7.082738125272319e-06, 6.985646085447997e-06, 6.887728276256221e-06, 6.78905544759466e-06, 6.689698321085292e-06, 6.589727475440325e-06, 6.4892132347762456e-06, 6.388225560094266e-06, 6.286833944128379e-06, 6.185107309745252e-06, 6.083113912062244e-06, 5.980921244432739e-06, 5.878595948430195e-06, 5.776203727944799e-06, 5.673809267489786e-06, 5.571476154796694e-06, 5.469266807762847e-06, 5.36724240579749e-06, 5.265462825597253e-06, 5.1639865813664065e-06, 5.062870769481975e-06, 4.96217101759023e-06, 4.86194143810671e-06, 4.7622345860794904e-06, 4.663101421363105e-06, 4.5645912750386096e-06, 4.466751820005193e-06, 4.369629045658094e-06, 4.2732672365589845e-06, 4.17770895499612e-06, 4.082995027324254e-06, 3.989164533967465e-06, 3.896254802961876e-06, 3.804301406910274e-06, 3.7133381632159897e-06, 3.6233971374596594e-06, 3.5345086497797507e-06], \"yaxis\": \"y\"}],\n",
              "                        {\"barmode\": \"overlay\", \"hovermode\": \"closest\", \"legend\": {\"traceorder\": \"reversed\"}, \"template\": {\"data\": {\"bar\": [{\"error_x\": {\"color\": \"#2a3f5f\"}, \"error_y\": {\"color\": \"#2a3f5f\"}, \"marker\": {\"line\": {\"color\": \"#E5ECF6\", \"width\": 0.5}}, \"type\": \"bar\"}], \"barpolar\": [{\"marker\": {\"line\": {\"color\": \"#E5ECF6\", \"width\": 0.5}}, \"type\": \"barpolar\"}], \"carpet\": [{\"aaxis\": {\"endlinecolor\": \"#2a3f5f\", \"gridcolor\": \"white\", \"linecolor\": \"white\", \"minorgridcolor\": \"white\", \"startlinecolor\": \"#2a3f5f\"}, \"baxis\": {\"endlinecolor\": \"#2a3f5f\", \"gridcolor\": \"white\", \"linecolor\": \"white\", \"minorgridcolor\": \"white\", \"startlinecolor\": \"#2a3f5f\"}, \"type\": \"carpet\"}], \"choropleth\": [{\"colorbar\": {\"outlinewidth\": 0, \"ticks\": \"\"}, \"type\": \"choropleth\"}], \"contour\": [{\"colorbar\": {\"outlinewidth\": 0, \"ticks\": \"\"}, \"colorscale\": [[0.0, \"#0d0887\"], [0.1111111111111111, \"#46039f\"], [0.2222222222222222, \"#7201a8\"], [0.3333333333333333, \"#9c179e\"], [0.4444444444444444, \"#bd3786\"], [0.5555555555555556, \"#d8576b\"], [0.6666666666666666, \"#ed7953\"], [0.7777777777777778, \"#fb9f3a\"], [0.8888888888888888, \"#fdca26\"], [1.0, \"#f0f921\"]], \"type\": \"contour\"}], \"contourcarpet\": [{\"colorbar\": {\"outlinewidth\": 0, \"ticks\": \"\"}, \"type\": \"contourcarpet\"}], \"heatmap\": [{\"colorbar\": {\"outlinewidth\": 0, \"ticks\": \"\"}, \"colorscale\": [[0.0, \"#0d0887\"], [0.1111111111111111, \"#46039f\"], [0.2222222222222222, \"#7201a8\"], [0.3333333333333333, \"#9c179e\"], [0.4444444444444444, \"#bd3786\"], [0.5555555555555556, \"#d8576b\"], [0.6666666666666666, \"#ed7953\"], [0.7777777777777778, \"#fb9f3a\"], [0.8888888888888888, \"#fdca26\"], [1.0, \"#f0f921\"]], \"type\": \"heatmap\"}], \"heatmapgl\": [{\"colorbar\": {\"outlinewidth\": 0, \"ticks\": \"\"}, \"colorscale\": [[0.0, \"#0d0887\"], [0.1111111111111111, \"#46039f\"], [0.2222222222222222, \"#7201a8\"], [0.3333333333333333, \"#9c179e\"], [0.4444444444444444, \"#bd3786\"], [0.5555555555555556, \"#d8576b\"], [0.6666666666666666, \"#ed7953\"], [0.7777777777777778, \"#fb9f3a\"], [0.8888888888888888, \"#fdca26\"], [1.0, \"#f0f921\"]], \"type\": \"heatmapgl\"}], \"histogram\": [{\"marker\": {\"colorbar\": {\"outlinewidth\": 0, \"ticks\": \"\"}}, \"type\": \"histogram\"}], \"histogram2d\": [{\"colorbar\": {\"outlinewidth\": 0, \"ticks\": \"\"}, \"colorscale\": [[0.0, \"#0d0887\"], [0.1111111111111111, \"#46039f\"], [0.2222222222222222, \"#7201a8\"], [0.3333333333333333, \"#9c179e\"], [0.4444444444444444, \"#bd3786\"], [0.5555555555555556, \"#d8576b\"], [0.6666666666666666, \"#ed7953\"], [0.7777777777777778, \"#fb9f3a\"], [0.8888888888888888, \"#fdca26\"], [1.0, \"#f0f921\"]], \"type\": \"histogram2d\"}], \"histogram2dcontour\": [{\"colorbar\": {\"outlinewidth\": 0, \"ticks\": \"\"}, \"colorscale\": [[0.0, \"#0d0887\"], [0.1111111111111111, \"#46039f\"], [0.2222222222222222, \"#7201a8\"], [0.3333333333333333, \"#9c179e\"], [0.4444444444444444, \"#bd3786\"], [0.5555555555555556, \"#d8576b\"], [0.6666666666666666, \"#ed7953\"], [0.7777777777777778, \"#fb9f3a\"], [0.8888888888888888, \"#fdca26\"], [1.0, \"#f0f921\"]], \"type\": \"histogram2dcontour\"}], \"mesh3d\": [{\"colorbar\": {\"outlinewidth\": 0, \"ticks\": \"\"}, \"type\": \"mesh3d\"}], \"parcoords\": [{\"line\": {\"colorbar\": {\"outlinewidth\": 0, \"ticks\": \"\"}}, \"type\": \"parcoords\"}], \"pie\": [{\"automargin\": true, \"type\": \"pie\"}], \"scatter\": [{\"marker\": {\"colorbar\": {\"outlinewidth\": 0, \"ticks\": \"\"}}, \"type\": \"scatter\"}], \"scatter3d\": [{\"line\": {\"colorbar\": {\"outlinewidth\": 0, \"ticks\": \"\"}}, \"marker\": {\"colorbar\": {\"outlinewidth\": 0, \"ticks\": \"\"}}, \"type\": \"scatter3d\"}], \"scattercarpet\": [{\"marker\": {\"colorbar\": {\"outlinewidth\": 0, \"ticks\": \"\"}}, \"type\": \"scattercarpet\"}], \"scattergeo\": [{\"marker\": {\"colorbar\": {\"outlinewidth\": 0, \"ticks\": \"\"}}, \"type\": \"scattergeo\"}], \"scattergl\": [{\"marker\": {\"colorbar\": {\"outlinewidth\": 0, \"ticks\": \"\"}}, \"type\": \"scattergl\"}], \"scattermapbox\": [{\"marker\": {\"colorbar\": {\"outlinewidth\": 0, \"ticks\": \"\"}}, \"type\": \"scattermapbox\"}], \"scatterpolar\": [{\"marker\": {\"colorbar\": {\"outlinewidth\": 0, \"ticks\": \"\"}}, \"type\": \"scatterpolar\"}], \"scatterpolargl\": [{\"marker\": {\"colorbar\": {\"outlinewidth\": 0, \"ticks\": \"\"}}, \"type\": \"scatterpolargl\"}], \"scatterternary\": [{\"marker\": {\"colorbar\": {\"outlinewidth\": 0, \"ticks\": \"\"}}, \"type\": \"scatterternary\"}], \"surface\": [{\"colorbar\": {\"outlinewidth\": 0, \"ticks\": \"\"}, \"colorscale\": [[0.0, \"#0d0887\"], [0.1111111111111111, \"#46039f\"], [0.2222222222222222, \"#7201a8\"], [0.3333333333333333, \"#9c179e\"], [0.4444444444444444, \"#bd3786\"], [0.5555555555555556, \"#d8576b\"], [0.6666666666666666, \"#ed7953\"], [0.7777777777777778, \"#fb9f3a\"], [0.8888888888888888, \"#fdca26\"], [1.0, \"#f0f921\"]], \"type\": \"surface\"}], \"table\": [{\"cells\": {\"fill\": {\"color\": \"#EBF0F8\"}, \"line\": {\"color\": \"white\"}}, \"header\": {\"fill\": {\"color\": \"#C8D4E3\"}, \"line\": {\"color\": \"white\"}}, \"type\": \"table\"}]}, \"layout\": {\"annotationdefaults\": {\"arrowcolor\": \"#2a3f5f\", \"arrowhead\": 0, \"arrowwidth\": 1}, \"coloraxis\": {\"colorbar\": {\"outlinewidth\": 0, \"ticks\": \"\"}}, \"colorscale\": {\"diverging\": [[0, \"#8e0152\"], [0.1, \"#c51b7d\"], [0.2, \"#de77ae\"], [0.3, \"#f1b6da\"], [0.4, \"#fde0ef\"], [0.5, \"#f7f7f7\"], [0.6, \"#e6f5d0\"], [0.7, \"#b8e186\"], [0.8, \"#7fbc41\"], [0.9, \"#4d9221\"], [1, \"#276419\"]], \"sequential\": [[0.0, \"#0d0887\"], [0.1111111111111111, \"#46039f\"], [0.2222222222222222, \"#7201a8\"], [0.3333333333333333, \"#9c179e\"], [0.4444444444444444, \"#bd3786\"], [0.5555555555555556, \"#d8576b\"], [0.6666666666666666, \"#ed7953\"], [0.7777777777777778, \"#fb9f3a\"], [0.8888888888888888, \"#fdca26\"], [1.0, \"#f0f921\"]], \"sequentialminus\": [[0.0, \"#0d0887\"], [0.1111111111111111, \"#46039f\"], [0.2222222222222222, \"#7201a8\"], [0.3333333333333333, \"#9c179e\"], [0.4444444444444444, \"#bd3786\"], [0.5555555555555556, \"#d8576b\"], [0.6666666666666666, \"#ed7953\"], [0.7777777777777778, \"#fb9f3a\"], [0.8888888888888888, \"#fdca26\"], [1.0, \"#f0f921\"]]}, \"colorway\": [\"#636efa\", \"#EF553B\", \"#00cc96\", \"#ab63fa\", \"#FFA15A\", \"#19d3f3\", \"#FF6692\", \"#B6E880\", \"#FF97FF\", \"#FECB52\"], \"font\": {\"color\": \"#2a3f5f\"}, \"geo\": {\"bgcolor\": \"white\", \"lakecolor\": \"white\", \"landcolor\": \"#E5ECF6\", \"showlakes\": true, \"showland\": true, \"subunitcolor\": \"white\"}, \"hoverlabel\": {\"align\": \"left\"}, \"hovermode\": \"closest\", \"mapbox\": {\"style\": \"light\"}, \"paper_bgcolor\": \"white\", \"plot_bgcolor\": \"#E5ECF6\", \"polar\": {\"angularaxis\": {\"gridcolor\": \"white\", \"linecolor\": \"white\", \"ticks\": \"\"}, \"bgcolor\": \"#E5ECF6\", \"radialaxis\": {\"gridcolor\": \"white\", \"linecolor\": \"white\", \"ticks\": \"\"}}, \"scene\": {\"xaxis\": {\"backgroundcolor\": \"#E5ECF6\", \"gridcolor\": \"white\", \"gridwidth\": 2, \"linecolor\": \"white\", \"showbackground\": true, \"ticks\": \"\", \"zerolinecolor\": \"white\"}, \"yaxis\": {\"backgroundcolor\": \"#E5ECF6\", \"gridcolor\": \"white\", \"gridwidth\": 2, \"linecolor\": \"white\", \"showbackground\": true, \"ticks\": \"\", \"zerolinecolor\": \"white\"}, \"zaxis\": {\"backgroundcolor\": \"#E5ECF6\", \"gridcolor\": \"white\", \"gridwidth\": 2, \"linecolor\": \"white\", \"showbackground\": true, \"ticks\": \"\", \"zerolinecolor\": \"white\"}}, \"shapedefaults\": {\"line\": {\"color\": \"#2a3f5f\"}}, \"ternary\": {\"aaxis\": {\"gridcolor\": \"white\", \"linecolor\": \"white\", \"ticks\": \"\"}, \"baxis\": {\"gridcolor\": \"white\", \"linecolor\": \"white\", \"ticks\": \"\"}, \"bgcolor\": \"#E5ECF6\", \"caxis\": {\"gridcolor\": \"white\", \"linecolor\": \"white\", \"ticks\": \"\"}}, \"title\": {\"x\": 0.05}, \"xaxis\": {\"automargin\": true, \"gridcolor\": \"white\", \"linecolor\": \"white\", \"ticks\": \"\", \"title\": {\"standoff\": 15}, \"zerolinecolor\": \"white\", \"zerolinewidth\": 2}, \"yaxis\": {\"automargin\": true, \"gridcolor\": \"white\", \"linecolor\": \"white\", \"ticks\": \"\", \"title\": {\"standoff\": 15}, \"zerolinecolor\": \"white\", \"zerolinewidth\": 2}}}, \"title\": {\"text\": \"Credit Card Transactions Time Density Plot\"}, \"xaxis\": {\"anchor\": \"y2\", \"domain\": [0.0, 1.0], \"title\": {\"text\": \"Time [s]\"}, \"zeroline\": false}, \"yaxis\": {\"anchor\": \"free\", \"domain\": [0.0, 1], \"position\": 0.0}},\n",
              "                        {\"responsive\": true}\n",
              "                    ).then(function(){\n",
              "                            \n",
              "var gd = document.getElementById('d65824f3-9c2a-4c94-9919-11a9a15e67e6');\n",
              "var x = new MutationObserver(function (mutations, observer) {{\n",
              "        var display = window.getComputedStyle(gd).display;\n",
              "        if (!display || display === 'none') {{\n",
              "            console.log([gd, 'removed!']);\n",
              "            Plotly.purge(gd);\n",
              "            observer.disconnect();\n",
              "        }}\n",
              "}});\n",
              "\n",
              "// Listen for the removal of the full notebook cells\n",
              "var notebookContainer = gd.closest('#notebook-container');\n",
              "if (notebookContainer) {{\n",
              "    x.observe(notebookContainer, {childList: true});\n",
              "}}\n",
              "\n",
              "// Listen for the clearing of the current output cell\n",
              "var outputEl = gd.closest('.output');\n",
              "if (outputEl) {{\n",
              "    x.observe(outputEl, {childList: true});\n",
              "}}\n",
              "\n",
              "                        })\n",
              "                };\n",
              "                });\n",
              "            </script>\n",
              "        </div>"
            ],
            "application/vnd.plotly.v1+json": {
              "data": [
                {
                  "showlegend": true,
                  "legendgroup": "Not Fraud",
                  "name": "Not Fraud",
                  "yaxis": "y",
                  "y": [
                    0.0000034732183011290385,
                    0.0000037132248131293783,
                    0.00000394212562962608,
                    0.000004156630450115312,
                    0.000004353704116723349,
                    0.000004530655006087705,
                    0.000004685210602111162,
                    0.000004815577387454126,
                    0.00000492048311736413,
                    0.0000049992005160056295,
                    0.000005051552389005671,
                    0.000005077899012526585,
                    0.000005079109389989082,
                    0.000005056518531707952,
                    0.00000501187329752551,
                    0.000004947269551716685,
                    0.000004865083429431746,
                    0.000004767899429492047,
                    0.000004658437858031304,
                    0.000004539483879817573,
                    0.000004413820114893223,
                    0.000004284164369117324,
                    0.0000041531137257649595,
                    0.000004023095865641316,
                    0.000003896328137253801,
                    0.000003774784577694331,
                    0.000003660170800210818,
                    0.0000035539064271263863,
                    0.0000034571145670193186,
                    0.000003370617720688499,
                    0.000003294939454880976,
                    0.000003230311203506838,
                    0.000003176683633424725,
                    0.00000313374212890951,
                    0.0000031009260825514284,
                    0.000003077451803780365,
                    0.0000030623389423115378,
                    0.0000030544403490398928,
                    0.0000030524752452968464,
                    0.000003055065437759226,
                    0.0000030607741082707626,
                    0.000003068146445997943,
                    0.000003075751105559233,
                    0.000003082221208591801,
                    0.0000030862933998410955,
                    0.000003086843361229639,
                    0.0000030829162083320764,
                    0.0000030737503590092036,
                    0.0000030587937719812286,
                    0.0000030377118837385663,
                    0.0000030103870883214945,
                    0.000002976910156054129,
                    0.0000029375645171196662,
                    0.0000028928047868155948,
                    0.0000028432312318057,
                    0.0000027895620351378398,
                    0.0000027326051955958654,
                    0.0000026732316988074906,
                    0.0000026123512490796726,
                    0.000002550891395598598,
                    0.0000024897803801264775,
                    0.0000024299335366153117,
                    0.000002372242644811851,
                    0.000002317567328928004,
                    0.0000022667274323558417,
                    0.0000022204953046229937,
                    0.0000021795871013403535,
                    0.0000021446524967704663,
                    0.0000021162626013816274,
                    0.000002094896312765439,
                    0.0000020809257531582677,
                    0.000002074601808683716,
                    0.0000020760410408876316,
                    0.0000020852153596831243,
                    0.0000021019458137794137,
                    0.0000021259016721163675,
                    0.000002156605655696169,
                    0.000002193445764718701,
                    0.00000223569367179399,
                    0.000002282529163824279,
                    0.0000023330696585728933,
                    0.000002386403438081184,
                    0.0000024416249626425746,
                    0.0000024978704774076467,
                    0.0000025543521074653206,
                    0.00000261038875201421,
                    0.000002665432317767251,
                    0.0000027190881502853763,
                    0.0000027711288974748155,
                    0.000002821501437355629,
                    0.0000028703268888920515,
                    0.000002917894071146569,
                    0.0000029646470603918866,
                    0.000003011167703949396,
                    0.0000030581540794867625,
                    0.000003106395943890144,
                    0.0000031567482080735154,
                    0.000003210103419140369,
                    0.0000032673641469202674,
                    0.0000033294160749885598,
                    0.000003397102500723201,
                    0.0000034712008640569584,
                    0.0000035524018543556507,
                    0.0000036412915881507165,
                    0.0000037383373018599866,
                    0.00000384387695486679,
                    0.000003958113079949634,
                    0.000004081111141161556,
                    0.000004212802556985739,
                    0.000004352992415232581,
                    0.000004501371745788128,
                    0.000004657534032054033,
                    0.0000048209954395608054,
                    0.0000049912180317971415,
                    0.000005167635042180258,
                    0.000005349677092170909,
                    0.00000553679810416202,
                    0.000005728499568738836,
                    0.0000059243518024000755,
                    0.00000612401088432997,
                    0.000006327230096034844,
                    0.000006533864907516453,
                    0.000006743870854364658,
                    0.000006957294021590588,
                    0.000007174254275472718,
                    0.000007394921841122209,
                    0.000007619488282450311,
                    0.0000078481333704783,
                    0.000008080989691615916,
                    0.00000831810711694594,
                    0.000008559419398184195,
                    0.000008804715154567484,
                    0.000009053615356136434,
                    0.000009305559093388255,
                    0.000009559798964773862,
                    0.00000981540683860036,
                    0.000010071290092626706,
                    0.00001032621774982907,
                    0.000010578855264296958,
                    0.00001082780611935466,
                    0.000011071657928863438,
                    0.000011309030421444079,
                    0.000011538622562473835,
                    0.000011759256141003282,
                    0.0000119699134122079,
                    0.000012169766818169126,
                    0.000012358199373771162,
                    0.0000125348149524852,
                    0.000012699438384663436,
                    0.000012852105933463107,
                    0.000012993047289605582,
                    0.000013122660683656127,
                    0.000013241483023723006,
                    0.000013350157112525983,
                    0.00001344939798116677,
                    0.000013539960212530592,
                    0.000013622607841911549,
                    0.000013698088051513348,
                    0.000013767109458635378,
                    0.000013830325374483561,
                    0.000013888322017843903,
                    0.000013941611334775423,
                    0.000013990627822667497,
                    0.00001403572859540251,
                    0.000014077195857376459,
                    0.000014115240970763657,
                    0.000014150009389061706,
                    0.000014181585872584222,
                    0.000014209999577958303,
                    0.000014235228803489349,
                    0.000014257205356705559,
                    0.000014275818673504401,
                    0.000014290919947619973,
                    0.00001430232661593419,
                    0.00001430982758452822,
                    0.000014313189570851906,
                    0.000014312164880640024,
                    0.00001430650083865573,
                    0.000014295950956896178,
                    0.000014280287761676874,
                    0.00001425931702313323,
                    0.000014232892949940051,
                    0.000014200933742494818,
                    0.000014163436754060953,
                    0.000014120492405707096,
                    0.000014072295950107496,
                    0.000014019156191397526,
                    0.00001396150034921018,
                    0.00001389987440539814,
                    0.000013834938486369189,
                    0.000013767457100741798,
                    0.000013698284353628846,
                    0.000013628344573070029,
                    0.00001355860908591553,
                    0.000013490070144302372,
                    0.00001342371320639875,
                    0.000013360488897676338,
                    0.00001330128600984459,
                    0.000013246906830334646,
                    0.000013198045941322269,
                    0.00001315527339757527,
                    0.000013119022907608835,
                    0.000013089585327974327,
                    0.00001306710746291296,
                    0.0000130515958666842,
                    0.000013042925095201323,
                    0.000013040849662615343,
                    0.000013045018835303942,
                    0.000013054993340989752,
                    0.000013070263078448622,
                    0.000013090264972545765,
                    0.000013114400216477289,
                    0.00001314205026401439,
                    0.000013172591066851034,
                    0.000013205405186640938,
                    0.000013239891542657465,
                    0.000013275472682584637,
                    0.000013311599586781848,
                    0.000013347754137571405,
                    0.00001338344950604039,
                    0.000013418228828470601,
                    0.000013451662658190451,
                    0.000013483345777857049,
                    0.000013512894030120274,
                    0.000013539941857744725,
                    0.0000135641412245352,
                    0.000013585162505920808,
                    0.000013602697788557792,
                    0.000013616466805206743,
                    0.000013626225466483277,
                    0.00001363177665538058,
                    0.000013632982651138291,
                    0.000013629778277680922,
                    0.000013622183660605146,
                    0.000013610315354182963,
                    0.000013594394587270443,
                    0.000013574751484949717,
                    0.000013551824349126801,
                    0.000013526153410971784,
                    0.000013498368873844637,
                    0.000013469173510718869,
                    0.000013439320523206238,
                    0.000013409587767430123,
                    0.000013380749766519079,
                    0.000013353549130038447,
                    0.000013328669068531928,
                    0.000013306708621373745,
                    0.000013288162017114057,
                    0.000013273403278849801,
                    0.000013262676804234314,
                    0.000013256094228131797,
                    0.000013253637455132035,
                    0.00001325516736627098,
                    0.000013260437390208233,
                    0.00001326911090545941,
                    0.000013280781317808166,
                    0.000013294993635149012,
                    0.00001331126642975946,
                    0.000013329113216051,
                    0.00001334806245543467,
                    0.0000133676756021705,
                    0.00001338756279931146,
                    0.000013407396000703709,
                    0.000013426919418617208,
                    0.000013445957270024729,
                    0.000013464418819156007,
                    0.000013482300698636083,
                    0.00001349968645119005,
                    0.00001351674318725082,
                    0.000013533715220704251,
                    0.000013550914543807012,
                    0.000013568708047445515,
                    0.000013587501492911726,
                    0.000013607720397632958,
                    0.000013629788203508709,
                    0.000013654102338980907,
                    0.000013681009044623088,
                    0.000013710778082088976,
                    0.00001374357866035902,
                    0.000013779458063924525,
                    0.000013818324529947744,
                    0.000013859935875743165,
                    0.000013903895211807367,
                    0.000013949654786120205,
                    0.000013996528600245316,
                    0.000014043713935709944,
                    0.000014090321359751141,
                    0.000014135412181445258,
                    0.000014178041747758022,
                    0.000014217306452539876,
                    0.000014252391927228991,
                    0.000014282619631659267,
                    0.000014307488998468164,
                    0.000014326712422808916,
                    0.000014340240731391765,
                    0.000014348277294432186,
                    0.00001435127962666968,
                    0.000014349948110105092,
                    0.000014345202301491442,
                    0.000014338146096415888,
                    0.000014330023744166504,
                    0.000014322169285437892,
                    0.000014315952372632076,
                    0.000014312723601100001,
                    0.000014313762419490649,
                    0.000014320230408669381,
                    0.000014333132250126833,
                    0.000014353286090307905,
                    0.000014381304301247457,
                    0.00001441758489970808,
                    0.000014462313175353046,
                    0.000014515472445997587,
                    0.00001457686234692642,
                    0.000014646122700544608,
                    0.000014722760816382714,
                    0.000014806180039297076,
                    0.000014895707482294276,
                    0.000014990619126356354,
                    0.000015090160812911078,
                    0.00001519356406219975,
                    0.000015300056090264048,
                    0.00001540886383941197,
                    0.000015519212257779903,
                    0.000015630317444868858,
                    0.00001574137560928452,
                    0.00001585154905457081,
                    0.000015959950614252592,
                    0.000016065628094561546,
                    0.000016167550349233636,
                    0.00001626459660066618,
                    0.00001635555053006192,
                    0.00001643910048037448,
                    0.00001651384684602525,
                    0.0000165783173626137,
                    0.000016630990564727965,
                    0.000016670327165454404,
                    0.000016694808551839,
                    0.000016702981020374148,
                    0.000016693503837389247,
                    0.000016665198747488706,
                    0.00001661709821563143,
                    0.00001654848951685191,
                    0.000016458951813468368,
                    0.00001634838359936974,
                    0.000016217018342643733,
                    0.00001606542679944517,
                    0.00001589450526236751,
                    0.00001570544988811395,
                    0.000015499718153091487,
                    0.000015278979337955778,
                    0.000015045056671787464,
                    0.000014799864311677425,
                    0.000014545342647963013,
                    0.000014283395483423744,
                    0.00001401583243341647,
                    0.00001374431945307692,
                    0.000013470339757890136,
                    0.000013195166622169399,
                    0.000012919848684118998,
                    0.000012645207528280852,
                    0.000012371846525887187,
                    0.000012100169251837693,
                    0.000011830405310604855,
                    0.000011562641121572434,
                    0.000011296853146722322,
                    0.000011032941180096004,
                    0.000010770759631095943,
                    0.000010510145180062468,
                    0.00001025093971262411,
                    0.00000999300799295573,
                    0.000009736250060915403,
                    0.000009480608786902446,
                    0.00000922607335571122,
                    0.000008972679655948019,
                    0.000008720508620060451,
                    0.000008469683502445782,
                    0.000008220366923200893,
                    0.000007972758275742358,
                    0.000007727091835060434,
                    0.00000748363564650008,
                    0.000007242691054306295,
                    0.000007004592567754708,
                    0.000006769707672897424,
                    0.000006538436181149414,
                    0.000006311208753616516,
                    0.000006088484336264159,
                    0.000005870746365522761,
                    0.000005658497735603822,
                    0.000005452254638712071,
                    0.0000052525394829809564,
                    0.0000050598731515709715,
                    0.000004874766887165659,
                    0.000004697714071600778,
                    0.000004529182127123761,
                    0.000004369604702826148,
                    0.000004219374237127094,
                    0.000004078834914595019,
                    0.000003948275971681299,
                    0.0000038279252585647196,
                    0.00000371794293930754,
                    0.0000036184152145382825,
                    0.0000035293479830355846,
                    0.000003450660422201706,
                    0.00000338217856138005,
                    0.0000033236290420161804,
                    0.0000032746333966320983,
                    0.000003234703322038842,
                    0.0000032032375546150477,
                    0.0000031795210571799367,
                    0.000003162727277086312,
                    0.0000031519242141365754,
                    0.00000314608492977786,
                    0.0000031441029284432923,
                    0.0000031448125509265595,
                    0.000003147014153364737,
                    0.0000031495034309657332,
                    0.000003151103820773162,
                    0.000003150700527337157,
                    0.0000031472744061644477,
                    0.000003139933755587289,
                    0.000003127942041830234,
                    0.000003110739733111821,
                    0.0000030879587462732736,
                    0.0000030594284929205604,
                    0.0000030251731112668673,
                    0.000002985400128986779,
                    0.000002940481456033297,
                    0.000002890928187095612,
                    0.0000028373611399350514,
                    0.000002780479320824611,
                    0.0000027210285642628328,
                    0.0000026597724371191977,
                    0.000002597467147664278,
                    0.0000025348416995214204,
                    0.000002472583937883137,
                    0.0000024113325179480588,
                    0.00000235167425181162,
                    0.0000022941458208256458,
                    0.0000022392385219178127,
                    0.000002187404575020786,
                    0.0000021390635590060123,
                    0.0000020946077481508917,
                    0.000002054405454560873,
                    0.0000020188018953568366,
                    0.0000019881175415716643,
                    0.000001962644313886848,
                    0.000001942640320996362,
                    0.0000019283240542782127,
                    0.000001919869038087317,
                    0.000001917399885838092,
                    0.0000019209905416931756,
                    0.0000019306652230391598,
                    0.0000019464022561783752,
                    0.000001968140657335039,
                    0.000001995788993073664,
                    0.000002029235793304471,
                    0.0000020683606122026275,
                    0.000002113044752527102,
                    0.0000021631806899638723,
                    0.000002218679347761009,
                    0.0000022794745598956582,
                    0.000002345524298152204,
                    0.0000024168084959622463,
                    0.0000024933235506956974,
                    0.0000025750738005858884,
                    0.000002662060433045882,
                    0.0000027542683764538446,
                    0.0000028516517555751245,
                    0.0000029541184590537484,
                    0.0000030615142915510594,
                    0.0000031736070850487863,
                    0.0000032900710487792407,
                    0.00000341047157026545,
                    0.0000035342506623599006,
                    0.000003660713297135951,
                    0.000003789014981325088,
                    0.0000039181511024704445,
                    0.000004046948790958501,
                    0.0000041740622707657645,
                    0.0000042979728732902235,
                    0.000004416995022291453,
                    0.000004529289523150907,
                    0.000004632885372486048,
                    0.000004725711022732191,
                    0.000004805635585253157,
                    0.000004870519848868583,
                    0.000004918276262663874,
                    0.0000049469362356005754,
                    0.000004954722308620662,
                    0.000004940122034258846,
                    0.000004901959831995582,
                    0.000004839462745167118,
                    0.000004752315962136465,
                    0.00000464070421295823,
                    0.000004505335717682925,
                    0.000004347446218669347,
                    0.000004168781722870788,
                    0.000003971559832369698,
                    0.000003758410856031833,
                    0.0000035323011669130624
                  ],
                  "mode": "lines",
                  "xaxis": "x",
                  "marker": {
                    "color": "rgb(31, 119, 180)"
                  },
                  "x": [
                    0,
                    230.422,
                    460.844,
                    691.266,
                    921.688,
                    1152.11,
                    1382.532,
                    1612.954,
                    1843.376,
                    2073.798,
                    2304.22,
                    2534.642,
                    2765.064,
                    2995.486,
                    3225.908,
                    3456.33,
                    3686.752,
                    3917.174,
                    4147.596,
                    4378.018,
                    4608.44,
                    4838.862,
                    5069.284,
                    5299.706,
                    5530.128,
                    5760.55,
                    5990.972,
                    6221.394,
                    6451.816,
                    6682.238,
                    6912.66,
                    7143.082,
                    7373.504,
                    7603.926,
                    7834.348,
                    8064.77,
                    8295.192,
                    8525.614,
                    8756.036,
                    8986.458,
                    9216.88,
                    9447.302,
                    9677.724,
                    9908.146,
                    10138.568,
                    10368.99,
                    10599.412,
                    10829.834,
                    11060.256,
                    11290.678,
                    11521.1,
                    11751.522,
                    11981.944,
                    12212.366,
                    12442.788,
                    12673.21,
                    12903.632,
                    13134.054,
                    13364.476,
                    13594.898,
                    13825.32,
                    14055.742,
                    14286.164,
                    14516.586,
                    14747.008,
                    14977.43,
                    15207.852,
                    15438.274,
                    15668.696,
                    15899.118,
                    16129.54,
                    16359.962,
                    16590.384,
                    16820.806,
                    17051.228,
                    17281.65,
                    17512.072,
                    17742.494,
                    17972.916,
                    18203.338,
                    18433.76,
                    18664.182,
                    18894.604,
                    19125.026,
                    19355.448,
                    19585.87,
                    19816.292,
                    20046.714,
                    20277.136,
                    20507.558,
                    20737.98,
                    20968.402,
                    21198.824,
                    21429.246,
                    21659.668,
                    21890.09,
                    22120.512,
                    22350.934,
                    22581.356,
                    22811.778,
                    23042.2,
                    23272.622,
                    23503.044,
                    23733.466,
                    23963.888,
                    24194.31,
                    24424.732,
                    24655.154,
                    24885.576,
                    25115.998,
                    25346.42,
                    25576.842,
                    25807.264,
                    26037.686,
                    26268.108,
                    26498.53,
                    26728.952,
                    26959.374,
                    27189.796,
                    27420.218,
                    27650.64,
                    27881.062,
                    28111.484,
                    28341.906,
                    28572.328,
                    28802.75,
                    29033.172,
                    29263.594,
                    29494.016,
                    29724.438,
                    29954.86,
                    30185.282,
                    30415.704,
                    30646.126,
                    30876.548,
                    31106.97,
                    31337.392,
                    31567.814,
                    31798.236,
                    32028.658,
                    32259.08,
                    32489.502,
                    32719.924,
                    32950.346,
                    33180.768,
                    33411.19,
                    33641.612,
                    33872.034,
                    34102.456,
                    34332.878,
                    34563.3,
                    34793.722,
                    35024.144,
                    35254.566,
                    35484.988,
                    35715.41,
                    35945.832,
                    36176.254,
                    36406.676,
                    36637.098,
                    36867.52,
                    37097.942,
                    37328.364,
                    37558.786,
                    37789.208,
                    38019.63,
                    38250.052,
                    38480.474,
                    38710.896,
                    38941.318,
                    39171.74,
                    39402.162,
                    39632.584,
                    39863.006,
                    40093.428,
                    40323.85,
                    40554.272,
                    40784.694,
                    41015.116,
                    41245.538,
                    41475.96,
                    41706.382,
                    41936.804,
                    42167.226,
                    42397.648,
                    42628.07,
                    42858.492,
                    43088.914,
                    43319.336,
                    43549.758,
                    43780.18,
                    44010.602,
                    44241.024,
                    44471.446,
                    44701.868,
                    44932.29,
                    45162.712,
                    45393.134,
                    45623.556,
                    45853.978,
                    46084.4,
                    46314.822,
                    46545.244,
                    46775.666,
                    47006.088,
                    47236.51,
                    47466.932,
                    47697.354,
                    47927.776,
                    48158.198,
                    48388.62,
                    48619.042,
                    48849.464,
                    49079.886,
                    49310.308,
                    49540.73,
                    49771.152,
                    50001.574,
                    50231.996,
                    50462.418,
                    50692.84,
                    50923.262,
                    51153.684,
                    51384.106,
                    51614.528,
                    51844.95,
                    52075.372,
                    52305.794,
                    52536.216,
                    52766.638,
                    52997.06,
                    53227.482,
                    53457.904,
                    53688.326,
                    53918.748,
                    54149.17,
                    54379.592,
                    54610.014,
                    54840.436,
                    55070.858,
                    55301.28,
                    55531.702,
                    55762.124,
                    55992.546,
                    56222.968,
                    56453.39,
                    56683.812,
                    56914.234,
                    57144.656,
                    57375.078,
                    57605.5,
                    57835.922,
                    58066.344,
                    58296.766,
                    58527.188,
                    58757.61,
                    58988.032,
                    59218.454,
                    59448.876,
                    59679.298,
                    59909.72,
                    60140.142,
                    60370.564,
                    60600.986,
                    60831.408,
                    61061.83,
                    61292.252,
                    61522.674,
                    61753.096,
                    61983.518,
                    62213.94,
                    62444.362,
                    62674.784,
                    62905.206,
                    63135.628,
                    63366.05,
                    63596.472,
                    63826.894,
                    64057.316,
                    64287.738,
                    64518.16,
                    64748.582,
                    64979.004,
                    65209.426,
                    65439.848,
                    65670.27,
                    65900.692,
                    66131.114,
                    66361.536,
                    66591.958,
                    66822.38,
                    67052.802,
                    67283.224,
                    67513.646,
                    67744.068,
                    67974.49,
                    68204.912,
                    68435.334,
                    68665.756,
                    68896.178,
                    69126.6,
                    69357.022,
                    69587.444,
                    69817.866,
                    70048.288,
                    70278.71,
                    70509.132,
                    70739.554,
                    70969.976,
                    71200.398,
                    71430.82,
                    71661.242,
                    71891.664,
                    72122.086,
                    72352.508,
                    72582.93,
                    72813.352,
                    73043.774,
                    73274.196,
                    73504.618,
                    73735.04,
                    73965.462,
                    74195.884,
                    74426.306,
                    74656.728,
                    74887.15,
                    75117.572,
                    75347.994,
                    75578.416,
                    75808.838,
                    76039.26,
                    76269.682,
                    76500.104,
                    76730.526,
                    76960.948,
                    77191.37,
                    77421.792,
                    77652.214,
                    77882.636,
                    78113.058,
                    78343.48,
                    78573.902,
                    78804.324,
                    79034.746,
                    79265.168,
                    79495.59,
                    79726.012,
                    79956.434,
                    80186.856,
                    80417.278,
                    80647.7,
                    80878.122,
                    81108.544,
                    81338.966,
                    81569.388,
                    81799.81,
                    82030.232,
                    82260.654,
                    82491.076,
                    82721.498,
                    82951.92,
                    83182.342,
                    83412.764,
                    83643.186,
                    83873.608,
                    84104.03,
                    84334.452,
                    84564.874,
                    84795.296,
                    85025.718,
                    85256.14,
                    85486.562,
                    85716.984,
                    85947.406,
                    86177.828,
                    86408.25,
                    86638.672,
                    86869.094,
                    87099.516,
                    87329.938,
                    87560.36,
                    87790.782,
                    88021.204,
                    88251.626,
                    88482.048,
                    88712.47,
                    88942.892,
                    89173.314,
                    89403.736,
                    89634.158,
                    89864.58,
                    90095.002,
                    90325.424,
                    90555.846,
                    90786.268,
                    91016.69,
                    91247.112,
                    91477.534,
                    91707.956,
                    91938.378,
                    92168.8,
                    92399.222,
                    92629.644,
                    92860.066,
                    93090.488,
                    93320.91,
                    93551.332,
                    93781.754,
                    94012.176,
                    94242.598,
                    94473.02,
                    94703.442,
                    94933.864,
                    95164.286,
                    95394.708,
                    95625.13,
                    95855.552,
                    96085.974,
                    96316.396,
                    96546.818,
                    96777.24,
                    97007.662,
                    97238.084,
                    97468.506,
                    97698.928,
                    97929.35,
                    98159.772,
                    98390.194,
                    98620.616,
                    98851.038,
                    99081.46,
                    99311.882,
                    99542.304,
                    99772.726,
                    100003.148,
                    100233.57,
                    100463.992,
                    100694.414,
                    100924.836,
                    101155.258,
                    101385.68,
                    101616.102,
                    101846.524,
                    102076.946,
                    102307.368,
                    102537.79,
                    102768.212,
                    102998.634,
                    103229.056,
                    103459.478,
                    103689.9,
                    103920.322,
                    104150.744,
                    104381.166,
                    104611.588,
                    104842.01,
                    105072.432,
                    105302.854,
                    105533.276,
                    105763.698,
                    105994.12,
                    106224.542,
                    106454.964,
                    106685.386,
                    106915.808,
                    107146.23,
                    107376.652,
                    107607.074,
                    107837.496,
                    108067.918,
                    108298.34,
                    108528.762,
                    108759.184,
                    108989.606,
                    109220.028,
                    109450.45,
                    109680.872,
                    109911.294,
                    110141.716,
                    110372.138,
                    110602.56,
                    110832.982,
                    111063.404,
                    111293.826,
                    111524.248,
                    111754.67,
                    111985.092,
                    112215.514,
                    112445.936,
                    112676.358,
                    112906.78,
                    113137.202,
                    113367.624,
                    113598.046,
                    113828.468,
                    114058.89,
                    114289.312,
                    114519.734,
                    114750.156,
                    114980.578
                  ],
                  "type": "scatter"
                },
                {
                  "showlegend": true,
                  "legendgroup": "Fraud",
                  "name": "Fraud",
                  "yaxis": "y",
                  "y": [
                    0.000003269230734809342,
                    0.0000033478951589037682,
                    0.0000034269933912420734,
                    0.00000350647477946781,
                    0.0000035862877541100255,
                    0.000003666379929670401,
                    0.000003746698209519798,
                    0.000003827188894315363,
                    0.000003907797793630271,
                    0.0000039884703404702545,
                    0.00000406915170833465,
                    0.000004149786930463655,
                    0.0000042303210209000085,
                    0.000004310699096980248,
                    0.00000439086650286005,
                    0.000004470768933668226,
                    0.000004550352559876965,
                    0.000004629564151469261,
                    0.000004708351201481162,
                    0.000004786662048493652,
                    0.000004864445997649267,
                    0.000004941653439769919,
                    0.000005018235968156425,
                    0.000005094146492655543,
                    0.000005169339350588248,
                    0.0000052437704141425354,
                    0.000005317397193845411,
                    0.000005390178937742256,
                    0.000005462076725927003,
                    0.000005533053560083356,
                    0.00000560307444771628,
                    0.000005672106480772904,
                    0.000005740118908374154,
                    0.000005807083203401288,
                    0.0000058729731227062815,
                    0.000005937764760740455,
                    0.000006001436596422525,
                    0.00000606396953309499,
                    0.000006125346931445751,
                    0.000006185554635301353,
                    0.000006244580990227083,
                    0.000006302416854899364,
                    0.000006359055605245566,
                    0.000006414493131375805,
                    0.000006468727827361913,
                    0.000006521760573946779,
                    0.0000065735947142973375,
                    0.000006624236022941458,
                    0.000006673692668057196,
                    0.000006721975167308732,
                    0.000006769096337448556,
                    0.000006815071237929575,
                    0.00000685991710879344,
                    0.000006903653303122143,
                    0.000006946301214359898,
                    0.000006987884198829434,
                    0.00000702842749378337,
                    0.000007067958131344916,
                    0.000007106504848704222,
                    0.000007144097994946997,
                    0.000007180769434899673,
                    0.000007216552450381027,
                    0.000007251481639254607,
                    0.000007285592812676772,
                    0.000007318922890935666,
                    0.0000073515097982729,
                    0.0000073833923570751975,
                    0.000007414610181817012,
                    0.00000744520357312506,
                    0.000007475213412326613,
                    0.000007504681056829498,
                    0.000007533648236668295,
                    0.000007562156952535359,
                    0.0000075902493755974935,
                    0.000007617967749380957,
                    0.00000764535429398708,
                    0.000007672451112879985,
                    0.000007699300102465953,
                    0.000007725942864660789,
                    0.000007752420622618832,
                    0.000007778774139772703,
                    0.000007805043642309224,
                    0.000007831268745182246,
                    0.000007857488381739399,
                    0.000007883740737015056,
                    0.00000791006318471887,
                    0.000007936492227925613,
                    0.000007963063443449887,
                    0.000007989811429867618,
                    0.000008016769759125804,
                    0.000008043970931662388,
                    0.000008071446334940434,
                    0.000008099226205283334,
                    0.000008127339592883343,
                    0.000008155814329841698,
                    0.00000818467700108655,
                    0.000008213952918005445,
                    0.000008243666094620137,
                    0.000008273839226125124,
                    0.000008304493669607926,
                    0.000008335649426764899,
                    0.00000836732512842723,
                    0.000008399538020712655,
                    0.00000843230395262124,
                    0.000008465637364899847,
                    0.000008499551280005763,
                    0.00000853405729300959,
                    0.000008569165563287425,
                    0.000008604884806864596,
                    0.00000864122228928666,
                    0.000008678183818908214,
                    0.000008715773740506104,
                    0.000008753994929140765,
                    0.000008792848784207334,
                    0.000008832335223637363,
                    0.000008872452678230759,
                    0.000008913198086118052,
                    0.000008954566887372476,
                    0.00000899655301881206,
                    0.00000903914890905139,
                    0.00000908234547388271,
                    0.000009126132112084944,
                    0.000009170496701777685,
                    0.000009215425597455169,
                    0.000009260903627851056,
                    0.000009306914094800794,
                    0.000009353438773282329,
                    0.00000940045791282771,
                    0.000009447950240509567,
                    0.00000949589296571538,
                    0.000009544261786928773,
                    0.000009593030900743264,
                    0.000009642173013335804,
                    0.000009691659354628807,
                    0.000009741459695367638,
                    0.000009791542367336887,
                    0.000009841874286932553,
                    0.000009892420982299195,
                    0.000009943146624229942,
                    0.00000999401406101505,
                    0.000010044984857408815,
                    0.000010096019337868124,
                    0.000010147076634195974,
                    0.000010198114737702632,
                    0.000010249090555973484,
                    0.000010299959974308244,
                    0.00001035067792186979,
                    0.000010401198442553039,
                    0.000010451474770555762,
                    0.000010501459410602894,
                    0.000010551104222745727,
                    0.000010600360511625918,
                    0.000010649179120062272,
                    0.000010697510526787462,
                    0.000010745304948129028,
                    0.000010792512443398553,
                    0.000010839083023721772,
                    0.000010884966764012421,
                    0.000010930113917763705,
                    0.000010974475034303741,
                    0.00001101800107813469,
                    0.000011060643549951267,
                    0.00001110235460891142,
                    0.000011143087195711123,
                    0.000011182795155997847,
                    0.000011221433363640081,
                    0.00001125895784335838,
                    0.000011295325892211952,
                    0.000011330496199427189,
                    0.000011364428964050047,
                    0.000011397086009902667,
                    0.000011428430897324694,
                    0.000011458429031185728,
                    0.000011487047764661467,
                    0.000011514256498278304,
                    0.00001154002677374255,
                    0.000011564332362089966,
                    0.000011587149345708554,
                    0.00001160845619381177,
                    0.000011628233830964009,
                    0.000011646465698287792,
                    0.00001166313780701383,
                    0.000011678238784066065,
                    0.00001169175990941033,
                    0.00001170369514493099,
                    0.000011714041154638806,
                    0.000011722797316053186,
                    0.000011729965722642551,
                    0.000011735551177250417,
                    0.000011739561176474875,
                    0.000011742005886015481,
                    0.000011742898107042996,
                    0.00001174225323369161,
                    0.000011740089201816446,
                    0.000011736426429202043,
                    0.000011731287747447765,
                    0.000011724698325798676,
                    0.000011716685587227845,
                    0.000011707279117114532,
                    0.000011696510564898095,
                    0.000011684413539121538,
                    0.000011671023496309525,
                    0.000011656377624154929,
                    0.000011640514719514818,
                    0.000011623475061739611,
                    0.000011605300281880443,
                    0.000011586033228337513,
                    0.000011565717829526609,
                    0.000011544398954152866,
                    0.000011522122269688492,
                    0.000011498934099656729,
                    0.00001147488128032636,
                    0.000011450011017418354,
                    0.000011424370743423262,
                    0.000011398007976118396,
                    0.00001137097017886452,
                    0.000011343304623246515,
                    0.000011315058254606542,
                    0.00001128627756099825,
                    0.000011257008446068593,
                    0.000011227296106349253,
                    0.000011197184913412678,
                    0.000011166718301318815,
                    0.000011135938659747771,
                    0.000011104887233181462,
                    0.000011073604026462545,
                    0.000011042127717024833,
                    0.000011010495574051903,
                    0.000010978743384784569,
                    0.000010946905388160062,
                    0.00001091501421592743,
                    0.000010883100841346389,
                    0.000010851194535538179,
                    0.000010819322831520428,
                    0.000010787511495919903,
                    0.000010755784508322106,
                    0.000010724164048180282,
                    0.000010692670489173172,
                    0.000010661322400867764,
                    0.000010630136557511894,
                    0.000010599127953752423,
                    0.000010568309827046347,
                    0.000010537693686506775,
                    0.000010507289347901373,
                    0.000010477104974499506,
                    0.000010447147123444195,
                    0.00001041742079730811,
                    0.000010387929500477501,
                    0.000010358675299995046,
                    0.000010329658890482389,
                    0.000010300879662754932,
                    0.000010272335775735605,
                    0.000010244024231270684,
                    0.00001021594095144962,
                    0.000010188080858031506,
                    0.000010160437953583785,
                    0.000010133005403943903,
                    0.000010105775621621318,
                    0.00001007874034976593,
                    0.000010051890746339692,
                    0.00001002521746813978,
                    0.000009998710754335363,
                    0.000009972360509194712,
                    0.00000994615638369533,
                    0.000009920087855726708,
                    0.00000989414430861344,
                    0.000009868315107704586,
                    0.000009842589674795104,
                    0.000009816957560164225,
                    0.000009791408512036232,
                    0.000009765932543288942,
                    0.000009740519995255622,
                    0.00000971516159848636,
                    0.000009689848530354824,
                    0.000009664572469415718,
                    0.000009639325646437957,
                    0.000009614100892056843,
                    0.000009588891681006495,
                    0.000009563692172911447,
                    0.000009538497249632157,
                    0.000009513302549175027,
                    0.000009488104496192133,
                    0.000009462900329109136,
                    0.000009437688123932253,
                    0.000009412466814796881,
                    0.000009387236211330105,
                    0.00000936199701290882,
                    0.000009336750819902665,
                    0.000009311500141997878,
                    0.000009286248403703716,
                    0.000009260999947147109,
                    0.000009235760032264941,
                    0.000009210534834505197,
                    0.000009185331440149051,
                    0.00000916015783936698,
                    0.000009135022917119477,
                    0.000009109936442013145,
                    0.00000908490905321843,
                    0.000009059952245553017,
                    0.000009035078352830415,
                    0.000009010300529568094,
                    0.000008985632731145018,
                    0.00000896108969249173,
                    0.000008936686905390306,
                    0.000008912440594455055,
                    0.00000888836769185762,
                    0.000008864485810853567,
                    0.000008840813218159936,
                    0.000008817368805226956,
                    0.000008794172058439039,
                    0.000008771243028274396,
                    0.000008748602297445064,
                    0.000008726270948033254,
                    0.00000870427052763379,
                    0.000008682623014506712,
                    0.000008661350781739094,
                    0.000008640476560410407,
                    0.000008620023401751774,
                    0.000008600014638286152,
                    0.000008580473843933411,
                    0.000008561424793062606,
                    0.000008542891418472116,
                    0.000008524897768277801,
                    0.000008507467961689662,
                    0.000008490626143658035,
                    0.000008474396438372788,
                    0.000008458802901600458,
                    0.000008443869471848874,
                    0.000008429619920351531,
                    0.000008416077799869923,
                    0.00000840326639231671,
                    0.00000839120865520972,
                    0.000008379927166972598,
                    0.000008369444071106687,
                    0.000008359781019265972,
                    0.000008350959113275833,
                    0.000008342998846145911,
                    0.000008335920042136422,
                    0.000008329741795947648,
                    0.00000832448241111264,
                    0.000008320159337683286,
                    0.000008316789109311502,
                    0.000008314387279837174,
                    0.000008312968359505896,
                    0.000008312545750950805,
                    0.000008313131685082328,
                    0.000008314737157041723,
                    0.000008317371862383187,
                    0.000008321044133660423,
                    0.00000832576087760207,
                    0.000008331527513070255,
                    0.00000833834791000415,
                    0.000008346224329559046,
                    0.000008355157365657884,
                    0.000008365145888178591,
                    0.00000837618698800637,
                    0.000008388275924184014,
                    0.000008401406073397331,
                    0.000008415568882035029,
                    0.000008430753821063773,
                    0.000008446948343959683,
                    0.000008464137847936388,
                    0.00000848230563870784,
                    0.000008501432899020803,
                    0.000008521498661187169,
                    0.000008542479783840946,
                    0.000008564350933136964,
                    0.000008587084568600735,
                    0.000008610650933828747,
                    0.00000863501805222796,
                    0.00000866015172797089,
                    0.00000868601555232957,
                    0.000008712570915537123,
                    0.000008739777024310223,
                    0.00000876759092514866,
                    0.000008795967533510971,
                    0.000008824859668946317,
                    0.000008854218096243033,
                    0.000008883991572634058,
                    0.000008914126901078692,
                    0.000008944568989617666,
                    0.000008975260916777067,
                    0.000009006144002973323,
                    0.000009037157887848744,
                    0.000009068240613443556,
                    0.000009099328713087308,
                    0.00000913035730586864,
                    0.000009161260196519249,
                    0.000009191969980525063,
                    0.000009222418154254089,
                    0.000009252535229868981,
                    0.000009282250854769706,
                    0.000009311493935291298,
                    0.000009340192764360938,
                    0.000009368275152799346,
                    0.000009395668563933184,
                    0.00000942230025116775,
                    0.000009448097398153328,
                    0.000009472987261163776,
                    0.00000949689731329262,
                    0.000009519755390060046,
                    0.00000954148983601411,
                    0.000009562029651900438,
                    0.00000958130464196817,
                    0.000009599245560974308,
                    0.000009615784260445477,
                    0.000009630853833754108,
                    0.000009644388759566713,
                    0.000009656325043223496,
                    0.000009666600355612832,
                    0.000009675154169109483,
                    0.000009681927890153455,
                    0.000009686864988055404,
                    0.000009689911119625693,
                    0.000009691014249237406,
                    0.00000969012476394752,
                    0.000009687195583317295,
                    0.000009682182263590027,
                    0.00000967504309590378,
                    0.00000966573919823698,
                    0.000009654234600806707,
                    0.00000964049632466213,
                    0.000009624494453239943,
                    0.000009606202196672892,
                    0.00000958559594866906,
                    0.000009562655335805076,
                    0.000009537363259104095,
                    0.000009509705927796572,
                    0.000009479672885189278,
                    0.000009447257026596561,
                    0.000009412454609315118,
                    0.00000937526525465178,
                    0.000009335691942041358,
                    0.000009293740995318895,
                    0.000009249422061237241,
                    0.000009202748080347515,
                    0.000009153735250384971,
                    0.000009102402982327841,
                    0.00000904877384932035,
                    0.00000899287352867347,
                    0.000008934730737179086,
                    0.000008874377159992922,
                    0.000008811847373361194,
                    0.000008747178761483117,
                    0.000008680411427817892,
                    0.00000861158810115943,
                    0.000008540754036815181,
                    0.000008467956913237234,
                    0.000008393246724463565,
                    0.000008316675668735903,
                    0.000008238298033667584,
                    0.000008158170078339259,
                    0.000008076349912704648,
                    0.000007992897374689723,
                    0.000007907873905369372,
                    0.00000782134242260419,
                    0.000007733367193517275,
                    0.00000764401370618681,
                    0.0000075533485409242845,
                    0.000007461439241501376,
                    0.0000073683541866803895,
                    0.0000072741624623930844,
                    0.000007178933734902782,
                    0.000007082738125272319,
                    0.000006985646085447997,
                    0.000006887728276256221,
                    0.00000678905544759466,
                    0.000006689698321085292,
                    0.000006589727475440325,
                    0.0000064892132347762456,
                    0.000006388225560094266,
                    0.000006286833944128379,
                    0.000006185107309745252,
                    0.000006083113912062244,
                    0.000005980921244432739,
                    0.000005878595948430195,
                    0.000005776203727944799,
                    0.000005673809267489786,
                    0.000005571476154796694,
                    0.000005469266807762847,
                    0.00000536724240579749,
                    0.000005265462825597253,
                    0.0000051639865813664065,
                    0.000005062870769481975,
                    0.00000496217101759023,
                    0.00000486194143810671,
                    0.0000047622345860794904,
                    0.000004663101421363105,
                    0.0000045645912750386096,
                    0.000004466751820005193,
                    0.000004369629045658094,
                    0.0000042732672365589845,
                    0.00000417770895499612,
                    0.000004082995027324254,
                    0.000003989164533967465,
                    0.000003896254802961876,
                    0.000003804301406910274,
                    0.0000037133381632159897,
                    0.0000036233971374596594,
                    0.0000035345086497797507
                  ],
                  "mode": "lines",
                  "xaxis": "x",
                  "marker": {
                    "color": "rgb(255, 127, 14)"
                  },
                  "x": [
                    406,
                    626.422,
                    846.844,
                    1067.266,
                    1287.688,
                    1508.11,
                    1728.532,
                    1948.954,
                    2169.376,
                    2389.798,
                    2610.22,
                    2830.642,
                    3051.064,
                    3271.486,
                    3491.908,
                    3712.33,
                    3932.752,
                    4153.174,
                    4373.596,
                    4594.018,
                    4814.44,
                    5034.862,
                    5255.284,
                    5475.706,
                    5696.128,
                    5916.55,
                    6136.972,
                    6357.394,
                    6577.816,
                    6798.238,
                    7018.66,
                    7239.082,
                    7459.504,
                    7679.926,
                    7900.348,
                    8120.77,
                    8341.192,
                    8561.614,
                    8782.036,
                    9002.458,
                    9222.88,
                    9443.302,
                    9663.724,
                    9884.146,
                    10104.568,
                    10324.99,
                    10545.412,
                    10765.834,
                    10986.256,
                    11206.678,
                    11427.1,
                    11647.522,
                    11867.944,
                    12088.366,
                    12308.788,
                    12529.21,
                    12749.632,
                    12970.054,
                    13190.476,
                    13410.898,
                    13631.32,
                    13851.742,
                    14072.164,
                    14292.586,
                    14513.008,
                    14733.43,
                    14953.852,
                    15174.274,
                    15394.696,
                    15615.118,
                    15835.54,
                    16055.962,
                    16276.384,
                    16496.806,
                    16717.228,
                    16937.65,
                    17158.072,
                    17378.494,
                    17598.916,
                    17819.338,
                    18039.76,
                    18260.182,
                    18480.604,
                    18701.026,
                    18921.448,
                    19141.87,
                    19362.292,
                    19582.714,
                    19803.136,
                    20023.558,
                    20243.98,
                    20464.402,
                    20684.824,
                    20905.246,
                    21125.668,
                    21346.09,
                    21566.512,
                    21786.934,
                    22007.356,
                    22227.778,
                    22448.2,
                    22668.622,
                    22889.044,
                    23109.466,
                    23329.888,
                    23550.31,
                    23770.732,
                    23991.154,
                    24211.576,
                    24431.998,
                    24652.42,
                    24872.842,
                    25093.264,
                    25313.686,
                    25534.108,
                    25754.53,
                    25974.952,
                    26195.374,
                    26415.796,
                    26636.218,
                    26856.64,
                    27077.062,
                    27297.484,
                    27517.906,
                    27738.328,
                    27958.75,
                    28179.172,
                    28399.594,
                    28620.016,
                    28840.438,
                    29060.86,
                    29281.282,
                    29501.704,
                    29722.126,
                    29942.548,
                    30162.97,
                    30383.392,
                    30603.814,
                    30824.236,
                    31044.658,
                    31265.08,
                    31485.502,
                    31705.924,
                    31926.346,
                    32146.768,
                    32367.19,
                    32587.612,
                    32808.034,
                    33028.456,
                    33248.878,
                    33469.3,
                    33689.722,
                    33910.144,
                    34130.566,
                    34350.988,
                    34571.41,
                    34791.832,
                    35012.254,
                    35232.676,
                    35453.098,
                    35673.52,
                    35893.942,
                    36114.364,
                    36334.786,
                    36555.208,
                    36775.63,
                    36996.052,
                    37216.474,
                    37436.896,
                    37657.318,
                    37877.74,
                    38098.162,
                    38318.584,
                    38539.006,
                    38759.428,
                    38979.85,
                    39200.272,
                    39420.694,
                    39641.116,
                    39861.538,
                    40081.96,
                    40302.382,
                    40522.804,
                    40743.226,
                    40963.648,
                    41184.07,
                    41404.492,
                    41624.914,
                    41845.336,
                    42065.758,
                    42286.18,
                    42506.602,
                    42727.024,
                    42947.446,
                    43167.868,
                    43388.29,
                    43608.712,
                    43829.134,
                    44049.556,
                    44269.978,
                    44490.4,
                    44710.822,
                    44931.244,
                    45151.666,
                    45372.088,
                    45592.51,
                    45812.932,
                    46033.354,
                    46253.776,
                    46474.198,
                    46694.62,
                    46915.042,
                    47135.464,
                    47355.886,
                    47576.308,
                    47796.73,
                    48017.152,
                    48237.574,
                    48457.996,
                    48678.418,
                    48898.84,
                    49119.262,
                    49339.684,
                    49560.106,
                    49780.528,
                    50000.95,
                    50221.372,
                    50441.794,
                    50662.216,
                    50882.638,
                    51103.06,
                    51323.482,
                    51543.904,
                    51764.326,
                    51984.748,
                    52205.17,
                    52425.592,
                    52646.014,
                    52866.436,
                    53086.858,
                    53307.28,
                    53527.702,
                    53748.124,
                    53968.546,
                    54188.968,
                    54409.39,
                    54629.812,
                    54850.234,
                    55070.656,
                    55291.078,
                    55511.5,
                    55731.922,
                    55952.344,
                    56172.766,
                    56393.188,
                    56613.61,
                    56834.032,
                    57054.454,
                    57274.876,
                    57495.298,
                    57715.72,
                    57936.142,
                    58156.564,
                    58376.986,
                    58597.408,
                    58817.83,
                    59038.252,
                    59258.674,
                    59479.096,
                    59699.518,
                    59919.94,
                    60140.362,
                    60360.784,
                    60581.206,
                    60801.628,
                    61022.05,
                    61242.472,
                    61462.894,
                    61683.316,
                    61903.738,
                    62124.16,
                    62344.582,
                    62565.004,
                    62785.426,
                    63005.848,
                    63226.27,
                    63446.692,
                    63667.114,
                    63887.536,
                    64107.958,
                    64328.38,
                    64548.802,
                    64769.224,
                    64989.646,
                    65210.068,
                    65430.49,
                    65650.912,
                    65871.334,
                    66091.756,
                    66312.178,
                    66532.6,
                    66753.022,
                    66973.444,
                    67193.866,
                    67414.288,
                    67634.71,
                    67855.132,
                    68075.554,
                    68295.976,
                    68516.398,
                    68736.82,
                    68957.242,
                    69177.664,
                    69398.086,
                    69618.508,
                    69838.93,
                    70059.352,
                    70279.774,
                    70500.196,
                    70720.618,
                    70941.04,
                    71161.462,
                    71381.884,
                    71602.306,
                    71822.728,
                    72043.15,
                    72263.572,
                    72483.994,
                    72704.416,
                    72924.838,
                    73145.26,
                    73365.682,
                    73586.104,
                    73806.526,
                    74026.948,
                    74247.37,
                    74467.792,
                    74688.214,
                    74908.636,
                    75129.058,
                    75349.48,
                    75569.902,
                    75790.324,
                    76010.746,
                    76231.168,
                    76451.59,
                    76672.012,
                    76892.434,
                    77112.856,
                    77333.278,
                    77553.7,
                    77774.122,
                    77994.544,
                    78214.966,
                    78435.388,
                    78655.81,
                    78876.232,
                    79096.654,
                    79317.076,
                    79537.498,
                    79757.92,
                    79978.342,
                    80198.764,
                    80419.186,
                    80639.608,
                    80860.03,
                    81080.452,
                    81300.874,
                    81521.296,
                    81741.718,
                    81962.14,
                    82182.562,
                    82402.984,
                    82623.406,
                    82843.828,
                    83064.25,
                    83284.672,
                    83505.094,
                    83725.516,
                    83945.938,
                    84166.36,
                    84386.782,
                    84607.204,
                    84827.626,
                    85048.048,
                    85268.47,
                    85488.892,
                    85709.314,
                    85929.736,
                    86150.158,
                    86370.58,
                    86591.002,
                    86811.424,
                    87031.846,
                    87252.268,
                    87472.69,
                    87693.112,
                    87913.534,
                    88133.956,
                    88354.378,
                    88574.8,
                    88795.222,
                    89015.644,
                    89236.066,
                    89456.488,
                    89676.91,
                    89897.332,
                    90117.754,
                    90338.176,
                    90558.598,
                    90779.02,
                    90999.442,
                    91219.864,
                    91440.286,
                    91660.708,
                    91881.13,
                    92101.552,
                    92321.974,
                    92542.396,
                    92762.818,
                    92983.24,
                    93203.662,
                    93424.084,
                    93644.506,
                    93864.928,
                    94085.35,
                    94305.772,
                    94526.194,
                    94746.616,
                    94967.038,
                    95187.46,
                    95407.882,
                    95628.304,
                    95848.726,
                    96069.148,
                    96289.57,
                    96509.992,
                    96730.414,
                    96950.836,
                    97171.258,
                    97391.68,
                    97612.102,
                    97832.524,
                    98052.946,
                    98273.368,
                    98493.79,
                    98714.212,
                    98934.634,
                    99155.056,
                    99375.478,
                    99595.9,
                    99816.322,
                    100036.744,
                    100257.166,
                    100477.588,
                    100698.01,
                    100918.432,
                    101138.854,
                    101359.276,
                    101579.698,
                    101800.12,
                    102020.542,
                    102240.964,
                    102461.386,
                    102681.808,
                    102902.23,
                    103122.652,
                    103343.074,
                    103563.496,
                    103783.918,
                    104004.34,
                    104224.762,
                    104445.184,
                    104665.606,
                    104886.028,
                    105106.45,
                    105326.872,
                    105547.294,
                    105767.716,
                    105988.138,
                    106208.56,
                    106428.982,
                    106649.404,
                    106869.826,
                    107090.248,
                    107310.67,
                    107531.092,
                    107751.514,
                    107971.936,
                    108192.358,
                    108412.78,
                    108633.202,
                    108853.624,
                    109074.046,
                    109294.468,
                    109514.89,
                    109735.312,
                    109955.734,
                    110176.156,
                    110396.578
                  ],
                  "type": "scatter"
                }
              ],
              "config": {
                "plotlyServerURL": "https://plot.ly",
                "linkText": "Export to plot.ly",
                "showLink": false
              },
              "layout": {
                "template": {
                  "layout": {
                    "shapedefaults": {
                      "line": {
                        "color": "#2a3f5f"
                      }
                    },
                    "polar": {
                      "radialaxis": {
                        "ticks": "",
                        "gridcolor": "white",
                        "linecolor": "white"
                      },
                      "bgcolor": "#E5ECF6",
                      "angularaxis": {
                        "ticks": "",
                        "gridcolor": "white",
                        "linecolor": "white"
                      }
                    },
                    "colorway": [
                      "#636efa",
                      "#EF553B",
                      "#00cc96",
                      "#ab63fa",
                      "#FFA15A",
                      "#19d3f3",
                      "#FF6692",
                      "#B6E880",
                      "#FF97FF",
                      "#FECB52"
                    ],
                    "xaxis": {
                      "automargin": true,
                      "title": {
                        "standoff": 15
                      },
                      "zerolinewidth": 2,
                      "ticks": "",
                      "zerolinecolor": "white",
                      "gridcolor": "white",
                      "linecolor": "white"
                    },
                    "colorscale": {
                      "diverging": [
                        [
                          0,
                          "#8e0152"
                        ],
                        [
                          0.1,
                          "#c51b7d"
                        ],
                        [
                          0.2,
                          "#de77ae"
                        ],
                        [
                          0.3,
                          "#f1b6da"
                        ],
                        [
                          0.4,
                          "#fde0ef"
                        ],
                        [
                          0.5,
                          "#f7f7f7"
                        ],
                        [
                          0.6,
                          "#e6f5d0"
                        ],
                        [
                          0.7,
                          "#b8e186"
                        ],
                        [
                          0.8,
                          "#7fbc41"
                        ],
                        [
                          0.9,
                          "#4d9221"
                        ],
                        [
                          1,
                          "#276419"
                        ]
                      ],
                      "sequential": [
                        [
                          0,
                          "#0d0887"
                        ],
                        [
                          0.1111111111111111,
                          "#46039f"
                        ],
                        [
                          0.2222222222222222,
                          "#7201a8"
                        ],
                        [
                          0.3333333333333333,
                          "#9c179e"
                        ],
                        [
                          0.4444444444444444,
                          "#bd3786"
                        ],
                        [
                          0.5555555555555556,
                          "#d8576b"
                        ],
                        [
                          0.6666666666666666,
                          "#ed7953"
                        ],
                        [
                          0.7777777777777778,
                          "#fb9f3a"
                        ],
                        [
                          0.8888888888888888,
                          "#fdca26"
                        ],
                        [
                          1,
                          "#f0f921"
                        ]
                      ],
                      "sequentialminus": [
                        [
                          0,
                          "#0d0887"
                        ],
                        [
                          0.1111111111111111,
                          "#46039f"
                        ],
                        [
                          0.2222222222222222,
                          "#7201a8"
                        ],
                        [
                          0.3333333333333333,
                          "#9c179e"
                        ],
                        [
                          0.4444444444444444,
                          "#bd3786"
                        ],
                        [
                          0.5555555555555556,
                          "#d8576b"
                        ],
                        [
                          0.6666666666666666,
                          "#ed7953"
                        ],
                        [
                          0.7777777777777778,
                          "#fb9f3a"
                        ],
                        [
                          0.8888888888888888,
                          "#fdca26"
                        ],
                        [
                          1,
                          "#f0f921"
                        ]
                      ]
                    },
                    "paper_bgcolor": "white",
                    "plot_bgcolor": "#E5ECF6",
                    "title": {
                      "x": 0.05
                    },
                    "scene": {
                      "zaxis": {
                        "backgroundcolor": "#E5ECF6",
                        "ticks": "",
                        "gridwidth": 2,
                        "showbackground": true,
                        "zerolinecolor": "white",
                        "gridcolor": "white",
                        "linecolor": "white"
                      },
                      "xaxis": {
                        "backgroundcolor": "#E5ECF6",
                        "ticks": "",
                        "gridwidth": 2,
                        "showbackground": true,
                        "zerolinecolor": "white",
                        "gridcolor": "white",
                        "linecolor": "white"
                      },
                      "yaxis": {
                        "backgroundcolor": "#E5ECF6",
                        "ticks": "",
                        "gridwidth": 2,
                        "showbackground": true,
                        "zerolinecolor": "white",
                        "gridcolor": "white",
                        "linecolor": "white"
                      }
                    },
                    "yaxis": {
                      "automargin": true,
                      "title": {
                        "standoff": 15
                      },
                      "zerolinewidth": 2,
                      "ticks": "",
                      "zerolinecolor": "white",
                      "gridcolor": "white",
                      "linecolor": "white"
                    },
                    "annotationdefaults": {
                      "arrowwidth": 1,
                      "arrowhead": 0,
                      "arrowcolor": "#2a3f5f"
                    },
                    "hoverlabel": {
                      "align": "left"
                    },
                    "ternary": {
                      "bgcolor": "#E5ECF6",
                      "baxis": {
                        "ticks": "",
                        "gridcolor": "white",
                        "linecolor": "white"
                      },
                      "caxis": {
                        "ticks": "",
                        "gridcolor": "white",
                        "linecolor": "white"
                      },
                      "aaxis": {
                        "ticks": "",
                        "gridcolor": "white",
                        "linecolor": "white"
                      }
                    },
                    "mapbox": {
                      "style": "light"
                    },
                    "hovermode": "closest",
                    "font": {
                      "color": "#2a3f5f"
                    },
                    "geo": {
                      "showland": true,
                      "landcolor": "#E5ECF6",
                      "showlakes": true,
                      "bgcolor": "white",
                      "subunitcolor": "white",
                      "lakecolor": "white"
                    },
                    "coloraxis": {
                      "colorbar": {
                        "outlinewidth": 0,
                        "ticks": ""
                      }
                    }
                  },
                  "data": {
                    "mesh3d": [
                      {
                        "colorbar": {
                          "outlinewidth": 0,
                          "ticks": ""
                        },
                        "type": "mesh3d"
                      }
                    ],
                    "scattercarpet": [
                      {
                        "marker": {
                          "colorbar": {
                            "outlinewidth": 0,
                            "ticks": ""
                          }
                        },
                        "type": "scattercarpet"
                      }
                    ],
                    "pie": [
                      {
                        "automargin": true,
                        "type": "pie"
                      }
                    ],
                    "surface": [
                      {
                        "colorbar": {
                          "outlinewidth": 0,
                          "ticks": ""
                        },
                        "type": "surface",
                        "colorscale": [
                          [
                            0,
                            "#0d0887"
                          ],
                          [
                            0.1111111111111111,
                            "#46039f"
                          ],
                          [
                            0.2222222222222222,
                            "#7201a8"
                          ],
                          [
                            0.3333333333333333,
                            "#9c179e"
                          ],
                          [
                            0.4444444444444444,
                            "#bd3786"
                          ],
                          [
                            0.5555555555555556,
                            "#d8576b"
                          ],
                          [
                            0.6666666666666666,
                            "#ed7953"
                          ],
                          [
                            0.7777777777777778,
                            "#fb9f3a"
                          ],
                          [
                            0.8888888888888888,
                            "#fdca26"
                          ],
                          [
                            1,
                            "#f0f921"
                          ]
                        ]
                      }
                    ],
                    "table": [
                      {
                        "header": {
                          "line": {
                            "color": "white"
                          },
                          "fill": {
                            "color": "#C8D4E3"
                          }
                        },
                        "cells": {
                          "line": {
                            "color": "white"
                          },
                          "fill": {
                            "color": "#EBF0F8"
                          }
                        },
                        "type": "table"
                      }
                    ],
                    "scatterpolargl": [
                      {
                        "marker": {
                          "colorbar": {
                            "outlinewidth": 0,
                            "ticks": ""
                          }
                        },
                        "type": "scatterpolargl"
                      }
                    ],
                    "contour": [
                      {
                        "colorbar": {
                          "outlinewidth": 0,
                          "ticks": ""
                        },
                        "type": "contour",
                        "colorscale": [
                          [
                            0,
                            "#0d0887"
                          ],
                          [
                            0.1111111111111111,
                            "#46039f"
                          ],
                          [
                            0.2222222222222222,
                            "#7201a8"
                          ],
                          [
                            0.3333333333333333,
                            "#9c179e"
                          ],
                          [
                            0.4444444444444444,
                            "#bd3786"
                          ],
                          [
                            0.5555555555555556,
                            "#d8576b"
                          ],
                          [
                            0.6666666666666666,
                            "#ed7953"
                          ],
                          [
                            0.7777777777777778,
                            "#fb9f3a"
                          ],
                          [
                            0.8888888888888888,
                            "#fdca26"
                          ],
                          [
                            1,
                            "#f0f921"
                          ]
                        ]
                      }
                    ],
                    "carpet": [
                      {
                        "type": "carpet",
                        "baxis": {
                          "minorgridcolor": "white",
                          "gridcolor": "white",
                          "linecolor": "white",
                          "endlinecolor": "#2a3f5f",
                          "startlinecolor": "#2a3f5f"
                        },
                        "aaxis": {
                          "minorgridcolor": "white",
                          "gridcolor": "white",
                          "linecolor": "white",
                          "endlinecolor": "#2a3f5f",
                          "startlinecolor": "#2a3f5f"
                        }
                      }
                    ],
                    "contourcarpet": [
                      {
                        "colorbar": {
                          "outlinewidth": 0,
                          "ticks": ""
                        },
                        "type": "contourcarpet"
                      }
                    ],
                    "heatmap": [
                      {
                        "colorbar": {
                          "outlinewidth": 0,
                          "ticks": ""
                        },
                        "type": "heatmap",
                        "colorscale": [
                          [
                            0,
                            "#0d0887"
                          ],
                          [
                            0.1111111111111111,
                            "#46039f"
                          ],
                          [
                            0.2222222222222222,
                            "#7201a8"
                          ],
                          [
                            0.3333333333333333,
                            "#9c179e"
                          ],
                          [
                            0.4444444444444444,
                            "#bd3786"
                          ],
                          [
                            0.5555555555555556,
                            "#d8576b"
                          ],
                          [
                            0.6666666666666666,
                            "#ed7953"
                          ],
                          [
                            0.7777777777777778,
                            "#fb9f3a"
                          ],
                          [
                            0.8888888888888888,
                            "#fdca26"
                          ],
                          [
                            1,
                            "#f0f921"
                          ]
                        ]
                      }
                    ],
                    "scattermapbox": [
                      {
                        "marker": {
                          "colorbar": {
                            "outlinewidth": 0,
                            "ticks": ""
                          }
                        },
                        "type": "scattermapbox"
                      }
                    ],
                    "scatter3d": [
                      {
                        "marker": {
                          "colorbar": {
                            "outlinewidth": 0,
                            "ticks": ""
                          }
                        },
                        "line": {
                          "colorbar": {
                            "outlinewidth": 0,
                            "ticks": ""
                          }
                        },
                        "type": "scatter3d"
                      }
                    ],
                    "scattergl": [
                      {
                        "marker": {
                          "colorbar": {
                            "outlinewidth": 0,
                            "ticks": ""
                          }
                        },
                        "type": "scattergl"
                      }
                    ],
                    "scatterternary": [
                      {
                        "marker": {
                          "colorbar": {
                            "outlinewidth": 0,
                            "ticks": ""
                          }
                        },
                        "type": "scatterternary"
                      }
                    ],
                    "histogram": [
                      {
                        "marker": {
                          "colorbar": {
                            "outlinewidth": 0,
                            "ticks": ""
                          }
                        },
                        "type": "histogram"
                      }
                    ],
                    "heatmapgl": [
                      {
                        "colorbar": {
                          "outlinewidth": 0,
                          "ticks": ""
                        },
                        "type": "heatmapgl",
                        "colorscale": [
                          [
                            0,
                            "#0d0887"
                          ],
                          [
                            0.1111111111111111,
                            "#46039f"
                          ],
                          [
                            0.2222222222222222,
                            "#7201a8"
                          ],
                          [
                            0.3333333333333333,
                            "#9c179e"
                          ],
                          [
                            0.4444444444444444,
                            "#bd3786"
                          ],
                          [
                            0.5555555555555556,
                            "#d8576b"
                          ],
                          [
                            0.6666666666666666,
                            "#ed7953"
                          ],
                          [
                            0.7777777777777778,
                            "#fb9f3a"
                          ],
                          [
                            0.8888888888888888,
                            "#fdca26"
                          ],
                          [
                            1,
                            "#f0f921"
                          ]
                        ]
                      }
                    ],
                    "scatterpolar": [
                      {
                        "marker": {
                          "colorbar": {
                            "outlinewidth": 0,
                            "ticks": ""
                          }
                        },
                        "type": "scatterpolar"
                      }
                    ],
                    "histogram2d": [
                      {
                        "colorbar": {
                          "outlinewidth": 0,
                          "ticks": ""
                        },
                        "type": "histogram2d",
                        "colorscale": [
                          [
                            0,
                            "#0d0887"
                          ],
                          [
                            0.1111111111111111,
                            "#46039f"
                          ],
                          [
                            0.2222222222222222,
                            "#7201a8"
                          ],
                          [
                            0.3333333333333333,
                            "#9c179e"
                          ],
                          [
                            0.4444444444444444,
                            "#bd3786"
                          ],
                          [
                            0.5555555555555556,
                            "#d8576b"
                          ],
                          [
                            0.6666666666666666,
                            "#ed7953"
                          ],
                          [
                            0.7777777777777778,
                            "#fb9f3a"
                          ],
                          [
                            0.8888888888888888,
                            "#fdca26"
                          ],
                          [
                            1,
                            "#f0f921"
                          ]
                        ]
                      }
                    ],
                    "scattergeo": [
                      {
                        "marker": {
                          "colorbar": {
                            "outlinewidth": 0,
                            "ticks": ""
                          }
                        },
                        "type": "scattergeo"
                      }
                    ],
                    "bar": [
                      {
                        "marker": {
                          "line": {
                            "color": "#E5ECF6",
                            "width": 0.5
                          }
                        },
                        "type": "bar",
                        "error_x": {
                          "color": "#2a3f5f"
                        },
                        "error_y": {
                          "color": "#2a3f5f"
                        }
                      }
                    ],
                    "choropleth": [
                      {
                        "colorbar": {
                          "outlinewidth": 0,
                          "ticks": ""
                        },
                        "type": "choropleth"
                      }
                    ],
                    "parcoords": [
                      {
                        "line": {
                          "colorbar": {
                            "outlinewidth": 0,
                            "ticks": ""
                          }
                        },
                        "type": "parcoords"
                      }
                    ],
                    "barpolar": [
                      {
                        "marker": {
                          "line": {
                            "color": "#E5ECF6",
                            "width": 0.5
                          }
                        },
                        "type": "barpolar"
                      }
                    ],
                    "histogram2dcontour": [
                      {
                        "colorbar": {
                          "outlinewidth": 0,
                          "ticks": ""
                        },
                        "type": "histogram2dcontour",
                        "colorscale": [
                          [
                            0,
                            "#0d0887"
                          ],
                          [
                            0.1111111111111111,
                            "#46039f"
                          ],
                          [
                            0.2222222222222222,
                            "#7201a8"
                          ],
                          [
                            0.3333333333333333,
                            "#9c179e"
                          ],
                          [
                            0.4444444444444444,
                            "#bd3786"
                          ],
                          [
                            0.5555555555555556,
                            "#d8576b"
                          ],
                          [
                            0.6666666666666666,
                            "#ed7953"
                          ],
                          [
                            0.7777777777777778,
                            "#fb9f3a"
                          ],
                          [
                            0.8888888888888888,
                            "#fdca26"
                          ],
                          [
                            1,
                            "#f0f921"
                          ]
                        ]
                      }
                    ],
                    "scatter": [
                      {
                        "marker": {
                          "colorbar": {
                            "outlinewidth": 0,
                            "ticks": ""
                          }
                        },
                        "type": "scatter"
                      }
                    ]
                  }
                },
                "title": {
                  "text": "Credit Card Transactions Time Density Plot"
                },
                "yaxis": {
                  "position": 0,
                  "domain": [
                    0,
                    1
                  ],
                  "anchor": "free"
                },
                "barmode": "overlay",
                "xaxis": {
                  "zeroline": false,
                  "domain": [
                    0,
                    1
                  ],
                  "anchor": "y2",
                  "title": {
                    "text": "Time [s]"
                  }
                },
                "hovermode": "closest",
                "legend": {
                  "traceorder": "reversed"
                }
              }
            }
          },
          "metadata": {
            "tags": []
          }
        }
      ]
    },
    {
      "cell_type": "markdown",
      "metadata": {
        "id": "rRSjSgVAjAHE",
        "colab_type": "text"
      },
      "source": [
        "**Transactions amount**"
      ]
    },
    {
      "cell_type": "code",
      "metadata": {
        "id": "gSeVMa5BjC8_",
        "colab_type": "code",
        "colab": {
          "base_uri": "https://localhost:8080/",
          "height": 388
        },
        "outputId": "9f9ec3ec-c4b0-48a6-f038-7302a346df05"
      },
      "source": [
        "fig, (ax1, ax2) = plt.subplots(ncols=2, figsize=(12,6))\n",
        "s = sns.boxplot(ax = ax1, x=\"Class\", y=\"Amount\", hue=\"Class\",data=df, palette=\"PRGn\",showfliers=True)\n",
        "s = sns.boxplot(ax = ax2, x=\"Class\", y=\"Amount\", hue=\"Class\",data=df, palette=\"PRGn\",showfliers=False)\n",
        "plt.show();"
      ],
      "execution_count": 37,
      "outputs": [
        {
          "output_type": "display_data",
          "data": {
            "image/png": "[encoded data removed]",
            "text/plain": [
              "<Figure size 864x432 with 2 Axes>"
            ]
          },
          "metadata": {
            "tags": [],
            "needs_background": "light"
          }
        }
      ]
    },
    {
      "cell_type": "code",
      "metadata": {
        "id": "raMn9pozjJFF",
        "colab_type": "code",
        "colab": {
          "base_uri": "https://localhost:8080/",
          "height": 170
        },
        "outputId": "5836618e-6f13-426b-cada-52c8cc9351a3"
      },
      "source": [
        "tmp = df[['Amount','Class']].copy()\n",
        "class_0 = tmp.loc[tmp['Class'] == 0]['Amount']\n",
        "class_1 = tmp.loc[tmp['Class'] == 1]['Amount']\n",
        "class_0.describe()"
      ],
      "execution_count": 38,
      "outputs": [
        {
          "output_type": "execute_result",
          "data": {
            "text/plain": [
              "count    162200.000000\n",
              "mean         86.929842\n",
              "std         244.400180\n",
              "min           0.000000\n",
              "25%           5.380000\n",
              "50%          21.350000\n",
              "75%          76.070000\n",
              "max       19656.530000\n",
              "Name: Amount, dtype: float64"
            ]
          },
          "metadata": {
            "tags": []
          },
          "execution_count": 38
        }
      ]
    },
    {
      "cell_type": "code",
      "metadata": {
        "id": "SD7yGs55jWY-",
        "colab_type": "code",
        "colab": {
          "base_uri": "https://localhost:8080/",
          "height": 170
        },
        "outputId": "cffcb693-d7a3-4b9b-b623-02d71a423f9c"
      },
      "source": [
        "class_1.describe()\n"
      ],
      "execution_count": 39,
      "outputs": [
        {
          "output_type": "execute_result",
          "data": {
            "text/plain": [
              "count     356.000000\n",
              "mean      112.005000\n",
              "std       228.517058\n",
              "min         0.000000\n",
              "25%         1.000000\n",
              "50%         9.905000\n",
              "75%       102.125000\n",
              "max      1809.680000\n",
              "Name: Amount, dtype: float64"
            ]
          },
          "metadata": {
            "tags": []
          },
          "execution_count": 39
        }
      ]
    },
    {
      "cell_type": "code",
      "metadata": {
        "id": "0PNvFPQWoTM2",
        "colab_type": "code",
        "colab": {
          "base_uri": "https://localhost:8080/",
          "height": 542
        },
        "outputId": "ac27ef5a-8382-48a4-b6fc-2ecb9b945769"
      },
      "source": [
        "fraud = df.loc[df['Class'] == 1]\n",
        "\n",
        "trace = go.Scatter(\n",
        "    x = fraud['Time'],y = fraud['Amount'],\n",
        "    name=\"Amount\",\n",
        "     marker=dict(\n",
        "                color='rgb(238,23,11)',\n",
        "                line=dict(\n",
        "                    color='red',\n",
        "                    width=1),\n",
        "                opacity=0.5,\n",
        "            ),\n",
        "    text= fraud['Amount'],\n",
        "    mode = \"markers\"\n",
        ")\n",
        "data = [trace]\n",
        "layout = dict(title = 'Amount of fraudulent transactions',\n",
        "          xaxis = dict(title = 'Time [s]', showticklabels=True), \n",
        "          yaxis = dict(title = 'Amount'),\n",
        "          hovermode='closest'\n",
        "         )\n",
        "fig = dict(data=data, layout=layout)\n",
        "iplot(fig, filename='fraud-amount')\n"
      ],
      "execution_count": 41,
      "outputs": [
        {
          "output_type": "display_data",
          "data": {
            "text/html": [
              "<div>\n",
              "        \n",
              "        \n",
              "            <div id=\"ed913d78-a341-4862-b0d5-5bc31830afe2\" class=\"plotly-graph-div\" style=\"height:525px; width:100%;\"></div>\n",
              "            <script type=\"text/javascript\">\n",
              "                require([\"plotly\"], function(Plotly) {\n",
              "                    window.PLOTLYENV=window.PLOTLYENV || {};\n",
              "                    \n",
              "                if (document.getElementById(\"ed913d78-a341-4862-b0d5-5bc31830afe2\")) {\n",
              "                    Plotly.newPlot(\n",
              "                        'ed913d78-a341-4862-b0d5-5bc31830afe2',\n",
              "                        [{\"marker\": {\"color\": \"rgb(238,23,11)\", \"line\": {\"color\": \"red\", \"width\": 1}, \"opacity\": 0.5}, \"mode\": \"markers\", \"name\": \"Amount\", \"text\": [0.0, 529.0, 239.93, 59.0, 1.0, 1.0, 1.0, 1.0, 1.0, 1.0, 1.0, 1.0, 1.0, 1.0, 1.0, 1.0, 1.0, 1.0, 1.0, 1.0, 1.0, 1.1, 1.0, 1.0, 1809.68, 1.0, 1.0, 1.0, 1.0, 1.0, 0.0, 30.39, 179.66, 1.0, 1.0, 1.0, 1.0, 1.0, 11.39, 3.79, 3.79, 3.93, 1.0, 766.36, 1218.89, 1.0, 188.78, 1.0, 1.0, 1.0, 1.0, 1.0, 1.0, 1.0, 1.0, 1.0, 3.12, 99.99, 99.99, 99.99, 3.76, 99.99, 99.99, 99.99, 99.99, 99.99, 99.99, 99.99, 99.99, 99.99, 99.99, 99.99, 99.99, 23.36, 99.99, 730.86, 99.99, 99.99, 99.99, 99.99, 99.99, 0.68, 0.68, 0.68, 30.3, 104.81, 0.0, 717.15, 19.02, 1.52, 18.96, 125.3, 19.02, 0.76, 60.6, 7.61, 1.0, 9.13, 4.56, 14.46, 111.7, 111.7, 12.31, 776.83, 1.0, 1.0, 1.0, 1.0, 0.76, 0.76, 112.33, 3.79, 340.11, 88.23, 5.3, 83.38, 11.38, 1.52, 88.23, 30.26, 459.07, 0.0, 118.3, 45.49, 173.07, 37.32, 59.68, 0.76, 9.99, 34.12, 273.01, 106.55, 364.19, 39.45, 53.95, 172.32, 802.52, 99.99, 139.9, 1.0, 1.0, 1.0, 1.0, 1.0, 648.0, 204.27, 88.0, 24.9, 1.0, 1.0, 1.0, 105.99, 1.0, 1.0, 1.0, 1.0, 0.76, 7.58, 0.76, 0.76, 208.58, 1.0, 19.73, 360.0, 99.99, 99.99, 99.99, 99.99, 99.99, 519.9, 0.76, 0.76, 1.18, 8.0, 0.0, 112.45, 261.87, 1.79, 1.0, 0.83, 0.83, 130.44, 311.91, 170.92, 153.46, 7.52, 1.0, 5.0, 0.01, 444.17, 1.0, 1.0, 1.0, 1.75, 5.09, 270.0, 113.92, 45.64, 1389.56, 18.98, 6.27, 319.2, 5.91, 454.82, 101.5, 19.04, 6.62, 180.0, 1.0, 1.1, 1402.16, 290.18, 294.9, 1.0, 0.0, 0.0, 720.38, 31.91, 1354.25, 98.01, 101.5, 7.53, 489.71, 549.06, 320.0, 1.0, 1.0, 1.0, 1.0, 1.0, 1.0, 19.59, 1.0, 227.3, 3.79, 318.11, 824.83, 0.76, 426.4, 238.9, 45.03, 16.48, 76.94, 311.28, 30.14, 29.95, 124.53, 99.85, 99.9, 219.8, 254.76, 1.0, 1.0, 1.0, 1.0, 129.0, 1.0, 1.0, 1.0, 106.9, 60.0, 0.2, 7.57, 1.0, 1.0, 0.0, 0.0, 512.25, 512.25, 12.31, 354.33, 2.0, 0.0, 0.0, 252.92, 252.92, 1.0, 240.77, 1.0, 310.42, 323.77, 451.27, 829.41, 1.18, 9.21, 6.99, 38.76, 52.69, 1.0, 1.0, 261.22, 18.0, 600.73, 1.0, 75.86, 8.54, 0.01, 44.9, 44.9, 316.06, 316.06, 209.65, 78.0, 78.0, 188.52, 188.52, 30.31, 30.31, 104.03, 104.03, 1.0, 1.0, 37.93, 97.0, 11.4, 45.48, 1.0, 1.0, 1.0, 1.0, 1.0, 33.76, 571.48, 1.63, 1.63, 18.96, 33.59, 1.0, 8.64, 9.82, 2.28, 1.0, 0.76, 1.0, 0.92, 2.28, 147.87, 0.0, 22.04, 0.0, 104.0, 2.28, 0.01, 1.0, 346.94, 7.59, 0.0, 0.0, 119.74, 2.27, 0.0, 186.13, 1.0, 0.76, 80.22, 635.1], \"type\": \"scatter\", \"x\": [406.0, 472.0, 4462.0, 6986.0, 7519.0, 7526.0, 7535.0, 7543.0, 7551.0, 7610.0, 7672.0, 7740.0, 7891.0, 8090.0, 8169.0, 8408.0, 8415.0, 8451.0, 8528.0, 8614.0, 8757.0, 8808.0, 8878.0, 8886.0, 9064.0, 11080.0, 11092.0, 11131.0, 11629.0, 11635.0, 12093.0, 12095.0, 12393.0, 12597.0, 13126.0, 13323.0, 14073.0, 14152.0, 15817.0, 17187.0, 17220.0, 17230.0, 17520.0, 17838.0, 18088.0, 18399.0, 18675.0, 18690.0, 19762.0, 20011.0, 20332.0, 20451.0, 20931.0, 21046.0, 21419.0, 21662.0, 25095.0, 25198.0, 25231.0, 25254.0, 25426.0, 26523.0, 26556.0, 26585.0, 26833.0, 26863.0, 26899.0, 26931.0, 26961.0, 27163.0, 27187.0, 27219.0, 27252.0, 27784.0, 28143.0, 28242.0, 28625.0, 28658.0, 28692.0, 28726.0, 28755.0, 29526.0, 29531.0, 29753.0, 29785.0, 30852.0, 32686.0, 32745.0, 34256.0, 34521.0, 34634.0, 34684.0, 34687.0, 35585.0, 35771.0, 35866.0, 35899.0, 35906.0, 35926.0, 35942.0, 35953.0, 36170.0, 37167.0, 39729.0, 40086.0, 40276.0, 40662.0, 40742.0, 40892.0, 40918.0, 40919.0, 41116.0, 41138.0, 41147.0, 41164.0, 41170.0, 41181.0, 41194.0, 41203.0, 41204.0, 41227.0, 41233.0, 41237.0, 41243.0, 41273.0, 41285.0, 41305.0, 41308.0, 41313.0, 41353.0, 41397.0, 41413.0, 41505.0, 41582.0, 41607.0, 41646.0, 41743.0, 41791.0, 41851.0, 41870.0, 41991.0, 42247.0, 42474.0, 42985.0, 42988.0, 43028.0, 43369.0, 43494.0, 44393.0, 44532.0, 45463.0, 45501.0, 45541.0, 46057.0, 46149.0, 46925.0, 47545.0, 47826.0, 47923.0, 47982.0, 48380.0, 48533.0, 48884.0, 49985.0, 50706.0, 50808.0, 51112.0, 51135.0, 51155.0, 52814.0, 52934.0, 53031.0, 53076.0, 53451.0, 53658.0, 53727.0, 53937.0, 54846.0, 55279.0, 55311.0, 55614.0, 55618.0, 55760.0, 56098.0, 56624.0, 56650.0, 56806.0, 56887.0, 57007.0, 57027.0, 57163.0, 58060.0, 58067.0, 58199.0, 58217.0, 58222.0, 58642.0, 58822.0, 59011.0, 59385.0, 59669.0, 59777.0, 59840.0, 60353.0, 61108.0, 61646.0, 62059.0, 62080.0, 62330.0, 62341.0, 62467.0, 63578.0, 64093.0, 64412.0, 64443.0, 64585.0, 64785.0, 65358.0, 65385.0, 65728.0, 65936.0, 66037.0, 67150.0, 67571.0, 67857.0, 68207.0, 68207.0, 68207.0, 68207.0, 68207.0, 68207.0, 68357.0, 69394.0, 70071.0, 70229.0, 70270.0, 70536.0, 70828.0, 71033.0, 72327.0, 72824.0, 73408.0, 74159.0, 74262.0, 75033.0, 75556.0, 75581.0, 75851.0, 75978.0, 76575.0, 76826.0, 76845.0, 76857.0, 76867.0, 76876.0, 77154.0, 77171.0, 77182.0, 77202.0, 77627.0, 78725.0, 79540.0, 81372.0, 82289.0, 83934.0, 84204.0, 84204.0, 84204.0, 84204.0, 84694.0, 84789.0, 85181.0, 85285.0, 85285.0, 85285.0, 85285.0, 85573.0, 85576.0, 85864.0, 85867.0, 86376.0, 87202.0, 87883.0, 88672.0, 88737.0, 90676.0, 91075.0, 91407.0, 91502.0, 91524.0, 91554.0, 92092.0, 92102.0, 93742.0, 93823.0, 93824.0, 93834.0, 93853.0, 93853.0, 93853.0, 93853.0, 93856.0, 93860.0, 93860.0, 93860.0, 93860.0, 93879.0, 93879.0, 93879.0, 93879.0, 93888.0, 93897.0, 93904.0, 93920.0, 93965.0, 94141.0, 94362.0, 94362.0, 94362.0, 94362.0, 94364.0, 94625.0, 94952.0, 95559.0, 95628.0, 96135.0, 96291.0, 96717.0, 97121.0, 97235.0, 100223.0, 100298.0, 100501.0, 100924.0, 101051.0, 101313.0, 101597.0, 102114.0, 102318.0, 102480.0, 102489.0, 102542.0, 102572.0, 102619.0, 102622.0, 102625.0, 102669.0, 102671.0, 102676.0, 103808.0, 109297.0, 109298.0, 110087.0, 110547.0, 110552.0, 110617.0], \"y\": [0.0, 529.0, 239.93, 59.0, 1.0, 1.0, 1.0, 1.0, 1.0, 1.0, 1.0, 1.0, 1.0, 1.0, 1.0, 1.0, 1.0, 1.0, 1.0, 1.0, 1.0, 1.1, 1.0, 1.0, 1809.68, 1.0, 1.0, 1.0, 1.0, 1.0, 0.0, 30.39, 179.66, 1.0, 1.0, 1.0, 1.0, 1.0, 11.39, 3.79, 3.79, 3.93, 1.0, 766.36, 1218.89, 1.0, 188.78, 1.0, 1.0, 1.0, 1.0, 1.0, 1.0, 1.0, 1.0, 1.0, 3.12, 99.99, 99.99, 99.99, 3.76, 99.99, 99.99, 99.99, 99.99, 99.99, 99.99, 99.99, 99.99, 99.99, 99.99, 99.99, 99.99, 23.36, 99.99, 730.86, 99.99, 99.99, 99.99, 99.99, 99.99, 0.68, 0.68, 0.68, 30.3, 104.81, 0.0, 717.15, 19.02, 1.52, 18.96, 125.3, 19.02, 0.76, 60.6, 7.61, 1.0, 9.13, 4.56, 14.46, 111.7, 111.7, 12.31, 776.83, 1.0, 1.0, 1.0, 1.0, 0.76, 0.76, 112.33, 3.79, 340.11, 88.23, 5.3, 83.38, 11.38, 1.52, 88.23, 30.26, 459.07, 0.0, 118.3, 45.49, 173.07, 37.32, 59.68, 0.76, 9.99, 34.12, 273.01, 106.55, 364.19, 39.45, 53.95, 172.32, 802.52, 99.99, 139.9, 1.0, 1.0, 1.0, 1.0, 1.0, 648.0, 204.27, 88.0, 24.9, 1.0, 1.0, 1.0, 105.99, 1.0, 1.0, 1.0, 1.0, 0.76, 7.58, 0.76, 0.76, 208.58, 1.0, 19.73, 360.0, 99.99, 99.99, 99.99, 99.99, 99.99, 519.9, 0.76, 0.76, 1.18, 8.0, 0.0, 112.45, 261.87, 1.79, 1.0, 0.83, 0.83, 130.44, 311.91, 170.92, 153.46, 7.52, 1.0, 5.0, 0.01, 444.17, 1.0, 1.0, 1.0, 1.75, 5.09, 270.0, 113.92, 45.64, 1389.56, 18.98, 6.27, 319.2, 5.91, 454.82, 101.5, 19.04, 6.62, 180.0, 1.0, 1.1, 1402.16, 290.18, 294.9, 1.0, 0.0, 0.0, 720.38, 31.91, 1354.25, 98.01, 101.5, 7.53, 489.71, 549.06, 320.0, 1.0, 1.0, 1.0, 1.0, 1.0, 1.0, 19.59, 1.0, 227.3, 3.79, 318.11, 824.83, 0.76, 426.4, 238.9, 45.03, 16.48, 76.94, 311.28, 30.14, 29.95, 124.53, 99.85, 99.9, 219.8, 254.76, 1.0, 1.0, 1.0, 1.0, 129.0, 1.0, 1.0, 1.0, 106.9, 60.0, 0.2, 7.57, 1.0, 1.0, 0.0, 0.0, 512.25, 512.25, 12.31, 354.33, 2.0, 0.0, 0.0, 252.92, 252.92, 1.0, 240.77, 1.0, 310.42, 323.77, 451.27, 829.41, 1.18, 9.21, 6.99, 38.76, 52.69, 1.0, 1.0, 261.22, 18.0, 600.73, 1.0, 75.86, 8.54, 0.01, 44.9, 44.9, 316.06, 316.06, 209.65, 78.0, 78.0, 188.52, 188.52, 30.31, 30.31, 104.03, 104.03, 1.0, 1.0, 37.93, 97.0, 11.4, 45.48, 1.0, 1.0, 1.0, 1.0, 1.0, 33.76, 571.48, 1.63, 1.63, 18.96, 33.59, 1.0, 8.64, 9.82, 2.28, 1.0, 0.76, 1.0, 0.92, 2.28, 147.87, 0.0, 22.04, 0.0, 104.0, 2.28, 0.01, 1.0, 346.94, 7.59, 0.0, 0.0, 119.74, 2.27, 0.0, 186.13, 1.0, 0.76, 80.22, 635.1]}],\n",
              "                        {\"hovermode\": \"closest\", \"template\": {\"data\": {\"bar\": [{\"error_x\": {\"color\": \"#2a3f5f\"}, \"error_y\": {\"color\": \"#2a3f5f\"}, \"marker\": {\"line\": {\"color\": \"#E5ECF6\", \"width\": 0.5}}, \"type\": \"bar\"}], \"barpolar\": [{\"marker\": {\"line\": {\"color\": \"#E5ECF6\", \"width\": 0.5}}, \"type\": \"barpolar\"}], \"carpet\": [{\"aaxis\": {\"endlinecolor\": \"#2a3f5f\", \"gridcolor\": \"white\", \"linecolor\": \"white\", \"minorgridcolor\": \"white\", \"startlinecolor\": \"#2a3f5f\"}, \"baxis\": {\"endlinecolor\": \"#2a3f5f\", \"gridcolor\": \"white\", \"linecolor\": \"white\", \"minorgridcolor\": \"white\", \"startlinecolor\": \"#2a3f5f\"}, \"type\": \"carpet\"}], \"choropleth\": [{\"colorbar\": {\"outlinewidth\": 0, \"ticks\": \"\"}, \"type\": \"choropleth\"}], \"contour\": [{\"colorbar\": {\"outlinewidth\": 0, \"ticks\": \"\"}, \"colorscale\": [[0.0, \"#0d0887\"], [0.1111111111111111, \"#46039f\"], [0.2222222222222222, \"#7201a8\"], [0.3333333333333333, \"#9c179e\"], [0.4444444444444444, \"#bd3786\"], [0.5555555555555556, \"#d8576b\"], [0.6666666666666666, \"#ed7953\"], [0.7777777777777778, \"#fb9f3a\"], [0.8888888888888888, \"#fdca26\"], [1.0, \"#f0f921\"]], \"type\": \"contour\"}], \"contourcarpet\": [{\"colorbar\": {\"outlinewidth\": 0, \"ticks\": \"\"}, \"type\": \"contourcarpet\"}], \"heatmap\": [{\"colorbar\": {\"outlinewidth\": 0, \"ticks\": \"\"}, \"colorscale\": [[0.0, \"#0d0887\"], [0.1111111111111111, \"#46039f\"], [0.2222222222222222, \"#7201a8\"], [0.3333333333333333, \"#9c179e\"], [0.4444444444444444, \"#bd3786\"], [0.5555555555555556, \"#d8576b\"], [0.6666666666666666, \"#ed7953\"], [0.7777777777777778, \"#fb9f3a\"], [0.8888888888888888, \"#fdca26\"], [1.0, \"#f0f921\"]], \"type\": \"heatmap\"}], \"heatmapgl\": [{\"colorbar\": {\"outlinewidth\": 0, \"ticks\": \"\"}, \"colorscale\": [[0.0, \"#0d0887\"], [0.1111111111111111, \"#46039f\"], [0.2222222222222222, \"#7201a8\"], [0.3333333333333333, \"#9c179e\"], [0.4444444444444444, \"#bd3786\"], [0.5555555555555556, \"#d8576b\"], [0.6666666666666666, \"#ed7953\"], [0.7777777777777778, \"#fb9f3a\"], [0.8888888888888888, \"#fdca26\"], [1.0, \"#f0f921\"]], \"type\": \"heatmapgl\"}], \"histogram\": [{\"marker\": {\"colorbar\": {\"outlinewidth\": 0, \"ticks\": \"\"}}, \"type\": \"histogram\"}], \"histogram2d\": [{\"colorbar\": {\"outlinewidth\": 0, \"ticks\": \"\"}, \"colorscale\": [[0.0, \"#0d0887\"], [0.1111111111111111, \"#46039f\"], [0.2222222222222222, \"#7201a8\"], [0.3333333333333333, \"#9c179e\"], [0.4444444444444444, \"#bd3786\"], [0.5555555555555556, \"#d8576b\"], [0.6666666666666666, \"#ed7953\"], [0.7777777777777778, \"#fb9f3a\"], [0.8888888888888888, \"#fdca26\"], [1.0, \"#f0f921\"]], \"type\": \"histogram2d\"}], \"histogram2dcontour\": [{\"colorbar\": {\"outlinewidth\": 0, \"ticks\": \"\"}, \"colorscale\": [[0.0, \"#0d0887\"], [0.1111111111111111, \"#46039f\"], [0.2222222222222222, \"#7201a8\"], [0.3333333333333333, \"#9c179e\"], [0.4444444444444444, \"#bd3786\"], [0.5555555555555556, \"#d8576b\"], [0.6666666666666666, \"#ed7953\"], [0.7777777777777778, \"#fb9f3a\"], [0.8888888888888888, \"#fdca26\"], [1.0, \"#f0f921\"]], \"type\": \"histogram2dcontour\"}], \"mesh3d\": [{\"colorbar\": {\"outlinewidth\": 0, \"ticks\": \"\"}, \"type\": \"mesh3d\"}], \"parcoords\": [{\"line\": {\"colorbar\": {\"outlinewidth\": 0, \"ticks\": \"\"}}, \"type\": \"parcoords\"}], \"pie\": [{\"automargin\": true, \"type\": \"pie\"}], \"scatter\": [{\"marker\": {\"colorbar\": {\"outlinewidth\": 0, \"ticks\": \"\"}}, \"type\": \"scatter\"}], \"scatter3d\": [{\"line\": {\"colorbar\": {\"outlinewidth\": 0, \"ticks\": \"\"}}, \"marker\": {\"colorbar\": {\"outlinewidth\": 0, \"ticks\": \"\"}}, \"type\": \"scatter3d\"}], \"scattercarpet\": [{\"marker\": {\"colorbar\": {\"outlinewidth\": 0, \"ticks\": \"\"}}, \"type\": \"scattercarpet\"}], \"scattergeo\": [{\"marker\": {\"colorbar\": {\"outlinewidth\": 0, \"ticks\": \"\"}}, \"type\": \"scattergeo\"}], \"scattergl\": [{\"marker\": {\"colorbar\": {\"outlinewidth\": 0, \"ticks\": \"\"}}, \"type\": \"scattergl\"}], \"scattermapbox\": [{\"marker\": {\"colorbar\": {\"outlinewidth\": 0, \"ticks\": \"\"}}, \"type\": \"scattermapbox\"}], \"scatterpolar\": [{\"marker\": {\"colorbar\": {\"outlinewidth\": 0, \"ticks\": \"\"}}, \"type\": \"scatterpolar\"}], \"scatterpolargl\": [{\"marker\": {\"colorbar\": {\"outlinewidth\": 0, \"ticks\": \"\"}}, \"type\": \"scatterpolargl\"}], \"scatterternary\": [{\"marker\": {\"colorbar\": {\"outlinewidth\": 0, \"ticks\": \"\"}}, \"type\": \"scatterternary\"}], \"surface\": [{\"colorbar\": {\"outlinewidth\": 0, \"ticks\": \"\"}, \"colorscale\": [[0.0, \"#0d0887\"], [0.1111111111111111, \"#46039f\"], [0.2222222222222222, \"#7201a8\"], [0.3333333333333333, \"#9c179e\"], [0.4444444444444444, \"#bd3786\"], [0.5555555555555556, \"#d8576b\"], [0.6666666666666666, \"#ed7953\"], [0.7777777777777778, \"#fb9f3a\"], [0.8888888888888888, \"#fdca26\"], [1.0, \"#f0f921\"]], \"type\": \"surface\"}], \"table\": [{\"cells\": {\"fill\": {\"color\": \"#EBF0F8\"}, \"line\": {\"color\": \"white\"}}, \"header\": {\"fill\": {\"color\": \"#C8D4E3\"}, \"line\": {\"color\": \"white\"}}, \"type\": \"table\"}]}, \"layout\": {\"annotationdefaults\": {\"arrowcolor\": \"#2a3f5f\", \"arrowhead\": 0, \"arrowwidth\": 1}, \"coloraxis\": {\"colorbar\": {\"outlinewidth\": 0, \"ticks\": \"\"}}, \"colorscale\": {\"diverging\": [[0, \"#8e0152\"], [0.1, \"#c51b7d\"], [0.2, \"#de77ae\"], [0.3, \"#f1b6da\"], [0.4, \"#fde0ef\"], [0.5, \"#f7f7f7\"], [0.6, \"#e6f5d0\"], [0.7, \"#b8e186\"], [0.8, \"#7fbc41\"], [0.9, \"#4d9221\"], [1, \"#276419\"]], \"sequential\": [[0.0, \"#0d0887\"], [0.1111111111111111, \"#46039f\"], [0.2222222222222222, \"#7201a8\"], [0.3333333333333333, \"#9c179e\"], [0.4444444444444444, \"#bd3786\"], [0.5555555555555556, \"#d8576b\"], [0.6666666666666666, \"#ed7953\"], [0.7777777777777778, \"#fb9f3a\"], [0.8888888888888888, \"#fdca26\"], [1.0, \"#f0f921\"]], \"sequentialminus\": [[0.0, \"#0d0887\"], [0.1111111111111111, \"#46039f\"], [0.2222222222222222, \"#7201a8\"], [0.3333333333333333, \"#9c179e\"], [0.4444444444444444, \"#bd3786\"], [0.5555555555555556, \"#d8576b\"], [0.6666666666666666, \"#ed7953\"], [0.7777777777777778, \"#fb9f3a\"], [0.8888888888888888, \"#fdca26\"], [1.0, \"#f0f921\"]]}, \"colorway\": [\"#636efa\", \"#EF553B\", \"#00cc96\", \"#ab63fa\", \"#FFA15A\", \"#19d3f3\", \"#FF6692\", \"#B6E880\", \"#FF97FF\", \"#FECB52\"], \"font\": {\"color\": \"#2a3f5f\"}, \"geo\": {\"bgcolor\": \"white\", \"lakecolor\": \"white\", \"landcolor\": \"#E5ECF6\", \"showlakes\": true, \"showland\": true, \"subunitcolor\": \"white\"}, \"hoverlabel\": {\"align\": \"left\"}, \"hovermode\": \"closest\", \"mapbox\": {\"style\": \"light\"}, \"paper_bgcolor\": \"white\", \"plot_bgcolor\": \"#E5ECF6\", \"polar\": {\"angularaxis\": {\"gridcolor\": \"white\", \"linecolor\": \"white\", \"ticks\": \"\"}, \"bgcolor\": \"#E5ECF6\", \"radialaxis\": {\"gridcolor\": \"white\", \"linecolor\": \"white\", \"ticks\": \"\"}}, \"scene\": {\"xaxis\": {\"backgroundcolor\": \"#E5ECF6\", \"gridcolor\": \"white\", \"gridwidth\": 2, \"linecolor\": \"white\", \"showbackground\": true, \"ticks\": \"\", \"zerolinecolor\": \"white\"}, \"yaxis\": {\"backgroundcolor\": \"#E5ECF6\", \"gridcolor\": \"white\", \"gridwidth\": 2, \"linecolor\": \"white\", \"showbackground\": true, \"ticks\": \"\", \"zerolinecolor\": \"white\"}, \"zaxis\": {\"backgroundcolor\": \"#E5ECF6\", \"gridcolor\": \"white\", \"gridwidth\": 2, \"linecolor\": \"white\", \"showbackground\": true, \"ticks\": \"\", \"zerolinecolor\": \"white\"}}, \"shapedefaults\": {\"line\": {\"color\": \"#2a3f5f\"}}, \"ternary\": {\"aaxis\": {\"gridcolor\": \"white\", \"linecolor\": \"white\", \"ticks\": \"\"}, \"baxis\": {\"gridcolor\": \"white\", \"linecolor\": \"white\", \"ticks\": \"\"}, \"bgcolor\": \"#E5ECF6\", \"caxis\": {\"gridcolor\": \"white\", \"linecolor\": \"white\", \"ticks\": \"\"}}, \"title\": {\"x\": 0.05}, \"xaxis\": {\"automargin\": true, \"gridcolor\": \"white\", \"linecolor\": \"white\", \"ticks\": \"\", \"title\": {\"standoff\": 15}, \"zerolinecolor\": \"white\", \"zerolinewidth\": 2}, \"yaxis\": {\"automargin\": true, \"gridcolor\": \"white\", \"linecolor\": \"white\", \"ticks\": \"\", \"title\": {\"standoff\": 15}, \"zerolinecolor\": \"white\", \"zerolinewidth\": 2}}}, \"title\": {\"text\": \"Amount of fraudulent transactions\"}, \"xaxis\": {\"showticklabels\": true, \"title\": {\"text\": \"Time [s]\"}}, \"yaxis\": {\"title\": {\"text\": \"Amount\"}}},\n",
              "                        {\"responsive\": true}\n",
              "                    ).then(function(){\n",
              "                            \n",
              "var gd = document.getElementById('ed913d78-a341-4862-b0d5-5bc31830afe2');\n",
              "var x = new MutationObserver(function (mutations, observer) {{\n",
              "        var display = window.getComputedStyle(gd).display;\n",
              "        if (!display || display === 'none') {{\n",
              "            console.log([gd, 'removed!']);\n",
              "            Plotly.purge(gd);\n",
              "            observer.disconnect();\n",
              "        }}\n",
              "}});\n",
              "\n",
              "// Listen for the removal of the full notebook cells\n",
              "var notebookContainer = gd.closest('#notebook-container');\n",
              "if (notebookContainer) {{\n",
              "    x.observe(notebookContainer, {childList: true});\n",
              "}}\n",
              "\n",
              "// Listen for the clearing of the current output cell\n",
              "var outputEl = gd.closest('.output');\n",
              "if (outputEl) {{\n",
              "    x.observe(outputEl, {childList: true});\n",
              "}}\n",
              "\n",
              "                        })\n",
              "                };\n",
              "                });\n",
              "            </script>\n",
              "        </div>"
            ],
            "application/vnd.plotly.v1+json": {
              "data": [
                {
                  "name": "Amount",
                  "text": [
                    0,
                    529,
                    239.93,
                    59,
                    1,
                    1,
                    1,
                    1,
                    1,
                    1,
                    1,
                    1,
                    1,
                    1,
                    1,
                    1,
                    1,
                    1,
                    1,
                    1,
                    1,
                    1.1,
                    1,
                    1,
                    1809.68,
                    1,
                    1,
                    1,
                    1,
                    1,
                    0,
                    30.39,
                    179.66,
                    1,
                    1,
                    1,
                    1,
                    1,
                    11.39,
                    3.79,
                    3.79,
                    3.93,
                    1,
                    766.36,
                    1218.89,
                    1,
                    188.78,
                    1,
                    1,
                    1,
                    1,
                    1,
                    1,
                    1,
                    1,
                    1,
                    3.12,
                    99.99,
                    99.99,
                    99.99,
                    3.76,
                    99.99,
                    99.99,
                    99.99,
                    99.99,
                    99.99,
                    99.99,
                    99.99,
                    99.99,
                    99.99,
                    99.99,
                    99.99,
                    99.99,
                    23.36,
                    99.99,
                    730.86,
                    99.99,
                    99.99,
                    99.99,
                    99.99,
                    99.99,
                    0.68,
                    0.68,
                    0.68,
                    30.3,
                    104.81,
                    0,
                    717.15,
                    19.02,
                    1.52,
                    18.96,
                    125.3,
                    19.02,
                    0.76,
                    60.6,
                    7.61,
                    1,
                    9.13,
                    4.56,
                    14.46,
                    111.7,
                    111.7,
                    12.31,
                    776.83,
                    1,
                    1,
                    1,
                    1,
                    0.76,
                    0.76,
                    112.33,
                    3.79,
                    340.11,
                    88.23,
                    5.3,
                    83.38,
                    11.38,
                    1.52,
                    88.23,
                    30.26,
                    459.07,
                    0,
                    118.3,
                    45.49,
                    173.07,
                    37.32,
                    59.68,
                    0.76,
                    9.99,
                    34.12,
                    273.01,
                    106.55,
                    364.19,
                    39.45,
                    53.95,
                    172.32,
                    802.52,
                    99.99,
                    139.9,
                    1,
                    1,
                    1,
                    1,
                    1,
                    648,
                    204.27,
                    88,
                    24.9,
                    1,
                    1,
                    1,
                    105.99,
                    1,
                    1,
                    1,
                    1,
                    0.76,
                    7.58,
                    0.76,
                    0.76,
                    208.58,
                    1,
                    19.73,
                    360,
                    99.99,
                    99.99,
                    99.99,
                    99.99,
                    99.99,
                    519.9,
                    0.76,
                    0.76,
                    1.18,
                    8,
                    0,
                    112.45,
                    261.87,
                    1.79,
                    1,
                    0.83,
                    0.83,
                    130.44,
                    311.91,
                    170.92,
                    153.46,
                    7.52,
                    1,
                    5,
                    0.01,
                    444.17,
                    1,
                    1,
                    1,
                    1.75,
                    5.09,
                    270,
                    113.92,
                    45.64,
                    1389.56,
                    18.98,
                    6.27,
                    319.2,
                    5.91,
                    454.82,
                    101.5,
                    19.04,
                    6.62,
                    180,
                    1,
                    1.1,
                    1402.16,
                    290.18,
                    294.9,
                    1,
                    0,
                    0,
                    720.38,
                    31.91,
                    1354.25,
                    98.01,
                    101.5,
                    7.53,
                    489.71,
                    549.06,
                    320,
                    1,
                    1,
                    1,
                    1,
                    1,
                    1,
                    19.59,
                    1,
                    227.3,
                    3.79,
                    318.11,
                    824.83,
                    0.76,
                    426.4,
                    238.9,
                    45.03,
                    16.48,
                    76.94,
                    311.28,
                    30.14,
                    29.95,
                    124.53,
                    99.85,
                    99.9,
                    219.8,
                    254.76,
                    1,
                    1,
                    1,
                    1,
                    129,
                    1,
                    1,
                    1,
                    106.9,
                    60,
                    0.2,
                    7.57,
                    1,
                    1,
                    0,
                    0,
                    512.25,
                    512.25,
                    12.31,
                    354.33,
                    2,
                    0,
                    0,
                    252.92,
                    252.92,
                    1,
                    240.77,
                    1,
                    310.42,
                    323.77,
                    451.27,
                    829.41,
                    1.18,
                    9.21,
                    6.99,
                    38.76,
                    52.69,
                    1,
                    1,
                    261.22,
                    18,
                    600.73,
                    1,
                    75.86,
                    8.54,
                    0.01,
                    44.9,
                    44.9,
                    316.06,
                    316.06,
                    209.65,
                    78,
                    78,
                    188.52,
                    188.52,
                    30.31,
                    30.31,
                    104.03,
                    104.03,
                    1,
                    1,
                    37.93,
                    97,
                    11.4,
                    45.48,
                    1,
                    1,
                    1,
                    1,
                    1,
                    33.76,
                    571.48,
                    1.63,
                    1.63,
                    18.96,
                    33.59,
                    1,
                    8.64,
                    9.82,
                    2.28,
                    1,
                    0.76,
                    1,
                    0.92,
                    2.28,
                    147.87,
                    0,
                    22.04,
                    0,
                    104,
                    2.28,
                    0.01,
                    1,
                    346.94,
                    7.59,
                    0,
                    0,
                    119.74,
                    2.27,
                    0,
                    186.13,
                    1,
                    0.76,
                    80.22,
                    635.1
                  ],
                  "y": [
                    0,
                    529,
                    239.93,
                    59,
                    1,
                    1,
                    1,
                    1,
                    1,
                    1,
                    1,
                    1,
                    1,
                    1,
                    1,
                    1,
                    1,
                    1,
                    1,
                    1,
                    1,
                    1.1,
                    1,
                    1,
                    1809.68,
                    1,
                    1,
                    1,
                    1,
                    1,
                    0,
                    30.39,
                    179.66,
                    1,
                    1,
                    1,
                    1,
                    1,
                    11.39,
                    3.79,
                    3.79,
                    3.93,
                    1,
                    766.36,
                    1218.89,
                    1,
                    188.78,
                    1,
                    1,
                    1,
                    1,
                    1,
                    1,
                    1,
                    1,
                    1,
                    3.12,
                    99.99,
                    99.99,
                    99.99,
                    3.76,
                    99.99,
                    99.99,
                    99.99,
                    99.99,
                    99.99,
                    99.99,
                    99.99,
                    99.99,
                    99.99,
                    99.99,
                    99.99,
                    99.99,
                    23.36,
                    99.99,
                    730.86,
                    99.99,
                    99.99,
                    99.99,
                    99.99,
                    99.99,
                    0.68,
                    0.68,
                    0.68,
                    30.3,
                    104.81,
                    0,
                    717.15,
                    19.02,
                    1.52,
                    18.96,
                    125.3,
                    19.02,
                    0.76,
                    60.6,
                    7.61,
                    1,
                    9.13,
                    4.56,
                    14.46,
                    111.7,
                    111.7,
                    12.31,
                    776.83,
                    1,
                    1,
                    1,
                    1,
                    0.76,
                    0.76,
                    112.33,
                    3.79,
                    340.11,
                    88.23,
                    5.3,
                    83.38,
                    11.38,
                    1.52,
                    88.23,
                    30.26,
                    459.07,
                    0,
                    118.3,
                    45.49,
                    173.07,
                    37.32,
                    59.68,
                    0.76,
                    9.99,
                    34.12,
                    273.01,
                    106.55,
                    364.19,
                    39.45,
                    53.95,
                    172.32,
                    802.52,
                    99.99,
                    139.9,
                    1,
                    1,
                    1,
                    1,
                    1,
                    648,
                    204.27,
                    88,
                    24.9,
                    1,
                    1,
                    1,
                    105.99,
                    1,
                    1,
                    1,
                    1,
                    0.76,
                    7.58,
                    0.76,
                    0.76,
                    208.58,
                    1,
                    19.73,
                    360,
                    99.99,
                    99.99,
                    99.99,
                    99.99,
                    99.99,
                    519.9,
                    0.76,
                    0.76,
                    1.18,
                    8,
                    0,
                    112.45,
                    261.87,
                    1.79,
                    1,
                    0.83,
                    0.83,
                    130.44,
                    311.91,
                    170.92,
                    153.46,
                    7.52,
                    1,
                    5,
                    0.01,
                    444.17,
                    1,
                    1,
                    1,
                    1.75,
                    5.09,
                    270,
                    113.92,
                    45.64,
                    1389.56,
                    18.98,
                    6.27,
                    319.2,
                    5.91,
                    454.82,
                    101.5,
                    19.04,
                    6.62,
                    180,
                    1,
                    1.1,
                    1402.16,
                    290.18,
                    294.9,
                    1,
                    0,
                    0,
                    720.38,
                    31.91,
                    1354.25,
                    98.01,
                    101.5,
                    7.53,
                    489.71,
                    549.06,
                    320,
                    1,
                    1,
                    1,
                    1,
                    1,
                    1,
                    19.59,
                    1,
                    227.3,
                    3.79,
                    318.11,
                    824.83,
                    0.76,
                    426.4,
                    238.9,
                    45.03,
                    16.48,
                    76.94,
                    311.28,
                    30.14,
                    29.95,
                    124.53,
                    99.85,
                    99.9,
                    219.8,
                    254.76,
                    1,
                    1,
                    1,
                    1,
                    129,
                    1,
                    1,
                    1,
                    106.9,
                    60,
                    0.2,
                    7.57,
                    1,
                    1,
                    0,
                    0,
                    512.25,
                    512.25,
                    12.31,
                    354.33,
                    2,
                    0,
                    0,
                    252.92,
                    252.92,
                    1,
                    240.77,
                    1,
                    310.42,
                    323.77,
                    451.27,
                    829.41,
                    1.18,
                    9.21,
                    6.99,
                    38.76,
                    52.69,
                    1,
                    1,
                    261.22,
                    18,
                    600.73,
                    1,
                    75.86,
                    8.54,
                    0.01,
                    44.9,
                    44.9,
                    316.06,
                    316.06,
                    209.65,
                    78,
                    78,
                    188.52,
                    188.52,
                    30.31,
                    30.31,
                    104.03,
                    104.03,
                    1,
                    1,
                    37.93,
                    97,
                    11.4,
                    45.48,
                    1,
                    1,
                    1,
                    1,
                    1,
                    33.76,
                    571.48,
                    1.63,
                    1.63,
                    18.96,
                    33.59,
                    1,
                    8.64,
                    9.82,
                    2.28,
                    1,
                    0.76,
                    1,
                    0.92,
                    2.28,
                    147.87,
                    0,
                    22.04,
                    0,
                    104,
                    2.28,
                    0.01,
                    1,
                    346.94,
                    7.59,
                    0,
                    0,
                    119.74,
                    2.27,
                    0,
                    186.13,
                    1,
                    0.76,
                    80.22,
                    635.1
                  ],
                  "mode": "markers",
                  "marker": {
                    "color": "rgb(238,23,11)",
                    "opacity": 0.5,
                    "line": {
                      "color": "red",
                      "width": 1
                    }
                  },
                  "x": [
                    406,
                    472,
                    4462,
                    6986,
                    7519,
                    7526,
                    7535,
                    7543,
                    7551,
                    7610,
                    7672,
                    7740,
                    7891,
                    8090,
                    8169,
                    8408,
                    8415,
                    8451,
                    8528,
                    8614,
                    8757,
                    8808,
                    8878,
                    8886,
                    9064,
                    11080,
                    11092,
                    11131,
                    11629,
                    11635,
                    12093,
                    12095,
                    12393,
                    12597,
                    13126,
                    13323,
                    14073,
                    14152,
                    15817,
                    17187,
                    17220,
                    17230,
                    17520,
                    17838,
                    18088,
                    18399,
                    18675,
                    18690,
                    19762,
                    20011,
                    20332,
                    20451,
                    20931,
                    21046,
                    21419,
                    21662,
                    25095,
                    25198,
                    25231,
                    25254,
                    25426,
                    26523,
                    26556,
                    26585,
                    26833,
                    26863,
                    26899,
                    26931,
                    26961,
                    27163,
                    27187,
                    27219,
                    27252,
                    27784,
                    28143,
                    28242,
                    28625,
                    28658,
                    28692,
                    28726,
                    28755,
                    29526,
                    29531,
                    29753,
                    29785,
                    30852,
                    32686,
                    32745,
                    34256,
                    34521,
                    34634,
                    34684,
                    34687,
                    35585,
                    35771,
                    35866,
                    35899,
                    35906,
                    35926,
                    35942,
                    35953,
                    36170,
                    37167,
                    39729,
                    40086,
                    40276,
                    40662,
                    40742,
                    40892,
                    40918,
                    40919,
                    41116,
                    41138,
                    41147,
                    41164,
                    41170,
                    41181,
                    41194,
                    41203,
                    41204,
                    41227,
                    41233,
                    41237,
                    41243,
                    41273,
                    41285,
                    41305,
                    41308,
                    41313,
                    41353,
                    41397,
                    41413,
                    41505,
                    41582,
                    41607,
                    41646,
                    41743,
                    41791,
                    41851,
                    41870,
                    41991,
                    42247,
                    42474,
                    42985,
                    42988,
                    43028,
                    43369,
                    43494,
                    44393,
                    44532,
                    45463,
                    45501,
                    45541,
                    46057,
                    46149,
                    46925,
                    47545,
                    47826,
                    47923,
                    47982,
                    48380,
                    48533,
                    48884,
                    49985,
                    50706,
                    50808,
                    51112,
                    51135,
                    51155,
                    52814,
                    52934,
                    53031,
                    53076,
                    53451,
                    53658,
                    53727,
                    53937,
                    54846,
                    55279,
                    55311,
                    55614,
                    55618,
                    55760,
                    56098,
                    56624,
                    56650,
                    56806,
                    56887,
                    57007,
                    57027,
                    57163,
                    58060,
                    58067,
                    58199,
                    58217,
                    58222,
                    58642,
                    58822,
                    59011,
                    59385,
                    59669,
                    59777,
                    59840,
                    60353,
                    61108,
                    61646,
                    62059,
                    62080,
                    62330,
                    62341,
                    62467,
                    63578,
                    64093,
                    64412,
                    64443,
                    64585,
                    64785,
                    65358,
                    65385,
                    65728,
                    65936,
                    66037,
                    67150,
                    67571,
                    67857,
                    68207,
                    68207,
                    68207,
                    68207,
                    68207,
                    68207,
                    68357,
                    69394,
                    70071,
                    70229,
                    70270,
                    70536,
                    70828,
                    71033,
                    72327,
                    72824,
                    73408,
                    74159,
                    74262,
                    75033,
                    75556,
                    75581,
                    75851,
                    75978,
                    76575,
                    76826,
                    76845,
                    76857,
                    76867,
                    76876,
                    77154,
                    77171,
                    77182,
                    77202,
                    77627,
                    78725,
                    79540,
                    81372,
                    82289,
                    83934,
                    84204,
                    84204,
                    84204,
                    84204,
                    84694,
                    84789,
                    85181,
                    85285,
                    85285,
                    85285,
                    85285,
                    85573,
                    85576,
                    85864,
                    85867,
                    86376,
                    87202,
                    87883,
                    88672,
                    88737,
                    90676,
                    91075,
                    91407,
                    91502,
                    91524,
                    91554,
                    92092,
                    92102,
                    93742,
                    93823,
                    93824,
                    93834,
                    93853,
                    93853,
                    93853,
                    93853,
                    93856,
                    93860,
                    93860,
                    93860,
                    93860,
                    93879,
                    93879,
                    93879,
                    93879,
                    93888,
                    93897,
                    93904,
                    93920,
                    93965,
                    94141,
                    94362,
                    94362,
                    94362,
                    94362,
                    94364,
                    94625,
                    94952,
                    95559,
                    95628,
                    96135,
                    96291,
                    96717,
                    97121,
                    97235,
                    100223,
                    100298,
                    100501,
                    100924,
                    101051,
                    101313,
                    101597,
                    102114,
                    102318,
                    102480,
                    102489,
                    102542,
                    102572,
                    102619,
                    102622,
                    102625,
                    102669,
                    102671,
                    102676,
                    103808,
                    109297,
                    109298,
                    110087,
                    110547,
                    110552,
                    110617
                  ],
                  "type": "scatter"
                }
              ],
              "config": {
                "plotlyServerURL": "https://plot.ly",
                "linkText": "Export to plot.ly",
                "showLink": false
              },
              "layout": {
                "hovermode": "closest",
                "yaxis": {
                  "title": {
                    "text": "Amount"
                  }
                },
                "xaxis": {
                  "showticklabels": true,
                  "title": {
                    "text": "Time [s]"
                  }
                },
                "template": {
                  "layout": {
                    "shapedefaults": {
                      "line": {
                        "color": "#2a3f5f"
                      }
                    },
                    "polar": {
                      "radialaxis": {
                        "ticks": "",
                        "gridcolor": "white",
                        "linecolor": "white"
                      },
                      "bgcolor": "#E5ECF6",
                      "angularaxis": {
                        "ticks": "",
                        "gridcolor": "white",
                        "linecolor": "white"
                      }
                    },
                    "colorway": [
                      "#636efa",
                      "#EF553B",
                      "#00cc96",
                      "#ab63fa",
                      "#FFA15A",
                      "#19d3f3",
                      "#FF6692",
                      "#B6E880",
                      "#FF97FF",
                      "#FECB52"
                    ],
                    "xaxis": {
                      "automargin": true,
                      "title": {
                        "standoff": 15
                      },
                      "zerolinewidth": 2,
                      "ticks": "",
                      "zerolinecolor": "white",
                      "gridcolor": "white",
                      "linecolor": "white"
                    },
                    "colorscale": {
                      "diverging": [
                        [
                          0,
                          "#8e0152"
                        ],
                        [
                          0.1,
                          "#c51b7d"
                        ],
                        [
                          0.2,
                          "#de77ae"
                        ],
                        [
                          0.3,
                          "#f1b6da"
                        ],
                        [
                          0.4,
                          "#fde0ef"
                        ],
                        [
                          0.5,
                          "#f7f7f7"
                        ],
                        [
                          0.6,
                          "#e6f5d0"
                        ],
                        [
                          0.7,
                          "#b8e186"
                        ],
                        [
                          0.8,
                          "#7fbc41"
                        ],
                        [
                          0.9,
                          "#4d9221"
                        ],
                        [
                          1,
                          "#276419"
                        ]
                      ],
                      "sequential": [
                        [
                          0,
                          "#0d0887"
                        ],
                        [
                          0.1111111111111111,
                          "#46039f"
                        ],
                        [
                          0.2222222222222222,
                          "#7201a8"
                        ],
                        [
                          0.3333333333333333,
                          "#9c179e"
                        ],
                        [
                          0.4444444444444444,
                          "#bd3786"
                        ],
                        [
                          0.5555555555555556,
                          "#d8576b"
                        ],
                        [
                          0.6666666666666666,
                          "#ed7953"
                        ],
                        [
                          0.7777777777777778,
                          "#fb9f3a"
                        ],
                        [
                          0.8888888888888888,
                          "#fdca26"
                        ],
                        [
                          1,
                          "#f0f921"
                        ]
                      ],
                      "sequentialminus": [
                        [
                          0,
                          "#0d0887"
                        ],
                        [
                          0.1111111111111111,
                          "#46039f"
                        ],
                        [
                          0.2222222222222222,
                          "#7201a8"
                        ],
                        [
                          0.3333333333333333,
                          "#9c179e"
                        ],
                        [
                          0.4444444444444444,
                          "#bd3786"
                        ],
                        [
                          0.5555555555555556,
                          "#d8576b"
                        ],
                        [
                          0.6666666666666666,
                          "#ed7953"
                        ],
                        [
                          0.7777777777777778,
                          "#fb9f3a"
                        ],
                        [
                          0.8888888888888888,
                          "#fdca26"
                        ],
                        [
                          1,
                          "#f0f921"
                        ]
                      ]
                    },
                    "paper_bgcolor": "white",
                    "plot_bgcolor": "#E5ECF6",
                    "title": {
                      "x": 0.05
                    },
                    "scene": {
                      "zaxis": {
                        "backgroundcolor": "#E5ECF6",
                        "ticks": "",
                        "gridwidth": 2,
                        "showbackground": true,
                        "zerolinecolor": "white",
                        "gridcolor": "white",
                        "linecolor": "white"
                      },
                      "xaxis": {
                        "backgroundcolor": "#E5ECF6",
                        "ticks": "",
                        "gridwidth": 2,
                        "showbackground": true,
                        "zerolinecolor": "white",
                        "gridcolor": "white",
                        "linecolor": "white"
                      },
                      "yaxis": {
                        "backgroundcolor": "#E5ECF6",
                        "ticks": "",
                        "gridwidth": 2,
                        "showbackground": true,
                        "zerolinecolor": "white",
                        "gridcolor": "white",
                        "linecolor": "white"
                      }
                    },
                    "yaxis": {
                      "automargin": true,
                      "title": {
                        "standoff": 15
                      },
                      "zerolinewidth": 2,
                      "ticks": "",
                      "zerolinecolor": "white",
                      "gridcolor": "white",
                      "linecolor": "white"
                    },
                    "annotationdefaults": {
                      "arrowwidth": 1,
                      "arrowhead": 0,
                      "arrowcolor": "#2a3f5f"
                    },
                    "hoverlabel": {
                      "align": "left"
                    },
                    "ternary": {
                      "bgcolor": "#E5ECF6",
                      "baxis": {
                        "ticks": "",
                        "gridcolor": "white",
                        "linecolor": "white"
                      },
                      "caxis": {
                        "ticks": "",
                        "gridcolor": "white",
                        "linecolor": "white"
                      },
                      "aaxis": {
                        "ticks": "",
                        "gridcolor": "white",
                        "linecolor": "white"
                      }
                    },
                    "mapbox": {
                      "style": "light"
                    },
                    "hovermode": "closest",
                    "font": {
                      "color": "#2a3f5f"
                    },
                    "geo": {
                      "showland": true,
                      "landcolor": "#E5ECF6",
                      "showlakes": true,
                      "bgcolor": "white",
                      "subunitcolor": "white",
                      "lakecolor": "white"
                    },
                    "coloraxis": {
                      "colorbar": {
                        "outlinewidth": 0,
                        "ticks": ""
                      }
                    }
                  },
                  "data": {
                    "mesh3d": [
                      {
                        "colorbar": {
                          "outlinewidth": 0,
                          "ticks": ""
                        },
                        "type": "mesh3d"
                      }
                    ],
                    "scattercarpet": [
                      {
                        "marker": {
                          "colorbar": {
                            "outlinewidth": 0,
                            "ticks": ""
                          }
                        },
                        "type": "scattercarpet"
                      }
                    ],
                    "pie": [
                      {
                        "automargin": true,
                        "type": "pie"
                      }
                    ],
                    "surface": [
                      {
                        "colorbar": {
                          "outlinewidth": 0,
                          "ticks": ""
                        },
                        "type": "surface",
                        "colorscale": [
                          [
                            0,
                            "#0d0887"
                          ],
                          [
                            0.1111111111111111,
                            "#46039f"
                          ],
                          [
                            0.2222222222222222,
                            "#7201a8"
                          ],
                          [
                            0.3333333333333333,
                            "#9c179e"
                          ],
                          [
                            0.4444444444444444,
                            "#bd3786"
                          ],
                          [
                            0.5555555555555556,
                            "#d8576b"
                          ],
                          [
                            0.6666666666666666,
                            "#ed7953"
                          ],
                          [
                            0.7777777777777778,
                            "#fb9f3a"
                          ],
                          [
                            0.8888888888888888,
                            "#fdca26"
                          ],
                          [
                            1,
                            "#f0f921"
                          ]
                        ]
                      }
                    ],
                    "table": [
                      {
                        "header": {
                          "line": {
                            "color": "white"
                          },
                          "fill": {
                            "color": "#C8D4E3"
                          }
                        },
                        "cells": {
                          "line": {
                            "color": "white"
                          },
                          "fill": {
                            "color": "#EBF0F8"
                          }
                        },
                        "type": "table"
                      }
                    ],
                    "scatterpolargl": [
                      {
                        "marker": {
                          "colorbar": {
                            "outlinewidth": 0,
                            "ticks": ""
                          }
                        },
                        "type": "scatterpolargl"
                      }
                    ],
                    "contour": [
                      {
                        "colorbar": {
                          "outlinewidth": 0,
                          "ticks": ""
                        },
                        "type": "contour",
                        "colorscale": [
                          [
                            0,
                            "#0d0887"
                          ],
                          [
                            0.1111111111111111,
                            "#46039f"
                          ],
                          [
                            0.2222222222222222,
                            "#7201a8"
                          ],
                          [
                            0.3333333333333333,
                            "#9c179e"
                          ],
                          [
                            0.4444444444444444,
                            "#bd3786"
                          ],
                          [
                            0.5555555555555556,
                            "#d8576b"
                          ],
                          [
                            0.6666666666666666,
                            "#ed7953"
                          ],
                          [
                            0.7777777777777778,
                            "#fb9f3a"
                          ],
                          [
                            0.8888888888888888,
                            "#fdca26"
                          ],
                          [
                            1,
                            "#f0f921"
                          ]
                        ]
                      }
                    ],
                    "carpet": [
                      {
                        "type": "carpet",
                        "baxis": {
                          "minorgridcolor": "white",
                          "gridcolor": "white",
                          "linecolor": "white",
                          "endlinecolor": "#2a3f5f",
                          "startlinecolor": "#2a3f5f"
                        },
                        "aaxis": {
                          "minorgridcolor": "white",
                          "gridcolor": "white",
                          "linecolor": "white",
                          "endlinecolor": "#2a3f5f",
                          "startlinecolor": "#2a3f5f"
                        }
                      }
                    ],
                    "contourcarpet": [
                      {
                        "colorbar": {
                          "outlinewidth": 0,
                          "ticks": ""
                        },
                        "type": "contourcarpet"
                      }
                    ],
                    "heatmap": [
                      {
                        "colorbar": {
                          "outlinewidth": 0,
                          "ticks": ""
                        },
                        "type": "heatmap",
                        "colorscale": [
                          [
                            0,
                            "#0d0887"
                          ],
                          [
                            0.1111111111111111,
                            "#46039f"
                          ],
                          [
                            0.2222222222222222,
                            "#7201a8"
                          ],
                          [
                            0.3333333333333333,
                            "#9c179e"
                          ],
                          [
                            0.4444444444444444,
                            "#bd3786"
                          ],
                          [
                            0.5555555555555556,
                            "#d8576b"
                          ],
                          [
                            0.6666666666666666,
                            "#ed7953"
                          ],
                          [
                            0.7777777777777778,
                            "#fb9f3a"
                          ],
                          [
                            0.8888888888888888,
                            "#fdca26"
                          ],
                          [
                            1,
                            "#f0f921"
                          ]
                        ]
                      }
                    ],
                    "scattermapbox": [
                      {
                        "marker": {
                          "colorbar": {
                            "outlinewidth": 0,
                            "ticks": ""
                          }
                        },
                        "type": "scattermapbox"
                      }
                    ],
                    "scatter3d": [
                      {
                        "marker": {
                          "colorbar": {
                            "outlinewidth": 0,
                            "ticks": ""
                          }
                        },
                        "line": {
                          "colorbar": {
                            "outlinewidth": 0,
                            "ticks": ""
                          }
                        },
                        "type": "scatter3d"
                      }
                    ],
                    "scattergl": [
                      {
                        "marker": {
                          "colorbar": {
                            "outlinewidth": 0,
                            "ticks": ""
                          }
                        },
                        "type": "scattergl"
                      }
                    ],
                    "scatterternary": [
                      {
                        "marker": {
                          "colorbar": {
                            "outlinewidth": 0,
                            "ticks": ""
                          }
                        },
                        "type": "scatterternary"
                      }
                    ],
                    "histogram": [
                      {
                        "marker": {
                          "colorbar": {
                            "outlinewidth": 0,
                            "ticks": ""
                          }
                        },
                        "type": "histogram"
                      }
                    ],
                    "heatmapgl": [
                      {
                        "colorbar": {
                          "outlinewidth": 0,
                          "ticks": ""
                        },
                        "type": "heatmapgl",
                        "colorscale": [
                          [
                            0,
                            "#0d0887"
                          ],
                          [
                            0.1111111111111111,
                            "#46039f"
                          ],
                          [
                            0.2222222222222222,
                            "#7201a8"
                          ],
                          [
                            0.3333333333333333,
                            "#9c179e"
                          ],
                          [
                            0.4444444444444444,
                            "#bd3786"
                          ],
                          [
                            0.5555555555555556,
                            "#d8576b"
                          ],
                          [
                            0.6666666666666666,
                            "#ed7953"
                          ],
                          [
                            0.7777777777777778,
                            "#fb9f3a"
                          ],
                          [
                            0.8888888888888888,
                            "#fdca26"
                          ],
                          [
                            1,
                            "#f0f921"
                          ]
                        ]
                      }
                    ],
                    "scatterpolar": [
                      {
                        "marker": {
                          "colorbar": {
                            "outlinewidth": 0,
                            "ticks": ""
                          }
                        },
                        "type": "scatterpolar"
                      }
                    ],
                    "histogram2d": [
                      {
                        "colorbar": {
                          "outlinewidth": 0,
                          "ticks": ""
                        },
                        "type": "histogram2d",
                        "colorscale": [
                          [
                            0,
                            "#0d0887"
                          ],
                          [
                            0.1111111111111111,
                            "#46039f"
                          ],
                          [
                            0.2222222222222222,
                            "#7201a8"
                          ],
                          [
                            0.3333333333333333,
                            "#9c179e"
                          ],
                          [
                            0.4444444444444444,
                            "#bd3786"
                          ],
                          [
                            0.5555555555555556,
                            "#d8576b"
                          ],
                          [
                            0.6666666666666666,
                            "#ed7953"
                          ],
                          [
                            0.7777777777777778,
                            "#fb9f3a"
                          ],
                          [
                            0.8888888888888888,
                            "#fdca26"
                          ],
                          [
                            1,
                            "#f0f921"
                          ]
                        ]
                      }
                    ],
                    "scattergeo": [
                      {
                        "marker": {
                          "colorbar": {
                            "outlinewidth": 0,
                            "ticks": ""
                          }
                        },
                        "type": "scattergeo"
                      }
                    ],
                    "bar": [
                      {
                        "marker": {
                          "line": {
                            "color": "#E5ECF6",
                            "width": 0.5
                          }
                        },
                        "type": "bar",
                        "error_x": {
                          "color": "#2a3f5f"
                        },
                        "error_y": {
                          "color": "#2a3f5f"
                        }
                      }
                    ],
                    "choropleth": [
                      {
                        "colorbar": {
                          "outlinewidth": 0,
                          "ticks": ""
                        },
                        "type": "choropleth"
                      }
                    ],
                    "parcoords": [
                      {
                        "line": {
                          "colorbar": {
                            "outlinewidth": 0,
                            "ticks": ""
                          }
                        },
                        "type": "parcoords"
                      }
                    ],
                    "barpolar": [
                      {
                        "marker": {
                          "line": {
                            "color": "#E5ECF6",
                            "width": 0.5
                          }
                        },
                        "type": "barpolar"
                      }
                    ],
                    "histogram2dcontour": [
                      {
                        "colorbar": {
                          "outlinewidth": 0,
                          "ticks": ""
                        },
                        "type": "histogram2dcontour",
                        "colorscale": [
                          [
                            0,
                            "#0d0887"
                          ],
                          [
                            0.1111111111111111,
                            "#46039f"
                          ],
                          [
                            0.2222222222222222,
                            "#7201a8"
                          ],
                          [
                            0.3333333333333333,
                            "#9c179e"
                          ],
                          [
                            0.4444444444444444,
                            "#bd3786"
                          ],
                          [
                            0.5555555555555556,
                            "#d8576b"
                          ],
                          [
                            0.6666666666666666,
                            "#ed7953"
                          ],
                          [
                            0.7777777777777778,
                            "#fb9f3a"
                          ],
                          [
                            0.8888888888888888,
                            "#fdca26"
                          ],
                          [
                            1,
                            "#f0f921"
                          ]
                        ]
                      }
                    ],
                    "scatter": [
                      {
                        "marker": {
                          "colorbar": {
                            "outlinewidth": 0,
                            "ticks": ""
                          }
                        },
                        "type": "scatter"
                      }
                    ]
                  }
                },
                "title": {
                  "text": "Amount of fraudulent transactions"
                }
              }
            }
          },
          "metadata": {
            "tags": []
          }
        }
      ]
    },
    {
      "cell_type": "code",
      "metadata": {
        "id": "gwSqVJGLoldx",
        "colab_type": "code",
        "colab": {}
      },
      "source": [
        ""
      ],
      "execution_count": 0,
      "outputs": []
    },
    {
      "cell_type": "markdown",
      "metadata": {
        "id": "FFdF_oXBouI9",
        "colab_type": "text"
      },
      "source": [
        "Features correlation"
      ]
    },
    {
      "cell_type": "code",
      "metadata": {
        "id": "PfpM3tiFoyA7",
        "colab_type": "code",
        "colab": {
          "base_uri": "https://localhost:8080/",
          "height": 854
        },
        "outputId": "998707a0-ee38-480f-d60b-96285ea478e0"
      },
      "source": [
        "plt.figure(figsize = (14,14))\n",
        "plt.title('Credit Card Transactions features correlation plot (Pearson)')\n",
        "corr = df.corr()\n",
        "sns.heatmap(corr,xticklabels=corr.columns,yticklabels=corr.columns,linewidths=.1,cmap=\"Reds\")\n",
        "plt.show()"
      ],
      "execution_count": 43,
      "outputs": [
        {
          "output_type": "display_data",
          "data": {
            "image/png": "[encoded data removed]",
            "text/plain": [
              "<Figure size 1008x1008 with 2 Axes>"
            ]
          },
          "metadata": {
            "tags": [],
            "needs_background": "light"
          }
        }
      ]
    },
    {
      "cell_type": "code",
      "metadata": {
        "id": "nKy97bXpo-dj",
        "colab_type": "code",
        "colab": {
          "base_uri": "https://localhost:8080/",
          "height": 721
        },
        "outputId": "b03ed75e-ab49-4e61-e74c-4c17e6c70114"
      },
      "source": [
        "s = sns.lmplot(x='V20', y='Amount',data=df, hue='Class', fit_reg=True,scatter_kws={'s':2})\n",
        "s = sns.lmplot(x='V7', y='Amount',data=df, hue='Class', fit_reg=True,scatter_kws={'s':2})\n",
        "plt.show()"
      ],
      "execution_count": 45,
      "outputs": [
        {
          "output_type": "display_data",
          "data": {
            "image/png": "[encoded data removed]",
            "text/plain": [
              "<Figure size 411.875x360 with 1 Axes>"
            ]
          },
          "metadata": {
            "tags": [],
            "needs_background": "light"
          }
        },
        {
          "output_type": "display_data",
          "data": {
            "image/png": "[encoded data removed]",
            "text/plain": [
              "<Figure size 411.875x360 with 1 Axes>"
            ]
          },
          "metadata": {
            "tags": [],
            "needs_background": "light"
          }
        }
      ]
    },
    {
      "cell_type": "code",
      "metadata": {
        "id": "KX6iRX5BpOY4",
        "colab_type": "code",
        "colab": {
          "base_uri": "https://localhost:8080/",
          "height": 721
        },
        "outputId": "1b4d75b5-4bf5-40d0-a58c-62169afef079"
      },
      "source": [
        "s = sns.lmplot(x='V2', y='Amount',data=df, hue='Class', fit_reg=True,scatter_kws={'s':2})\n",
        "s = sns.lmplot(x='V5', y='Amount',data=df, hue='Class', fit_reg=True,scatter_kws={'s':2})\n",
        "plt.show()"
      ],
      "execution_count": 46,
      "outputs": [
        {
          "output_type": "display_data",
          "data": {
            "image/png": "[encoded data removed]",
            "text/plain": [
              "<Figure size 411.875x360 with 1 Axes>"
            ]
          },
          "metadata": {
            "tags": [],
            "needs_background": "light"
          }
        },
        {
          "output_type": "display_data",
          "data": {
            "image/png": "[encoded data removed]",
            "text/plain": [
              "<Figure size 411.875x360 with 1 Axes>"
            ]
          },
          "metadata": {
            "tags": [],
            "needs_background": "light"
          }
        }
      ]
    },
    {
      "cell_type": "markdown",
      "metadata": {
        "id": "SpUZEYnNpYpW",
        "colab_type": "text"
      },
      "source": [
        "Features density plot\n"
      ]
    },
    {
      "cell_type": "code",
      "metadata": {
        "id": "pLjgJ-EUpbNr",
        "colab_type": "code",
        "colab": {
          "base_uri": "https://localhost:8080/",
          "height": 1000
        },
        "outputId": "83a45e86-94b9-4621-98b3-b1bc6c186042"
      },
      "source": [
        "var = df.columns.values\n",
        "\n",
        "i = 0\n",
        "t0 = df.loc[df['Class'] == 0]\n",
        "t1 = df.loc[df['Class'] == 1]\n",
        "\n",
        "sns.set_style('whitegrid')\n",
        "plt.figure()\n",
        "fig, ax = plt.subplots(8,4,figsize=(16,28))\n",
        "\n",
        "for feature in var:\n",
        "    i += 1\n",
        "    plt.subplot(8,4,i)\n",
        "    sns.kdeplot(t0[feature], bw=0.5,label=\"Class = 0\")\n",
        "    sns.kdeplot(t1[feature], bw=0.5,label=\"Class = 1\")\n",
        "    plt.xlabel(feature, fontsize=12)\n",
        "    locs, labels = plt.xticks()\n",
        "    plt.tick_params(axis='both', which='major', labelsize=12)\n",
        "plt.show();\n"
      ],
      "execution_count": 49,
      "outputs": [
        {
          "output_type": "stream",
          "text": [
            "/usr/local/lib/python3.6/dist-packages/seaborn/distributions.py:283: UserWarning:\n",
            "\n",
            "Data must have variance to compute a kernel density estimate.\n",
            "\n",
            "/usr/local/lib/python3.6/dist-packages/seaborn/distributions.py:283: UserWarning:\n",
            "\n",
            "Data must have variance to compute a kernel density estimate.\n",
            "\n"
          ],
          "name": "stderr"
        },
        {
          "output_type": "display_data",
          "data": {
            "text/plain": [
              "<Figure size 432x288 with 0 Axes>"
            ]
          },
          "metadata": {
            "tags": []
          }
        },
        {
          "output_type": "display_data",
          "data": {
            "image/png": "[encoded data removed]",
            "text/plain": [
              "<Figure size 1152x2016 with 32 Axes>"
            ]
          },
          "metadata": {
            "tags": []
          }
        }
      ]
    },
    {
      "cell_type": "code",
      "metadata": {
        "id": "WbJ75Rr0ptKX",
        "colab_type": "code",
        "colab": {}
      },
      "source": [
        ""
      ],
      "execution_count": 0,
      "outputs": []
    },
    {
      "cell_type": "markdown",
      "metadata": {
        "id": "pOePlnc1p0Zi",
        "colab_type": "text"
      },
      "source": [
        "Predictive models¶\n",
        "Define predictors and target values\n",
        "Let's define the predictor features and the target features. Categorical features, if any, are also defined. In our case, there are no categorical feature."
      ]
    },
    {
      "cell_type": "code",
      "metadata": {
        "id": "imuuL8RUp3OO",
        "colab_type": "code",
        "colab": {}
      },
      "source": [
        "target = 'Class'\n",
        "predictors = ['Time', 'V1', 'V2', 'V3', 'V4', 'V5', 'V6', 'V7', 'V8', 'V9', 'V10',\\\n",
        "       'V11', 'V12', 'V13', 'V14', 'V15', 'V16', 'V17', 'V18', 'V19',\\\n",
        "       'V20', 'V21', 'V22', 'V23', 'V24', 'V25', 'V26', 'V27', 'V28',\\\n",
        "       'Amount']"
      ],
      "execution_count": 0,
      "outputs": []
    },
    {
      "cell_type": "markdown",
      "metadata": {
        "id": "B-gz0qg6qK1v",
        "colab_type": "text"
      },
      "source": [
        "Split data in train, test and validation set¶\n"
      ]
    },
    {
      "cell_type": "code",
      "metadata": {
        "id": "UwIt8Wv5qOF0",
        "colab_type": "code",
        "colab": {}
      },
      "source": [
        "train_df, test_df = train_test_split(df, test_size=TEST_SIZE, random_state=RANDOM_STATE, shuffle=True )\n",
        "train_df, valid_df = train_test_split(train_df, test_size=VALID_SIZE, random_state=RANDOM_STATE, shuffle=True )"
      ],
      "execution_count": 0,
      "outputs": []
    },
    {
      "cell_type": "markdown",
      "metadata": {
        "id": "pV8WkTMPraZ7",
        "colab_type": "text"
      },
      "source": [
        "RandomForestClassifier\n"
      ]
    },
    {
      "cell_type": "code",
      "metadata": {
        "id": "BO0BX11arbnP",
        "colab_type": "code",
        "colab": {}
      },
      "source": [
        "clf = RandomForestClassifier(n_jobs=NO_JOBS, \n",
        "                             random_state=RANDOM_STATE,\n",
        "                             criterion=RFC_METRIC,\n",
        "                             n_estimators=NUM_ESTIMATORS,\n",
        "                             verbose=False)"
      ],
      "execution_count": 0,
      "outputs": []
    },
    {
      "cell_type": "code",
      "metadata": {
        "id": "LTUAFSPzrw3d",
        "colab_type": "code",
        "colab": {}
      },
      "source": [
        "tmp = pd.DataFrame({'Feature': predictors, 'Feature importance': clf.feature_importances_})\n",
        "tmp = tmp.sort_values(by='Feature importance',ascending=False)\n",
        "plt.figure(figsize = (7,4))\n",
        "plt.title('Features importance',fontsize=14)\n",
        "s = sns.barplot(x='Feature',y='Feature importance',data=tmp)\n",
        "s.set_xticklabels(s.get_xticklabels(),rotation=90)\n",
        "plt.show()   \n"
      ],
      "execution_count": 0,
      "outputs": []
    },
    {
      "cell_type": "markdown",
      "metadata": {
        "id": "xX7I5UgssSSJ",
        "colab_type": "text"
      },
      "source": [
        "CONFUSION MATRIX\n"
      ]
    },
    {
      "cell_type": "code",
      "metadata": {
        "id": "4NhIhFTGsW4-",
        "colab_type": "code",
        "colab": {}
      },
      "source": [
        "cm = pd.crosstab(df[target].values, rownames=['Actual'], colnames=['Predicted'])\n",
        "fig, (ax1) = plt.subplots(ncols=1, figsize=(5,5))\n",
        "sns.heatmap(cm, \n",
        "            xticklabels=['Not Fraud', 'Fraud'],\n",
        "            yticklabels=['Not Fraud', 'Fraud'],\n",
        "            annot=True,ax=ax1,\n",
        "            linewidths=.2,linecolor=\"Darkblue\", cmap=\"Blues\")\n",
        "plt.title('Confusion Matrix', fontsize=14)\n",
        "plt.show()"
      ],
      "execution_count": 0,
      "outputs": []
    }
  ]
}